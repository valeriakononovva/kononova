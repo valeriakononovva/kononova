{
 "cells": [
  {
   "cell_type": "code",
   "execution_count": 236,
   "metadata": {},
   "outputs": [],
   "source": [
    "import pandas as pd\n",
    "import matplotlib.pyplot as plt\n",
    "import seaborn as sns\n",
    "import plotly.express as px\n",
    "import numpy as np"
   ]
  },
  {
   "cell_type": "markdown",
   "metadata": {},
   "source": [
    "The growth of supermarkets in most populated cities are increasing and market competitions are also high. The dataset is one of the historical sales of supermarket company which has recorded in 3 different branches for 3 months data. Predictive data analytics methods are easy to apply with this dataset.\n",
    "\n",
    "- Attribute information\n",
    "\n",
    "- Invoice id: Computer generated sales slip invoice identification number\n",
    "\n",
    "- Branch: Branch of supercenter (3 branches are available identified by A, B and C).\n",
    "\n",
    "- City: Location of supercenters\n",
    "\n",
    "- Customer type: Type of customers, recorded by Members for customers using member card and Normal for without member card.\n",
    "\n",
    "- Gender: Gender type of customer\n",
    "\n",
    "- Product line: General item categorization groups - Electronic accessories, Fashion accessories, Food and beverages, Health and beauty, Home and lifestyle, Sports and travel\n",
    "\n",
    "- Unit price: Price of each product in $\n",
    "\n",
    "- Quantity: Number of products purchased by customer\n",
    "\n",
    "- Tax: 5% tax fee for customer buying\n",
    "\n",
    "- Total: Total price including tax\n",
    "\n",
    "- Date: Date of purchase (Record available from January 2019 to March 2019)\n",
    "\n",
    "- Time: Purchase time (10am to 9pm)\n",
    "\n",
    "- Payment: Payment used by customer for purchase (3 methods are available – Cash, Credit card and Ewallet)\n",
    "\n",
    "- COGS: Cost of goods sold\n",
    "\n",
    "- Gross margin percentage: Gross margin percentage\n",
    "\n",
    "- Gross income: Gross income\n",
    "\n",
    "- Rating: Customer stratification rating on their overall shopping experience (On a scale of 1 to 10)"
   ]
  },
  {
   "cell_type": "code",
   "execution_count": 37,
   "metadata": {},
   "outputs": [],
   "source": [
    "df=pd.read_csv(r'C:\\Users\\supermarket_sales - Sheet1.csv')"
   ]
  },
  {
   "cell_type": "code",
   "execution_count": 38,
   "metadata": {},
   "outputs": [
    {
     "data": {
      "text/html": [
       "<div>\n",
       "<style scoped>\n",
       "    .dataframe tbody tr th:only-of-type {\n",
       "        vertical-align: middle;\n",
       "    }\n",
       "\n",
       "    .dataframe tbody tr th {\n",
       "        vertical-align: top;\n",
       "    }\n",
       "\n",
       "    .dataframe thead th {\n",
       "        text-align: right;\n",
       "    }\n",
       "</style>\n",
       "<table border=\"1\" class=\"dataframe\">\n",
       "  <thead>\n",
       "    <tr style=\"text-align: right;\">\n",
       "      <th></th>\n",
       "      <th>Invoice ID</th>\n",
       "      <th>Branch</th>\n",
       "      <th>City</th>\n",
       "      <th>Customer type</th>\n",
       "      <th>Gender</th>\n",
       "      <th>Product line</th>\n",
       "      <th>Unit price</th>\n",
       "      <th>Quantity</th>\n",
       "      <th>Tax 5%</th>\n",
       "      <th>Total</th>\n",
       "      <th>Date</th>\n",
       "      <th>Time</th>\n",
       "      <th>Payment</th>\n",
       "      <th>cogs</th>\n",
       "      <th>gross margin percentage</th>\n",
       "      <th>gross income</th>\n",
       "      <th>Rating</th>\n",
       "    </tr>\n",
       "  </thead>\n",
       "  <tbody>\n",
       "    <tr>\n",
       "      <th>0</th>\n",
       "      <td>750-67-8428</td>\n",
       "      <td>A</td>\n",
       "      <td>Yangon</td>\n",
       "      <td>Member</td>\n",
       "      <td>Female</td>\n",
       "      <td>Health and beauty</td>\n",
       "      <td>74.69</td>\n",
       "      <td>7</td>\n",
       "      <td>26.1415</td>\n",
       "      <td>548.9715</td>\n",
       "      <td>1/5/2019</td>\n",
       "      <td>13:08</td>\n",
       "      <td>Ewallet</td>\n",
       "      <td>522.83</td>\n",
       "      <td>4.761905</td>\n",
       "      <td>26.1415</td>\n",
       "      <td>9.1</td>\n",
       "    </tr>\n",
       "    <tr>\n",
       "      <th>1</th>\n",
       "      <td>226-31-3081</td>\n",
       "      <td>C</td>\n",
       "      <td>Naypyitaw</td>\n",
       "      <td>Normal</td>\n",
       "      <td>Female</td>\n",
       "      <td>Electronic accessories</td>\n",
       "      <td>15.28</td>\n",
       "      <td>5</td>\n",
       "      <td>3.8200</td>\n",
       "      <td>80.2200</td>\n",
       "      <td>3/8/2019</td>\n",
       "      <td>10:29</td>\n",
       "      <td>Cash</td>\n",
       "      <td>76.40</td>\n",
       "      <td>4.761905</td>\n",
       "      <td>3.8200</td>\n",
       "      <td>9.6</td>\n",
       "    </tr>\n",
       "    <tr>\n",
       "      <th>2</th>\n",
       "      <td>631-41-3108</td>\n",
       "      <td>A</td>\n",
       "      <td>Yangon</td>\n",
       "      <td>Normal</td>\n",
       "      <td>Male</td>\n",
       "      <td>Home and lifestyle</td>\n",
       "      <td>46.33</td>\n",
       "      <td>7</td>\n",
       "      <td>16.2155</td>\n",
       "      <td>340.5255</td>\n",
       "      <td>3/3/2019</td>\n",
       "      <td>13:23</td>\n",
       "      <td>Credit card</td>\n",
       "      <td>324.31</td>\n",
       "      <td>4.761905</td>\n",
       "      <td>16.2155</td>\n",
       "      <td>7.4</td>\n",
       "    </tr>\n",
       "    <tr>\n",
       "      <th>3</th>\n",
       "      <td>123-19-1176</td>\n",
       "      <td>A</td>\n",
       "      <td>Yangon</td>\n",
       "      <td>Member</td>\n",
       "      <td>Male</td>\n",
       "      <td>Health and beauty</td>\n",
       "      <td>58.22</td>\n",
       "      <td>8</td>\n",
       "      <td>23.2880</td>\n",
       "      <td>489.0480</td>\n",
       "      <td>1/27/2019</td>\n",
       "      <td>20:33</td>\n",
       "      <td>Ewallet</td>\n",
       "      <td>465.76</td>\n",
       "      <td>4.761905</td>\n",
       "      <td>23.2880</td>\n",
       "      <td>8.4</td>\n",
       "    </tr>\n",
       "    <tr>\n",
       "      <th>4</th>\n",
       "      <td>373-73-7910</td>\n",
       "      <td>A</td>\n",
       "      <td>Yangon</td>\n",
       "      <td>Normal</td>\n",
       "      <td>Male</td>\n",
       "      <td>Sports and travel</td>\n",
       "      <td>86.31</td>\n",
       "      <td>7</td>\n",
       "      <td>30.2085</td>\n",
       "      <td>634.3785</td>\n",
       "      <td>2/8/2019</td>\n",
       "      <td>10:37</td>\n",
       "      <td>Ewallet</td>\n",
       "      <td>604.17</td>\n",
       "      <td>4.761905</td>\n",
       "      <td>30.2085</td>\n",
       "      <td>5.3</td>\n",
       "    </tr>\n",
       "  </tbody>\n",
       "</table>\n",
       "</div>"
      ],
      "text/plain": [
       "    Invoice ID Branch       City Customer type  Gender  \\\n",
       "0  750-67-8428      A     Yangon        Member  Female   \n",
       "1  226-31-3081      C  Naypyitaw        Normal  Female   \n",
       "2  631-41-3108      A     Yangon        Normal    Male   \n",
       "3  123-19-1176      A     Yangon        Member    Male   \n",
       "4  373-73-7910      A     Yangon        Normal    Male   \n",
       "\n",
       "             Product line  Unit price  Quantity   Tax 5%     Total       Date  \\\n",
       "0       Health and beauty       74.69         7  26.1415  548.9715   1/5/2019   \n",
       "1  Electronic accessories       15.28         5   3.8200   80.2200   3/8/2019   \n",
       "2      Home and lifestyle       46.33         7  16.2155  340.5255   3/3/2019   \n",
       "3       Health and beauty       58.22         8  23.2880  489.0480  1/27/2019   \n",
       "4       Sports and travel       86.31         7  30.2085  634.3785   2/8/2019   \n",
       "\n",
       "    Time      Payment    cogs  gross margin percentage  gross income  Rating  \n",
       "0  13:08      Ewallet  522.83                 4.761905       26.1415     9.1  \n",
       "1  10:29         Cash   76.40                 4.761905        3.8200     9.6  \n",
       "2  13:23  Credit card  324.31                 4.761905       16.2155     7.4  \n",
       "3  20:33      Ewallet  465.76                 4.761905       23.2880     8.4  \n",
       "4  10:37      Ewallet  604.17                 4.761905       30.2085     5.3  "
      ]
     },
     "execution_count": 38,
     "metadata": {},
     "output_type": "execute_result"
    }
   ],
   "source": [
    "df.head()"
   ]
  },
  {
   "cell_type": "code",
   "execution_count": 39,
   "metadata": {},
   "outputs": [
    {
     "data": {
      "text/plain": [
       "(1000, 17)"
      ]
     },
     "execution_count": 39,
     "metadata": {},
     "output_type": "execute_result"
    }
   ],
   "source": [
    "df.shape"
   ]
  },
  {
   "cell_type": "code",
   "execution_count": 41,
   "metadata": {},
   "outputs": [
    {
     "data": {
      "text/html": [
       "<div>\n",
       "<style scoped>\n",
       "    .dataframe tbody tr th:only-of-type {\n",
       "        vertical-align: middle;\n",
       "    }\n",
       "\n",
       "    .dataframe tbody tr th {\n",
       "        vertical-align: top;\n",
       "    }\n",
       "\n",
       "    .dataframe thead th {\n",
       "        text-align: right;\n",
       "    }\n",
       "</style>\n",
       "<table border=\"1\" class=\"dataframe\">\n",
       "  <thead>\n",
       "    <tr style=\"text-align: right;\">\n",
       "      <th></th>\n",
       "      <th>Unit price</th>\n",
       "      <th>Quantity</th>\n",
       "      <th>Tax 5%</th>\n",
       "      <th>Total</th>\n",
       "      <th>cogs</th>\n",
       "      <th>gross margin percentage</th>\n",
       "      <th>gross income</th>\n",
       "      <th>Rating</th>\n",
       "    </tr>\n",
       "  </thead>\n",
       "  <tbody>\n",
       "    <tr>\n",
       "      <th>count</th>\n",
       "      <td>1000.000000</td>\n",
       "      <td>1000.000000</td>\n",
       "      <td>1000.000000</td>\n",
       "      <td>1000.000000</td>\n",
       "      <td>1000.00000</td>\n",
       "      <td>1000.000000</td>\n",
       "      <td>1000.000000</td>\n",
       "      <td>1000.00000</td>\n",
       "    </tr>\n",
       "    <tr>\n",
       "      <th>mean</th>\n",
       "      <td>55.672130</td>\n",
       "      <td>5.510000</td>\n",
       "      <td>15.379369</td>\n",
       "      <td>322.966749</td>\n",
       "      <td>307.58738</td>\n",
       "      <td>4.761905</td>\n",
       "      <td>15.379369</td>\n",
       "      <td>6.97270</td>\n",
       "    </tr>\n",
       "    <tr>\n",
       "      <th>std</th>\n",
       "      <td>26.494628</td>\n",
       "      <td>2.923431</td>\n",
       "      <td>11.708825</td>\n",
       "      <td>245.885335</td>\n",
       "      <td>234.17651</td>\n",
       "      <td>0.000000</td>\n",
       "      <td>11.708825</td>\n",
       "      <td>1.71858</td>\n",
       "    </tr>\n",
       "    <tr>\n",
       "      <th>min</th>\n",
       "      <td>10.080000</td>\n",
       "      <td>1.000000</td>\n",
       "      <td>0.508500</td>\n",
       "      <td>10.678500</td>\n",
       "      <td>10.17000</td>\n",
       "      <td>4.761905</td>\n",
       "      <td>0.508500</td>\n",
       "      <td>4.00000</td>\n",
       "    </tr>\n",
       "    <tr>\n",
       "      <th>25%</th>\n",
       "      <td>32.875000</td>\n",
       "      <td>3.000000</td>\n",
       "      <td>5.924875</td>\n",
       "      <td>124.422375</td>\n",
       "      <td>118.49750</td>\n",
       "      <td>4.761905</td>\n",
       "      <td>5.924875</td>\n",
       "      <td>5.50000</td>\n",
       "    </tr>\n",
       "    <tr>\n",
       "      <th>50%</th>\n",
       "      <td>55.230000</td>\n",
       "      <td>5.000000</td>\n",
       "      <td>12.088000</td>\n",
       "      <td>253.848000</td>\n",
       "      <td>241.76000</td>\n",
       "      <td>4.761905</td>\n",
       "      <td>12.088000</td>\n",
       "      <td>7.00000</td>\n",
       "    </tr>\n",
       "    <tr>\n",
       "      <th>75%</th>\n",
       "      <td>77.935000</td>\n",
       "      <td>8.000000</td>\n",
       "      <td>22.445250</td>\n",
       "      <td>471.350250</td>\n",
       "      <td>448.90500</td>\n",
       "      <td>4.761905</td>\n",
       "      <td>22.445250</td>\n",
       "      <td>8.50000</td>\n",
       "    </tr>\n",
       "    <tr>\n",
       "      <th>max</th>\n",
       "      <td>99.960000</td>\n",
       "      <td>10.000000</td>\n",
       "      <td>49.650000</td>\n",
       "      <td>1042.650000</td>\n",
       "      <td>993.00000</td>\n",
       "      <td>4.761905</td>\n",
       "      <td>49.650000</td>\n",
       "      <td>10.00000</td>\n",
       "    </tr>\n",
       "  </tbody>\n",
       "</table>\n",
       "</div>"
      ],
      "text/plain": [
       "        Unit price     Quantity       Tax 5%        Total        cogs  \\\n",
       "count  1000.000000  1000.000000  1000.000000  1000.000000  1000.00000   \n",
       "mean     55.672130     5.510000    15.379369   322.966749   307.58738   \n",
       "std      26.494628     2.923431    11.708825   245.885335   234.17651   \n",
       "min      10.080000     1.000000     0.508500    10.678500    10.17000   \n",
       "25%      32.875000     3.000000     5.924875   124.422375   118.49750   \n",
       "50%      55.230000     5.000000    12.088000   253.848000   241.76000   \n",
       "75%      77.935000     8.000000    22.445250   471.350250   448.90500   \n",
       "max      99.960000    10.000000    49.650000  1042.650000   993.00000   \n",
       "\n",
       "       gross margin percentage  gross income      Rating  \n",
       "count              1000.000000   1000.000000  1000.00000  \n",
       "mean                  4.761905     15.379369     6.97270  \n",
       "std                   0.000000     11.708825     1.71858  \n",
       "min                   4.761905      0.508500     4.00000  \n",
       "25%                   4.761905      5.924875     5.50000  \n",
       "50%                   4.761905     12.088000     7.00000  \n",
       "75%                   4.761905     22.445250     8.50000  \n",
       "max                   4.761905     49.650000    10.00000  "
      ]
     },
     "execution_count": 41,
     "metadata": {},
     "output_type": "execute_result"
    }
   ],
   "source": [
    "df.describe() #gross margin percentage имеет одинаковые значения во всех строках, можно удалить из df"
   ]
  },
  {
   "cell_type": "code",
   "execution_count": 246,
   "metadata": {},
   "outputs": [],
   "source": [
    "#переименовываем колонки с помощью функции (заменяем пробелы на _), названия колонок пишем с маленькой буквы\n",
    "def columns_rename (name):\n",
    "    name=name.replace(' ','_').lower()\n",
    "    return name\n",
    "df=df.rename(columns=f_rename)"
   ]
  },
  {
   "cell_type": "code",
   "execution_count": 268,
   "metadata": {},
   "outputs": [],
   "source": [
    "# переводим колонки со временем и датой в нужный формат\n",
    "df[['date', 'time']]=df[['date', 'time']].apply(pd.to_datetime) "
   ]
  },
  {
   "cell_type": "code",
   "execution_count": 266,
   "metadata": {},
   "outputs": [],
   "source": [
    "df=df.drop(['gross_margin_percentage','tax_5%'], axis=1) #удаляем ненужные столбцы"
   ]
  },
  {
   "cell_type": "code",
   "execution_count": null,
   "metadata": {},
   "outputs": [],
   "source": [
    "# проверяем на наличие пропущенных значений\n",
    "df.isna().sum() "
   ]
  },
  {
   "cell_type": "code",
   "execution_count": 49,
   "metadata": {},
   "outputs": [
    {
     "data": {
      "text/html": [
       "<div>\n",
       "<style scoped>\n",
       "    .dataframe tbody tr th:only-of-type {\n",
       "        vertical-align: middle;\n",
       "    }\n",
       "\n",
       "    .dataframe tbody tr th {\n",
       "        vertical-align: top;\n",
       "    }\n",
       "\n",
       "    .dataframe thead th {\n",
       "        text-align: right;\n",
       "    }\n",
       "</style>\n",
       "<table border=\"1\" class=\"dataframe\">\n",
       "  <thead>\n",
       "    <tr style=\"text-align: right;\">\n",
       "      <th></th>\n",
       "      <th>city</th>\n",
       "      <th>branch</th>\n",
       "    </tr>\n",
       "  </thead>\n",
       "  <tbody>\n",
       "    <tr>\n",
       "      <th>2</th>\n",
       "      <td>Yangon</td>\n",
       "      <td>340</td>\n",
       "    </tr>\n",
       "    <tr>\n",
       "      <th>0</th>\n",
       "      <td>Mandalay</td>\n",
       "      <td>332</td>\n",
       "    </tr>\n",
       "    <tr>\n",
       "      <th>1</th>\n",
       "      <td>Naypyitaw</td>\n",
       "      <td>328</td>\n",
       "    </tr>\n",
       "  </tbody>\n",
       "</table>\n",
       "</div>"
      ],
      "text/plain": [
       "        city  branch\n",
       "2     Yangon     340\n",
       "0   Mandalay     332\n",
       "1  Naypyitaw     328"
      ]
     },
     "execution_count": 49,
     "metadata": {},
     "output_type": "execute_result"
    }
   ],
   "source": [
    "#смотрим сколько операций было осуществлено в каждом из городов\n",
    "df.groupby('city', as_index=False) \\\n",
    "    .agg({'branch':'count'}) \\\n",
    "    .sort_values(\"branch\", ascending=False)\n",
    "\n",
    "#получилось в целом равномерное распределение операций"
   ]
  },
  {
   "cell_type": "code",
   "execution_count": 50,
   "metadata": {},
   "outputs": [
    {
     "data": {
      "text/html": [
       "<div>\n",
       "<style scoped>\n",
       "    .dataframe tbody tr th:only-of-type {\n",
       "        vertical-align: middle;\n",
       "    }\n",
       "\n",
       "    .dataframe tbody tr th {\n",
       "        vertical-align: top;\n",
       "    }\n",
       "\n",
       "    .dataframe thead th {\n",
       "        text-align: right;\n",
       "    }\n",
       "</style>\n",
       "<table border=\"1\" class=\"dataframe\">\n",
       "  <thead>\n",
       "    <tr style=\"text-align: right;\">\n",
       "      <th></th>\n",
       "      <th>customer_type</th>\n",
       "      <th>branch</th>\n",
       "    </tr>\n",
       "  </thead>\n",
       "  <tbody>\n",
       "    <tr>\n",
       "      <th>0</th>\n",
       "      <td>Member</td>\n",
       "      <td>501</td>\n",
       "    </tr>\n",
       "    <tr>\n",
       "      <th>1</th>\n",
       "      <td>Normal</td>\n",
       "      <td>499</td>\n",
       "    </tr>\n",
       "  </tbody>\n",
       "</table>\n",
       "</div>"
      ],
      "text/plain": [
       "  customer_type  branch\n",
       "0        Member     501\n",
       "1        Normal     499"
      ]
     },
     "execution_count": 50,
     "metadata": {},
     "output_type": "execute_result"
    }
   ],
   "source": [
    "df.groupby('customer_type', as_index=False) \\\n",
    "    .agg({'branch':'count'}) \\\n",
    "    .sort_values(\"branch\", ascending=False)\n",
    "\n",
    "#среди мужчин и женщин распределение покупок практически одинаковое "
   ]
  },
  {
   "cell_type": "code",
   "execution_count": 267,
   "metadata": {},
   "outputs": [
    {
     "data": {
      "text/html": [
       "<div>\n",
       "<style scoped>\n",
       "    .dataframe tbody tr th:only-of-type {\n",
       "        vertical-align: middle;\n",
       "    }\n",
       "\n",
       "    .dataframe tbody tr th {\n",
       "        vertical-align: top;\n",
       "    }\n",
       "\n",
       "    .dataframe thead th {\n",
       "        text-align: right;\n",
       "    }\n",
       "</style>\n",
       "<table border=\"1\" class=\"dataframe\">\n",
       "  <thead>\n",
       "    <tr style=\"text-align: right;\">\n",
       "      <th></th>\n",
       "      <th>product_line</th>\n",
       "      <th>count</th>\n",
       "    </tr>\n",
       "  </thead>\n",
       "  <tbody>\n",
       "    <tr>\n",
       "      <th>0</th>\n",
       "      <td>Electronic accessories</td>\n",
       "      <td>170</td>\n",
       "    </tr>\n",
       "    <tr>\n",
       "      <th>1</th>\n",
       "      <td>Fashion accessories</td>\n",
       "      <td>178</td>\n",
       "    </tr>\n",
       "    <tr>\n",
       "      <th>2</th>\n",
       "      <td>Food and beverages</td>\n",
       "      <td>174</td>\n",
       "    </tr>\n",
       "    <tr>\n",
       "      <th>3</th>\n",
       "      <td>Health and beauty</td>\n",
       "      <td>152</td>\n",
       "    </tr>\n",
       "    <tr>\n",
       "      <th>4</th>\n",
       "      <td>Home and lifestyle</td>\n",
       "      <td>160</td>\n",
       "    </tr>\n",
       "    <tr>\n",
       "      <th>5</th>\n",
       "      <td>Sports and travel</td>\n",
       "      <td>166</td>\n",
       "    </tr>\n",
       "  </tbody>\n",
       "</table>\n",
       "</div>"
      ],
      "text/plain": [
       "             product_line  count\n",
       "0  Electronic accessories    170\n",
       "1     Fashion accessories    178\n",
       "2      Food and beverages    174\n",
       "3       Health and beauty    152\n",
       "4      Home and lifestyle    160\n",
       "5       Sports and travel    166"
      ]
     },
     "execution_count": 267,
     "metadata": {},
     "output_type": "execute_result"
    }
   ],
   "source": [
    "operations_sales_categories=df.groupby('product_line', as_index=False) \\\n",
    "    .agg({'branch':'count'}) \\\n",
    "    .rename(columns={'branch':'count'})\n",
    "operations_sales_categories\n",
    "\n",
    "#наибольшее число операций было совершено в категории  Fashion accessories"
   ]
  },
  {
   "cell_type": "code",
   "execution_count": 200,
   "metadata": {},
   "outputs": [
    {
     "data": {
      "application/vnd.plotly.v1+json": {
       "config": {
        "plotlyServerURL": "https://plot.ly"
       },
       "data": [
        {
         "alignmentgroup": "True",
         "hovertemplate": "product_line=%{x}<br>count=%{y}<extra></extra>",
         "legendgroup": "",
         "marker": {
          "color": "#636efa"
         },
         "name": "",
         "offsetgroup": "",
         "orientation": "v",
         "showlegend": false,
         "textposition": "auto",
         "type": "bar",
         "x": [
          "Electronic accessories",
          "Fashion accessories",
          "Food and beverages",
          "Health and beauty",
          "Home and lifestyle",
          "Sports and travel"
         ],
         "xaxis": "x",
         "y": [
          170,
          178,
          174,
          152,
          160,
          166
         ],
         "yaxis": "y"
        }
       ],
       "layout": {
        "barmode": "relative",
        "legend": {
         "tracegroupgap": 0
        },
        "margin": {
         "t": 60
        },
        "template": {
         "data": {
          "bar": [
           {
            "error_x": {
             "color": "#2a3f5f"
            },
            "error_y": {
             "color": "#2a3f5f"
            },
            "marker": {
             "line": {
              "color": "#E5ECF6",
              "width": 0.5
             }
            },
            "type": "bar"
           }
          ],
          "barpolar": [
           {
            "marker": {
             "line": {
              "color": "#E5ECF6",
              "width": 0.5
             }
            },
            "type": "barpolar"
           }
          ],
          "carpet": [
           {
            "aaxis": {
             "endlinecolor": "#2a3f5f",
             "gridcolor": "white",
             "linecolor": "white",
             "minorgridcolor": "white",
             "startlinecolor": "#2a3f5f"
            },
            "baxis": {
             "endlinecolor": "#2a3f5f",
             "gridcolor": "white",
             "linecolor": "white",
             "minorgridcolor": "white",
             "startlinecolor": "#2a3f5f"
            },
            "type": "carpet"
           }
          ],
          "choropleth": [
           {
            "colorbar": {
             "outlinewidth": 0,
             "ticks": ""
            },
            "type": "choropleth"
           }
          ],
          "contour": [
           {
            "colorbar": {
             "outlinewidth": 0,
             "ticks": ""
            },
            "colorscale": [
             [
              0,
              "#0d0887"
             ],
             [
              0.1111111111111111,
              "#46039f"
             ],
             [
              0.2222222222222222,
              "#7201a8"
             ],
             [
              0.3333333333333333,
              "#9c179e"
             ],
             [
              0.4444444444444444,
              "#bd3786"
             ],
             [
              0.5555555555555556,
              "#d8576b"
             ],
             [
              0.6666666666666666,
              "#ed7953"
             ],
             [
              0.7777777777777778,
              "#fb9f3a"
             ],
             [
              0.8888888888888888,
              "#fdca26"
             ],
             [
              1,
              "#f0f921"
             ]
            ],
            "type": "contour"
           }
          ],
          "contourcarpet": [
           {
            "colorbar": {
             "outlinewidth": 0,
             "ticks": ""
            },
            "type": "contourcarpet"
           }
          ],
          "heatmap": [
           {
            "colorbar": {
             "outlinewidth": 0,
             "ticks": ""
            },
            "colorscale": [
             [
              0,
              "#0d0887"
             ],
             [
              0.1111111111111111,
              "#46039f"
             ],
             [
              0.2222222222222222,
              "#7201a8"
             ],
             [
              0.3333333333333333,
              "#9c179e"
             ],
             [
              0.4444444444444444,
              "#bd3786"
             ],
             [
              0.5555555555555556,
              "#d8576b"
             ],
             [
              0.6666666666666666,
              "#ed7953"
             ],
             [
              0.7777777777777778,
              "#fb9f3a"
             ],
             [
              0.8888888888888888,
              "#fdca26"
             ],
             [
              1,
              "#f0f921"
             ]
            ],
            "type": "heatmap"
           }
          ],
          "heatmapgl": [
           {
            "colorbar": {
             "outlinewidth": 0,
             "ticks": ""
            },
            "colorscale": [
             [
              0,
              "#0d0887"
             ],
             [
              0.1111111111111111,
              "#46039f"
             ],
             [
              0.2222222222222222,
              "#7201a8"
             ],
             [
              0.3333333333333333,
              "#9c179e"
             ],
             [
              0.4444444444444444,
              "#bd3786"
             ],
             [
              0.5555555555555556,
              "#d8576b"
             ],
             [
              0.6666666666666666,
              "#ed7953"
             ],
             [
              0.7777777777777778,
              "#fb9f3a"
             ],
             [
              0.8888888888888888,
              "#fdca26"
             ],
             [
              1,
              "#f0f921"
             ]
            ],
            "type": "heatmapgl"
           }
          ],
          "histogram": [
           {
            "marker": {
             "colorbar": {
              "outlinewidth": 0,
              "ticks": ""
             }
            },
            "type": "histogram"
           }
          ],
          "histogram2d": [
           {
            "colorbar": {
             "outlinewidth": 0,
             "ticks": ""
            },
            "colorscale": [
             [
              0,
              "#0d0887"
             ],
             [
              0.1111111111111111,
              "#46039f"
             ],
             [
              0.2222222222222222,
              "#7201a8"
             ],
             [
              0.3333333333333333,
              "#9c179e"
             ],
             [
              0.4444444444444444,
              "#bd3786"
             ],
             [
              0.5555555555555556,
              "#d8576b"
             ],
             [
              0.6666666666666666,
              "#ed7953"
             ],
             [
              0.7777777777777778,
              "#fb9f3a"
             ],
             [
              0.8888888888888888,
              "#fdca26"
             ],
             [
              1,
              "#f0f921"
             ]
            ],
            "type": "histogram2d"
           }
          ],
          "histogram2dcontour": [
           {
            "colorbar": {
             "outlinewidth": 0,
             "ticks": ""
            },
            "colorscale": [
             [
              0,
              "#0d0887"
             ],
             [
              0.1111111111111111,
              "#46039f"
             ],
             [
              0.2222222222222222,
              "#7201a8"
             ],
             [
              0.3333333333333333,
              "#9c179e"
             ],
             [
              0.4444444444444444,
              "#bd3786"
             ],
             [
              0.5555555555555556,
              "#d8576b"
             ],
             [
              0.6666666666666666,
              "#ed7953"
             ],
             [
              0.7777777777777778,
              "#fb9f3a"
             ],
             [
              0.8888888888888888,
              "#fdca26"
             ],
             [
              1,
              "#f0f921"
             ]
            ],
            "type": "histogram2dcontour"
           }
          ],
          "mesh3d": [
           {
            "colorbar": {
             "outlinewidth": 0,
             "ticks": ""
            },
            "type": "mesh3d"
           }
          ],
          "parcoords": [
           {
            "line": {
             "colorbar": {
              "outlinewidth": 0,
              "ticks": ""
             }
            },
            "type": "parcoords"
           }
          ],
          "pie": [
           {
            "automargin": true,
            "type": "pie"
           }
          ],
          "scatter": [
           {
            "marker": {
             "colorbar": {
              "outlinewidth": 0,
              "ticks": ""
             }
            },
            "type": "scatter"
           }
          ],
          "scatter3d": [
           {
            "line": {
             "colorbar": {
              "outlinewidth": 0,
              "ticks": ""
             }
            },
            "marker": {
             "colorbar": {
              "outlinewidth": 0,
              "ticks": ""
             }
            },
            "type": "scatter3d"
           }
          ],
          "scattercarpet": [
           {
            "marker": {
             "colorbar": {
              "outlinewidth": 0,
              "ticks": ""
             }
            },
            "type": "scattercarpet"
           }
          ],
          "scattergeo": [
           {
            "marker": {
             "colorbar": {
              "outlinewidth": 0,
              "ticks": ""
             }
            },
            "type": "scattergeo"
           }
          ],
          "scattergl": [
           {
            "marker": {
             "colorbar": {
              "outlinewidth": 0,
              "ticks": ""
             }
            },
            "type": "scattergl"
           }
          ],
          "scattermapbox": [
           {
            "marker": {
             "colorbar": {
              "outlinewidth": 0,
              "ticks": ""
             }
            },
            "type": "scattermapbox"
           }
          ],
          "scatterpolar": [
           {
            "marker": {
             "colorbar": {
              "outlinewidth": 0,
              "ticks": ""
             }
            },
            "type": "scatterpolar"
           }
          ],
          "scatterpolargl": [
           {
            "marker": {
             "colorbar": {
              "outlinewidth": 0,
              "ticks": ""
             }
            },
            "type": "scatterpolargl"
           }
          ],
          "scatterternary": [
           {
            "marker": {
             "colorbar": {
              "outlinewidth": 0,
              "ticks": ""
             }
            },
            "type": "scatterternary"
           }
          ],
          "surface": [
           {
            "colorbar": {
             "outlinewidth": 0,
             "ticks": ""
            },
            "colorscale": [
             [
              0,
              "#0d0887"
             ],
             [
              0.1111111111111111,
              "#46039f"
             ],
             [
              0.2222222222222222,
              "#7201a8"
             ],
             [
              0.3333333333333333,
              "#9c179e"
             ],
             [
              0.4444444444444444,
              "#bd3786"
             ],
             [
              0.5555555555555556,
              "#d8576b"
             ],
             [
              0.6666666666666666,
              "#ed7953"
             ],
             [
              0.7777777777777778,
              "#fb9f3a"
             ],
             [
              0.8888888888888888,
              "#fdca26"
             ],
             [
              1,
              "#f0f921"
             ]
            ],
            "type": "surface"
           }
          ],
          "table": [
           {
            "cells": {
             "fill": {
              "color": "#EBF0F8"
             },
             "line": {
              "color": "white"
             }
            },
            "header": {
             "fill": {
              "color": "#C8D4E3"
             },
             "line": {
              "color": "white"
             }
            },
            "type": "table"
           }
          ]
         },
         "layout": {
          "annotationdefaults": {
           "arrowcolor": "#2a3f5f",
           "arrowhead": 0,
           "arrowwidth": 1
          },
          "autotypenumbers": "strict",
          "coloraxis": {
           "colorbar": {
            "outlinewidth": 0,
            "ticks": ""
           }
          },
          "colorscale": {
           "diverging": [
            [
             0,
             "#8e0152"
            ],
            [
             0.1,
             "#c51b7d"
            ],
            [
             0.2,
             "#de77ae"
            ],
            [
             0.3,
             "#f1b6da"
            ],
            [
             0.4,
             "#fde0ef"
            ],
            [
             0.5,
             "#f7f7f7"
            ],
            [
             0.6,
             "#e6f5d0"
            ],
            [
             0.7,
             "#b8e186"
            ],
            [
             0.8,
             "#7fbc41"
            ],
            [
             0.9,
             "#4d9221"
            ],
            [
             1,
             "#276419"
            ]
           ],
           "sequential": [
            [
             0,
             "#0d0887"
            ],
            [
             0.1111111111111111,
             "#46039f"
            ],
            [
             0.2222222222222222,
             "#7201a8"
            ],
            [
             0.3333333333333333,
             "#9c179e"
            ],
            [
             0.4444444444444444,
             "#bd3786"
            ],
            [
             0.5555555555555556,
             "#d8576b"
            ],
            [
             0.6666666666666666,
             "#ed7953"
            ],
            [
             0.7777777777777778,
             "#fb9f3a"
            ],
            [
             0.8888888888888888,
             "#fdca26"
            ],
            [
             1,
             "#f0f921"
            ]
           ],
           "sequentialminus": [
            [
             0,
             "#0d0887"
            ],
            [
             0.1111111111111111,
             "#46039f"
            ],
            [
             0.2222222222222222,
             "#7201a8"
            ],
            [
             0.3333333333333333,
             "#9c179e"
            ],
            [
             0.4444444444444444,
             "#bd3786"
            ],
            [
             0.5555555555555556,
             "#d8576b"
            ],
            [
             0.6666666666666666,
             "#ed7953"
            ],
            [
             0.7777777777777778,
             "#fb9f3a"
            ],
            [
             0.8888888888888888,
             "#fdca26"
            ],
            [
             1,
             "#f0f921"
            ]
           ]
          },
          "colorway": [
           "#636efa",
           "#EF553B",
           "#00cc96",
           "#ab63fa",
           "#FFA15A",
           "#19d3f3",
           "#FF6692",
           "#B6E880",
           "#FF97FF",
           "#FECB52"
          ],
          "font": {
           "color": "#2a3f5f"
          },
          "geo": {
           "bgcolor": "white",
           "lakecolor": "white",
           "landcolor": "#E5ECF6",
           "showlakes": true,
           "showland": true,
           "subunitcolor": "white"
          },
          "hoverlabel": {
           "align": "left"
          },
          "hovermode": "closest",
          "mapbox": {
           "style": "light"
          },
          "paper_bgcolor": "white",
          "plot_bgcolor": "#E5ECF6",
          "polar": {
           "angularaxis": {
            "gridcolor": "white",
            "linecolor": "white",
            "ticks": ""
           },
           "bgcolor": "#E5ECF6",
           "radialaxis": {
            "gridcolor": "white",
            "linecolor": "white",
            "ticks": ""
           }
          },
          "scene": {
           "xaxis": {
            "backgroundcolor": "#E5ECF6",
            "gridcolor": "white",
            "gridwidth": 2,
            "linecolor": "white",
            "showbackground": true,
            "ticks": "",
            "zerolinecolor": "white"
           },
           "yaxis": {
            "backgroundcolor": "#E5ECF6",
            "gridcolor": "white",
            "gridwidth": 2,
            "linecolor": "white",
            "showbackground": true,
            "ticks": "",
            "zerolinecolor": "white"
           },
           "zaxis": {
            "backgroundcolor": "#E5ECF6",
            "gridcolor": "white",
            "gridwidth": 2,
            "linecolor": "white",
            "showbackground": true,
            "ticks": "",
            "zerolinecolor": "white"
           }
          },
          "shapedefaults": {
           "line": {
            "color": "#2a3f5f"
           }
          },
          "ternary": {
           "aaxis": {
            "gridcolor": "white",
            "linecolor": "white",
            "ticks": ""
           },
           "baxis": {
            "gridcolor": "white",
            "linecolor": "white",
            "ticks": ""
           },
           "bgcolor": "#E5ECF6",
           "caxis": {
            "gridcolor": "white",
            "linecolor": "white",
            "ticks": ""
           }
          },
          "title": {
           "x": 0.05
          },
          "xaxis": {
           "automargin": true,
           "gridcolor": "white",
           "linecolor": "white",
           "ticks": "",
           "title": {
            "standoff": 15
           },
           "zerolinecolor": "white",
           "zerolinewidth": 2
          },
          "yaxis": {
           "automargin": true,
           "gridcolor": "white",
           "linecolor": "white",
           "ticks": "",
           "title": {
            "standoff": 15
           },
           "zerolinecolor": "white",
           "zerolinewidth": 2
          }
         }
        },
        "xaxis": {
         "anchor": "y",
         "domain": [
          0,
          1
         ],
         "title": {
          "text": "product_line"
         }
        },
        "yaxis": {
         "anchor": "x",
         "domain": [
          0,
          1
         ],
         "title": {
          "text": "count"
         }
        }
       }
      },
      "text/html": [
       "<div>                            <div id=\"ed0302f9-0a0f-4442-9734-2f7f99bf5626\" class=\"plotly-graph-div\" style=\"height:525px; width:100%;\"></div>            <script type=\"text/javascript\">                require([\"plotly\"], function(Plotly) {                    window.PLOTLYENV=window.PLOTLYENV || {};                                    if (document.getElementById(\"ed0302f9-0a0f-4442-9734-2f7f99bf5626\")) {                    Plotly.newPlot(                        \"ed0302f9-0a0f-4442-9734-2f7f99bf5626\",                        [{\"alignmentgroup\": \"True\", \"hovertemplate\": \"product_line=%{x}<br>count=%{y}<extra></extra>\", \"legendgroup\": \"\", \"marker\": {\"color\": \"#636efa\"}, \"name\": \"\", \"offsetgroup\": \"\", \"orientation\": \"v\", \"showlegend\": false, \"textposition\": \"auto\", \"type\": \"bar\", \"x\": [\"Electronic accessories\", \"Fashion accessories\", \"Food and beverages\", \"Health and beauty\", \"Home and lifestyle\", \"Sports and travel\"], \"xaxis\": \"x\", \"y\": [170, 178, 174, 152, 160, 166], \"yaxis\": \"y\"}],                        {\"barmode\": \"relative\", \"legend\": {\"tracegroupgap\": 0}, \"margin\": {\"t\": 60}, \"template\": {\"data\": {\"bar\": [{\"error_x\": {\"color\": \"#2a3f5f\"}, \"error_y\": {\"color\": \"#2a3f5f\"}, \"marker\": {\"line\": {\"color\": \"#E5ECF6\", \"width\": 0.5}}, \"type\": \"bar\"}], \"barpolar\": [{\"marker\": {\"line\": {\"color\": \"#E5ECF6\", \"width\": 0.5}}, \"type\": \"barpolar\"}], \"carpet\": [{\"aaxis\": {\"endlinecolor\": \"#2a3f5f\", \"gridcolor\": \"white\", \"linecolor\": \"white\", \"minorgridcolor\": \"white\", \"startlinecolor\": \"#2a3f5f\"}, \"baxis\": {\"endlinecolor\": \"#2a3f5f\", \"gridcolor\": \"white\", \"linecolor\": \"white\", \"minorgridcolor\": \"white\", \"startlinecolor\": \"#2a3f5f\"}, \"type\": \"carpet\"}], \"choropleth\": [{\"colorbar\": {\"outlinewidth\": 0, \"ticks\": \"\"}, \"type\": \"choropleth\"}], \"contour\": [{\"colorbar\": {\"outlinewidth\": 0, \"ticks\": \"\"}, \"colorscale\": [[0.0, \"#0d0887\"], [0.1111111111111111, \"#46039f\"], [0.2222222222222222, \"#7201a8\"], [0.3333333333333333, \"#9c179e\"], [0.4444444444444444, \"#bd3786\"], [0.5555555555555556, \"#d8576b\"], [0.6666666666666666, \"#ed7953\"], [0.7777777777777778, \"#fb9f3a\"], [0.8888888888888888, \"#fdca26\"], [1.0, \"#f0f921\"]], \"type\": \"contour\"}], \"contourcarpet\": [{\"colorbar\": {\"outlinewidth\": 0, \"ticks\": \"\"}, \"type\": \"contourcarpet\"}], \"heatmap\": [{\"colorbar\": {\"outlinewidth\": 0, \"ticks\": \"\"}, \"colorscale\": [[0.0, \"#0d0887\"], [0.1111111111111111, \"#46039f\"], [0.2222222222222222, \"#7201a8\"], [0.3333333333333333, \"#9c179e\"], [0.4444444444444444, \"#bd3786\"], [0.5555555555555556, \"#d8576b\"], [0.6666666666666666, \"#ed7953\"], [0.7777777777777778, \"#fb9f3a\"], [0.8888888888888888, \"#fdca26\"], [1.0, \"#f0f921\"]], \"type\": \"heatmap\"}], \"heatmapgl\": [{\"colorbar\": {\"outlinewidth\": 0, \"ticks\": \"\"}, \"colorscale\": [[0.0, \"#0d0887\"], [0.1111111111111111, \"#46039f\"], [0.2222222222222222, \"#7201a8\"], [0.3333333333333333, \"#9c179e\"], [0.4444444444444444, \"#bd3786\"], [0.5555555555555556, \"#d8576b\"], [0.6666666666666666, \"#ed7953\"], [0.7777777777777778, \"#fb9f3a\"], [0.8888888888888888, \"#fdca26\"], [1.0, \"#f0f921\"]], \"type\": \"heatmapgl\"}], \"histogram\": [{\"marker\": {\"colorbar\": {\"outlinewidth\": 0, \"ticks\": \"\"}}, \"type\": \"histogram\"}], \"histogram2d\": [{\"colorbar\": {\"outlinewidth\": 0, \"ticks\": \"\"}, \"colorscale\": [[0.0, \"#0d0887\"], [0.1111111111111111, \"#46039f\"], [0.2222222222222222, \"#7201a8\"], [0.3333333333333333, \"#9c179e\"], [0.4444444444444444, \"#bd3786\"], [0.5555555555555556, \"#d8576b\"], [0.6666666666666666, \"#ed7953\"], [0.7777777777777778, \"#fb9f3a\"], [0.8888888888888888, \"#fdca26\"], [1.0, \"#f0f921\"]], \"type\": \"histogram2d\"}], \"histogram2dcontour\": [{\"colorbar\": {\"outlinewidth\": 0, \"ticks\": \"\"}, \"colorscale\": [[0.0, \"#0d0887\"], [0.1111111111111111, \"#46039f\"], [0.2222222222222222, \"#7201a8\"], [0.3333333333333333, \"#9c179e\"], [0.4444444444444444, \"#bd3786\"], [0.5555555555555556, \"#d8576b\"], [0.6666666666666666, \"#ed7953\"], [0.7777777777777778, \"#fb9f3a\"], [0.8888888888888888, \"#fdca26\"], [1.0, \"#f0f921\"]], \"type\": \"histogram2dcontour\"}], \"mesh3d\": [{\"colorbar\": {\"outlinewidth\": 0, \"ticks\": \"\"}, \"type\": \"mesh3d\"}], \"parcoords\": [{\"line\": {\"colorbar\": {\"outlinewidth\": 0, \"ticks\": \"\"}}, \"type\": \"parcoords\"}], \"pie\": [{\"automargin\": true, \"type\": \"pie\"}], \"scatter\": [{\"marker\": {\"colorbar\": {\"outlinewidth\": 0, \"ticks\": \"\"}}, \"type\": \"scatter\"}], \"scatter3d\": [{\"line\": {\"colorbar\": {\"outlinewidth\": 0, \"ticks\": \"\"}}, \"marker\": {\"colorbar\": {\"outlinewidth\": 0, \"ticks\": \"\"}}, \"type\": \"scatter3d\"}], \"scattercarpet\": [{\"marker\": {\"colorbar\": {\"outlinewidth\": 0, \"ticks\": \"\"}}, \"type\": \"scattercarpet\"}], \"scattergeo\": [{\"marker\": {\"colorbar\": {\"outlinewidth\": 0, \"ticks\": \"\"}}, \"type\": \"scattergeo\"}], \"scattergl\": [{\"marker\": {\"colorbar\": {\"outlinewidth\": 0, \"ticks\": \"\"}}, \"type\": \"scattergl\"}], \"scattermapbox\": [{\"marker\": {\"colorbar\": {\"outlinewidth\": 0, \"ticks\": \"\"}}, \"type\": \"scattermapbox\"}], \"scatterpolar\": [{\"marker\": {\"colorbar\": {\"outlinewidth\": 0, \"ticks\": \"\"}}, \"type\": \"scatterpolar\"}], \"scatterpolargl\": [{\"marker\": {\"colorbar\": {\"outlinewidth\": 0, \"ticks\": \"\"}}, \"type\": \"scatterpolargl\"}], \"scatterternary\": [{\"marker\": {\"colorbar\": {\"outlinewidth\": 0, \"ticks\": \"\"}}, \"type\": \"scatterternary\"}], \"surface\": [{\"colorbar\": {\"outlinewidth\": 0, \"ticks\": \"\"}, \"colorscale\": [[0.0, \"#0d0887\"], [0.1111111111111111, \"#46039f\"], [0.2222222222222222, \"#7201a8\"], [0.3333333333333333, \"#9c179e\"], [0.4444444444444444, \"#bd3786\"], [0.5555555555555556, \"#d8576b\"], [0.6666666666666666, \"#ed7953\"], [0.7777777777777778, \"#fb9f3a\"], [0.8888888888888888, \"#fdca26\"], [1.0, \"#f0f921\"]], \"type\": \"surface\"}], \"table\": [{\"cells\": {\"fill\": {\"color\": \"#EBF0F8\"}, \"line\": {\"color\": \"white\"}}, \"header\": {\"fill\": {\"color\": \"#C8D4E3\"}, \"line\": {\"color\": \"white\"}}, \"type\": \"table\"}]}, \"layout\": {\"annotationdefaults\": {\"arrowcolor\": \"#2a3f5f\", \"arrowhead\": 0, \"arrowwidth\": 1}, \"autotypenumbers\": \"strict\", \"coloraxis\": {\"colorbar\": {\"outlinewidth\": 0, \"ticks\": \"\"}}, \"colorscale\": {\"diverging\": [[0, \"#8e0152\"], [0.1, \"#c51b7d\"], [0.2, \"#de77ae\"], [0.3, \"#f1b6da\"], [0.4, \"#fde0ef\"], [0.5, \"#f7f7f7\"], [0.6, \"#e6f5d0\"], [0.7, \"#b8e186\"], [0.8, \"#7fbc41\"], [0.9, \"#4d9221\"], [1, \"#276419\"]], \"sequential\": [[0.0, \"#0d0887\"], [0.1111111111111111, \"#46039f\"], [0.2222222222222222, \"#7201a8\"], [0.3333333333333333, \"#9c179e\"], [0.4444444444444444, \"#bd3786\"], [0.5555555555555556, \"#d8576b\"], [0.6666666666666666, \"#ed7953\"], [0.7777777777777778, \"#fb9f3a\"], [0.8888888888888888, \"#fdca26\"], [1.0, \"#f0f921\"]], \"sequentialminus\": [[0.0, \"#0d0887\"], [0.1111111111111111, \"#46039f\"], [0.2222222222222222, \"#7201a8\"], [0.3333333333333333, \"#9c179e\"], [0.4444444444444444, \"#bd3786\"], [0.5555555555555556, \"#d8576b\"], [0.6666666666666666, \"#ed7953\"], [0.7777777777777778, \"#fb9f3a\"], [0.8888888888888888, \"#fdca26\"], [1.0, \"#f0f921\"]]}, \"colorway\": [\"#636efa\", \"#EF553B\", \"#00cc96\", \"#ab63fa\", \"#FFA15A\", \"#19d3f3\", \"#FF6692\", \"#B6E880\", \"#FF97FF\", \"#FECB52\"], \"font\": {\"color\": \"#2a3f5f\"}, \"geo\": {\"bgcolor\": \"white\", \"lakecolor\": \"white\", \"landcolor\": \"#E5ECF6\", \"showlakes\": true, \"showland\": true, \"subunitcolor\": \"white\"}, \"hoverlabel\": {\"align\": \"left\"}, \"hovermode\": \"closest\", \"mapbox\": {\"style\": \"light\"}, \"paper_bgcolor\": \"white\", \"plot_bgcolor\": \"#E5ECF6\", \"polar\": {\"angularaxis\": {\"gridcolor\": \"white\", \"linecolor\": \"white\", \"ticks\": \"\"}, \"bgcolor\": \"#E5ECF6\", \"radialaxis\": {\"gridcolor\": \"white\", \"linecolor\": \"white\", \"ticks\": \"\"}}, \"scene\": {\"xaxis\": {\"backgroundcolor\": \"#E5ECF6\", \"gridcolor\": \"white\", \"gridwidth\": 2, \"linecolor\": \"white\", \"showbackground\": true, \"ticks\": \"\", \"zerolinecolor\": \"white\"}, \"yaxis\": {\"backgroundcolor\": \"#E5ECF6\", \"gridcolor\": \"white\", \"gridwidth\": 2, \"linecolor\": \"white\", \"showbackground\": true, \"ticks\": \"\", \"zerolinecolor\": \"white\"}, \"zaxis\": {\"backgroundcolor\": \"#E5ECF6\", \"gridcolor\": \"white\", \"gridwidth\": 2, \"linecolor\": \"white\", \"showbackground\": true, \"ticks\": \"\", \"zerolinecolor\": \"white\"}}, \"shapedefaults\": {\"line\": {\"color\": \"#2a3f5f\"}}, \"ternary\": {\"aaxis\": {\"gridcolor\": \"white\", \"linecolor\": \"white\", \"ticks\": \"\"}, \"baxis\": {\"gridcolor\": \"white\", \"linecolor\": \"white\", \"ticks\": \"\"}, \"bgcolor\": \"#E5ECF6\", \"caxis\": {\"gridcolor\": \"white\", \"linecolor\": \"white\", \"ticks\": \"\"}}, \"title\": {\"x\": 0.05}, \"xaxis\": {\"automargin\": true, \"gridcolor\": \"white\", \"linecolor\": \"white\", \"ticks\": \"\", \"title\": {\"standoff\": 15}, \"zerolinecolor\": \"white\", \"zerolinewidth\": 2}, \"yaxis\": {\"automargin\": true, \"gridcolor\": \"white\", \"linecolor\": \"white\", \"ticks\": \"\", \"title\": {\"standoff\": 15}, \"zerolinecolor\": \"white\", \"zerolinewidth\": 2}}}, \"xaxis\": {\"anchor\": \"y\", \"domain\": [0.0, 1.0], \"title\": {\"text\": \"product_line\"}}, \"yaxis\": {\"anchor\": \"x\", \"domain\": [0.0, 1.0], \"title\": {\"text\": \"count\"}}},                        {\"responsive\": true}                    ).then(function(){\n",
       "                            \n",
       "var gd = document.getElementById('ed0302f9-0a0f-4442-9734-2f7f99bf5626');\n",
       "var x = new MutationObserver(function (mutations, observer) {{\n",
       "        var display = window.getComputedStyle(gd).display;\n",
       "        if (!display || display === 'none') {{\n",
       "            console.log([gd, 'removed!']);\n",
       "            Plotly.purge(gd);\n",
       "            observer.disconnect();\n",
       "        }}\n",
       "}});\n",
       "\n",
       "// Listen for the removal of the full notebook cells\n",
       "var notebookContainer = gd.closest('#notebook-container');\n",
       "if (notebookContainer) {{\n",
       "    x.observe(notebookContainer, {childList: true});\n",
       "}}\n",
       "\n",
       "// Listen for the clearing of the current output cell\n",
       "var outputEl = gd.closest('.output');\n",
       "if (outputEl) {{\n",
       "    x.observe(outputEl, {childList: true});\n",
       "}}\n",
       "\n",
       "                        })                };                });            </script>        </div>"
      ]
     },
     "metadata": {},
     "output_type": "display_data"
    }
   ],
   "source": [
    "fig = px.bar(sales_categories, x='product_line', y='count')\n",
    "fig.show()"
   ]
  },
  {
   "cell_type": "code",
   "execution_count": 222,
   "metadata": {},
   "outputs": [],
   "source": [
    "# посмотрим в какое время дня бывает больше всего продаж\n",
    "df['hour'] = (df['time']).dt.hour"
   ]
  },
  {
   "cell_type": "code",
   "execution_count": 223,
   "metadata": {},
   "outputs": [
    {
     "data": {
      "text/plain": [
       "Text(0.5, 1.0, 'Product Sales per Hour')"
      ]
     },
     "execution_count": 223,
     "metadata": {},
     "output_type": "execute_result"
    },
    {
     "data": {
      "image/png": "[encoded data removed]",
      "text/plain": [
       "<Figure size 432x288 with 1 Axes>"
      ]
     },
     "metadata": {
      "needs_background": "light"
     },
     "output_type": "display_data"
    }
   ],
   "source": [
    "sns.lineplot(x=\"hour\",  y = 'quantity',data =df).set_title(\"Product Sales per Hour\")\n",
    "\n",
    "#больше всег продаж в 14:00, меньше всего в 18:00"
   ]
  },
  {
   "cell_type": "code",
   "execution_count": 73,
   "metadata": {},
   "outputs": [],
   "source": [
    "#посмотрим в каком месяце было больше всего продаж\n",
    "df['month']=df.date.dt.month"
   ]
  },
  {
   "cell_type": "code",
   "execution_count": 76,
   "metadata": {},
   "outputs": [
    {
     "data": {
      "text/html": [
       "<div>\n",
       "<style scoped>\n",
       "    .dataframe tbody tr th:only-of-type {\n",
       "        vertical-align: middle;\n",
       "    }\n",
       "\n",
       "    .dataframe tbody tr th {\n",
       "        vertical-align: top;\n",
       "    }\n",
       "\n",
       "    .dataframe thead th {\n",
       "        text-align: right;\n",
       "    }\n",
       "</style>\n",
       "<table border=\"1\" class=\"dataframe\">\n",
       "  <thead>\n",
       "    <tr style=\"text-align: right;\">\n",
       "      <th></th>\n",
       "      <th>month</th>\n",
       "      <th>branch</th>\n",
       "    </tr>\n",
       "  </thead>\n",
       "  <tbody>\n",
       "    <tr>\n",
       "      <th>0</th>\n",
       "      <td>1</td>\n",
       "      <td>352</td>\n",
       "    </tr>\n",
       "    <tr>\n",
       "      <th>2</th>\n",
       "      <td>3</td>\n",
       "      <td>345</td>\n",
       "    </tr>\n",
       "    <tr>\n",
       "      <th>1</th>\n",
       "      <td>2</td>\n",
       "      <td>303</td>\n",
       "    </tr>\n",
       "  </tbody>\n",
       "</table>\n",
       "</div>"
      ],
      "text/plain": [
       "   month  branch\n",
       "0      1     352\n",
       "2      3     345\n",
       "1      2     303"
      ]
     },
     "execution_count": 76,
     "metadata": {},
     "output_type": "execute_result"
    }
   ],
   "source": [
    "df.groupby('month', as_index=False) \\\n",
    "    .agg({'branch':'count'}) \\\n",
    "    .sort_values(\"branch\", ascending=False)\n",
    "\n",
    "#в январе"
   ]
  },
  {
   "cell_type": "code",
   "execution_count": 96,
   "metadata": {},
   "outputs": [
    {
     "name": "stderr",
     "output_type": "stream",
     "text": [
      "c:\\programdata\\miniconda3\\lib\\site-packages\\seaborn\\distributions.py:2557: FutureWarning:\n",
      "\n",
      "`distplot` is a deprecated function and will be removed in a future version. Please adapt your code to use either `displot` (a figure-level function with similar flexibility) or `histplot` (an axes-level function for histograms).\n",
      "\n"
     ]
    },
    {
     "data": {
      "text/plain": [
       "<AxesSubplot:xlabel='quantity'>"
      ]
     },
     "execution_count": 96,
     "metadata": {},
     "output_type": "execute_result"
    },
    {
     "data": {
      "image/png": "[encoded data removed]",
      "text/plain": [
       "<Figure size 432x288 with 1 Axes>"
      ]
     },
     "metadata": {
      "needs_background": "light"
     },
     "output_type": "display_data"
    }
   ],
   "source": [
    "#посмотрим распределение рейтинга клиентов. Получается, с рейтингом 9 наибольшая частота встречаемости клиентов.\n",
    "\n",
    "sns.distplot(df.quantity, kde=False)"
   ]
  },
  {
   "cell_type": "code",
   "execution_count": null,
   "metadata": {},
   "outputs": [],
   "source": []
  },
  {
   "cell_type": "code",
   "execution_count": 94,
   "metadata": {},
   "outputs": [
    {
     "data": {
      "text/html": [
       "<div>\n",
       "<style scoped>\n",
       "    .dataframe tbody tr th:only-of-type {\n",
       "        vertical-align: middle;\n",
       "    }\n",
       "\n",
       "    .dataframe tbody tr th {\n",
       "        vertical-align: top;\n",
       "    }\n",
       "\n",
       "    .dataframe thead th {\n",
       "        text-align: right;\n",
       "    }\n",
       "</style>\n",
       "<table border=\"1\" class=\"dataframe\">\n",
       "  <thead>\n",
       "    <tr style=\"text-align: right;\">\n",
       "      <th></th>\n",
       "      <th>payment</th>\n",
       "      <th>branch</th>\n",
       "    </tr>\n",
       "  </thead>\n",
       "  <tbody>\n",
       "    <tr>\n",
       "      <th>2</th>\n",
       "      <td>Ewallet</td>\n",
       "      <td>345</td>\n",
       "    </tr>\n",
       "    <tr>\n",
       "      <th>0</th>\n",
       "      <td>Cash</td>\n",
       "      <td>344</td>\n",
       "    </tr>\n",
       "    <tr>\n",
       "      <th>1</th>\n",
       "      <td>Credit card</td>\n",
       "      <td>311</td>\n",
       "    </tr>\n",
       "  </tbody>\n",
       "</table>\n",
       "</div>"
      ],
      "text/plain": [
       "       payment  branch\n",
       "2      Ewallet     345\n",
       "0         Cash     344\n",
       "1  Credit card     311"
      ]
     },
     "execution_count": 94,
     "metadata": {},
     "output_type": "execute_result"
    }
   ],
   "source": [
    "#как правило, клиенты расплачиваются за покупки в магазине, используя Ewallet\n",
    "df.groupby('payment', as_index=False) \\\n",
    "    .agg({'branch':'count'}) \\\n",
    "    .sort_values(\"branch\", ascending=False)"
   ]
  },
  {
   "cell_type": "code",
   "execution_count": 140,
   "metadata": {},
   "outputs": [],
   "source": [
    "#посмотрим на среднюю цену продажи в зависимости от дня\n",
    "total_per_day=df.groupby('date',as_index=False) \\\n",
    "                .agg({'total':'mean'})"
   ]
  },
  {
   "cell_type": "code",
   "execution_count": 145,
   "metadata": {},
   "outputs": [
    {
     "data": {
      "text/plain": [
       "<AxesSubplot:xlabel='date', ylabel='total'>"
      ]
     },
     "execution_count": 145,
     "metadata": {},
     "output_type": "execute_result"
    },
    {
     "data": {
      "image/png": "[encoded data removed]",
      "text/plain": [
       "<Figure size 864x432 with 1 Axes>"
      ]
     },
     "metadata": {
      "needs_background": "light"
     },
     "output_type": "display_data"
    }
   ],
   "source": [
    "plt.figure(figsize=(12,6))\n",
    "sns.lineplot(data=total_per_day, x=\"date\", y=\"total\")"
   ]
  },
  {
   "cell_type": "code",
   "execution_count": 146,
   "metadata": {},
   "outputs": [
    {
     "data": {
      "image/png": "[encoded data removed]",
      "text/plain": [
       "<Figure size 864x432 with 1 Axes>"
      ]
     },
     "metadata": {
      "needs_background": "light"
     },
     "output_type": "display_data"
    }
   ],
   "source": [
    "#используя скользящее среднее, можно заметить что средняя цена продажи уменьшается к концу третьего месяца\n",
    "plt.figure(figsize=(12,6))\n",
    "rolling_total_per_day=total_per_day.total.rolling(30).mean().plot()"
   ]
  },
  {
   "cell_type": "code",
   "execution_count": null,
   "metadata": {},
   "outputs": [],
   "source": [
    "#попробуем развернуть таблицу, чтобы посмотреть продажи по дням в разрезе категорий товаров"
   ]
  },
  {
   "cell_type": "code",
   "execution_count": 213,
   "metadata": {},
   "outputs": [
    {
     "data": {
      "text/html": [
       "<div>\n",
       "<style scoped>\n",
       "    .dataframe tbody tr th:only-of-type {\n",
       "        vertical-align: middle;\n",
       "    }\n",
       "\n",
       "    .dataframe tbody tr th {\n",
       "        vertical-align: top;\n",
       "    }\n",
       "\n",
       "    .dataframe thead th {\n",
       "        text-align: right;\n",
       "    }\n",
       "</style>\n",
       "<table border=\"1\" class=\"dataframe\">\n",
       "  <thead>\n",
       "    <tr style=\"text-align: right;\">\n",
       "      <th></th>\n",
       "      <th>date</th>\n",
       "      <th>product_line</th>\n",
       "      <th>total</th>\n",
       "    </tr>\n",
       "  </thead>\n",
       "  <tbody>\n",
       "    <tr>\n",
       "      <th>0</th>\n",
       "      <td>2019-01-01</td>\n",
       "      <td>Electronic accessories</td>\n",
       "      <td>1382.7450</td>\n",
       "    </tr>\n",
       "    <tr>\n",
       "      <th>1</th>\n",
       "      <td>2019-01-01</td>\n",
       "      <td>Fashion accessories</td>\n",
       "      <td>621.2430</td>\n",
       "    </tr>\n",
       "    <tr>\n",
       "      <th>2</th>\n",
       "      <td>2019-01-01</td>\n",
       "      <td>Food and beverages</td>\n",
       "      <td>1066.0230</td>\n",
       "    </tr>\n",
       "    <tr>\n",
       "      <th>3</th>\n",
       "      <td>2019-01-01</td>\n",
       "      <td>Health and beauty</td>\n",
       "      <td>132.0270</td>\n",
       "    </tr>\n",
       "    <tr>\n",
       "      <th>4</th>\n",
       "      <td>2019-01-01</td>\n",
       "      <td>Home and lifestyle</td>\n",
       "      <td>399.7560</td>\n",
       "    </tr>\n",
       "    <tr>\n",
       "      <th>...</th>\n",
       "      <td>...</td>\n",
       "      <td>...</td>\n",
       "      <td>...</td>\n",
       "    </tr>\n",
       "    <tr>\n",
       "      <th>449</th>\n",
       "      <td>2019-03-30</td>\n",
       "      <td>Fashion accessories</td>\n",
       "      <td>85.5120</td>\n",
       "    </tr>\n",
       "    <tr>\n",
       "      <th>450</th>\n",
       "      <td>2019-03-30</td>\n",
       "      <td>Food and beverages</td>\n",
       "      <td>805.3080</td>\n",
       "    </tr>\n",
       "    <tr>\n",
       "      <th>451</th>\n",
       "      <td>2019-03-30</td>\n",
       "      <td>Health and beauty</td>\n",
       "      <td>1970.6400</td>\n",
       "    </tr>\n",
       "    <tr>\n",
       "      <th>452</th>\n",
       "      <td>2019-03-30</td>\n",
       "      <td>Home and lifestyle</td>\n",
       "      <td>216.8460</td>\n",
       "    </tr>\n",
       "    <tr>\n",
       "      <th>453</th>\n",
       "      <td>2019-03-30</td>\n",
       "      <td>Sports and travel</td>\n",
       "      <td>765.4605</td>\n",
       "    </tr>\n",
       "  </tbody>\n",
       "</table>\n",
       "<p>454 rows × 3 columns</p>\n",
       "</div>"
      ],
      "text/plain": [
       "          date            product_line      total\n",
       "0   2019-01-01  Electronic accessories  1382.7450\n",
       "1   2019-01-01     Fashion accessories   621.2430\n",
       "2   2019-01-01      Food and beverages  1066.0230\n",
       "3   2019-01-01       Health and beauty   132.0270\n",
       "4   2019-01-01      Home and lifestyle   399.7560\n",
       "..         ...                     ...        ...\n",
       "449 2019-03-30     Fashion accessories    85.5120\n",
       "450 2019-03-30      Food and beverages   805.3080\n",
       "451 2019-03-30       Health and beauty  1970.6400\n",
       "452 2019-03-30      Home and lifestyle   216.8460\n",
       "453 2019-03-30       Sports and travel   765.4605\n",
       "\n",
       "[454 rows x 3 columns]"
      ]
     },
     "execution_count": 213,
     "metadata": {},
     "output_type": "execute_result"
    }
   ],
   "source": [
    "quantity_product_line=df.groupby(['date','product_line'], as_index=False) \\\n",
    "                        .agg({'total':'sum'})\n",
    "quantity_product_line"
   ]
  },
  {
   "cell_type": "code",
   "execution_count": 276,
   "metadata": {},
   "outputs": [
    {
     "data": {
      "text/html": [
       "<div>\n",
       "<style scoped>\n",
       "    .dataframe tbody tr th:only-of-type {\n",
       "        vertical-align: middle;\n",
       "    }\n",
       "\n",
       "    .dataframe tbody tr th {\n",
       "        vertical-align: top;\n",
       "    }\n",
       "\n",
       "    .dataframe thead th {\n",
       "        text-align: right;\n",
       "    }\n",
       "</style>\n",
       "<table border=\"1\" class=\"dataframe\">\n",
       "  <thead>\n",
       "    <tr style=\"text-align: right;\">\n",
       "      <th>product_line</th>\n",
       "      <th>date</th>\n",
       "      <th>Electronic accessories</th>\n",
       "      <th>Fashion accessories</th>\n",
       "      <th>Food and beverages</th>\n",
       "      <th>Health and beauty</th>\n",
       "      <th>Home and lifestyle</th>\n",
       "      <th>Sports and travel</th>\n",
       "    </tr>\n",
       "  </thead>\n",
       "  <tbody>\n",
       "    <tr>\n",
       "      <th>0</th>\n",
       "      <td>2019-01-01</td>\n",
       "      <td>1382.745</td>\n",
       "      <td>621.2430</td>\n",
       "      <td>1066.023</td>\n",
       "      <td>132.0270</td>\n",
       "      <td>399.7560</td>\n",
       "      <td>1143.3870</td>\n",
       "    </tr>\n",
       "    <tr>\n",
       "      <th>1</th>\n",
       "      <td>2019-01-02</td>\n",
       "      <td>138.663</td>\n",
       "      <td>593.3865</td>\n",
       "      <td>262.458</td>\n",
       "      <td>359.2050</td>\n",
       "      <td>0.0000</td>\n",
       "      <td>591.7905</td>\n",
       "    </tr>\n",
       "    <tr>\n",
       "      <th>2</th>\n",
       "      <td>2019-01-03</td>\n",
       "      <td>0.000</td>\n",
       "      <td>0.0000</td>\n",
       "      <td>0.000</td>\n",
       "      <td>1230.0120</td>\n",
       "      <td>750.0675</td>\n",
       "      <td>98.0490</td>\n",
       "    </tr>\n",
       "    <tr>\n",
       "      <th>3</th>\n",
       "      <td>2019-01-04</td>\n",
       "      <td>705.621</td>\n",
       "      <td>288.5820</td>\n",
       "      <td>0.000</td>\n",
       "      <td>110.0925</td>\n",
       "      <td>373.1700</td>\n",
       "      <td>146.2230</td>\n",
       "    </tr>\n",
       "    <tr>\n",
       "      <th>4</th>\n",
       "      <td>2019-01-05</td>\n",
       "      <td>690.018</td>\n",
       "      <td>523.2360</td>\n",
       "      <td>74.760</td>\n",
       "      <td>1128.8130</td>\n",
       "      <td>1119.8565</td>\n",
       "      <td>0.0000</td>\n",
       "    </tr>\n",
       "  </tbody>\n",
       "</table>\n",
       "</div>"
      ],
      "text/plain": [
       "product_line       date  Electronic accessories  Fashion accessories  \\\n",
       "0            2019-01-01                1382.745             621.2430   \n",
       "1            2019-01-02                 138.663             593.3865   \n",
       "2            2019-01-03                   0.000               0.0000   \n",
       "3            2019-01-04                 705.621             288.5820   \n",
       "4            2019-01-05                 690.018             523.2360   \n",
       "\n",
       "product_line  Food and beverages  Health and beauty  Home and lifestyle  \\\n",
       "0                       1066.023           132.0270            399.7560   \n",
       "1                        262.458           359.2050              0.0000   \n",
       "2                          0.000          1230.0120            750.0675   \n",
       "3                          0.000           110.0925            373.1700   \n",
       "4                         74.760          1128.8130           1119.8565   \n",
       "\n",
       "product_line  Sports and travel  \n",
       "0                     1143.3870  \n",
       "1                      591.7905  \n",
       "2                       98.0490  \n",
       "3                      146.2230  \n",
       "4                        0.0000  "
      ]
     },
     "execution_count": 276,
     "metadata": {},
     "output_type": "execute_result"
    }
   ],
   "source": [
    "day_categories_pivot=quantity_product_line.pivot(index='date',columns='product_line',values='total')\\\n",
    "            .fillna(0).reset_index()\n",
    "day_categories_pivot.head()"
   ]
  },
  {
   "cell_type": "code",
   "execution_count": 277,
   "metadata": {},
   "outputs": [
    {
     "data": {
      "text/html": [
       "<div>\n",
       "<style scoped>\n",
       "    .dataframe tbody tr th:only-of-type {\n",
       "        vertical-align: middle;\n",
       "    }\n",
       "\n",
       "    .dataframe tbody tr th {\n",
       "        vertical-align: top;\n",
       "    }\n",
       "\n",
       "    .dataframe thead th {\n",
       "        text-align: right;\n",
       "    }\n",
       "</style>\n",
       "<table border=\"1\" class=\"dataframe\">\n",
       "  <thead>\n",
       "    <tr style=\"text-align: right;\">\n",
       "      <th></th>\n",
       "      <th>Fashion accessories</th>\n",
       "    </tr>\n",
       "    <tr>\n",
       "      <th>date</th>\n",
       "      <th></th>\n",
       "    </tr>\n",
       "  </thead>\n",
       "  <tbody>\n",
       "    <tr>\n",
       "      <th>2019-01-01</th>\n",
       "      <td>621.2430</td>\n",
       "    </tr>\n",
       "    <tr>\n",
       "      <th>2019-01-02</th>\n",
       "      <td>593.3865</td>\n",
       "    </tr>\n",
       "    <tr>\n",
       "      <th>2019-01-03</th>\n",
       "      <td>0.0000</td>\n",
       "    </tr>\n",
       "    <tr>\n",
       "      <th>2019-01-04</th>\n",
       "      <td>288.5820</td>\n",
       "    </tr>\n",
       "    <tr>\n",
       "      <th>2019-01-05</th>\n",
       "      <td>523.2360</td>\n",
       "    </tr>\n",
       "    <tr>\n",
       "      <th>...</th>\n",
       "      <td>...</td>\n",
       "    </tr>\n",
       "    <tr>\n",
       "      <th>2019-03-26</th>\n",
       "      <td>236.1765</td>\n",
       "    </tr>\n",
       "    <tr>\n",
       "      <th>2019-03-27</th>\n",
       "      <td>943.2990</td>\n",
       "    </tr>\n",
       "    <tr>\n",
       "      <th>2019-03-28</th>\n",
       "      <td>620.8965</td>\n",
       "    </tr>\n",
       "    <tr>\n",
       "      <th>2019-03-29</th>\n",
       "      <td>0.0000</td>\n",
       "    </tr>\n",
       "    <tr>\n",
       "      <th>2019-03-30</th>\n",
       "      <td>85.5120</td>\n",
       "    </tr>\n",
       "  </tbody>\n",
       "</table>\n",
       "<p>89 rows × 1 columns</p>\n",
       "</div>"
      ],
      "text/plain": [
       "            Fashion accessories\n",
       "date                           \n",
       "2019-01-01             621.2430\n",
       "2019-01-02             593.3865\n",
       "2019-01-03               0.0000\n",
       "2019-01-04             288.5820\n",
       "2019-01-05             523.2360\n",
       "...                         ...\n",
       "2019-03-26             236.1765\n",
       "2019-03-27             943.2990\n",
       "2019-03-28             620.8965\n",
       "2019-03-29               0.0000\n",
       "2019-03-30              85.5120\n",
       "\n",
       "[89 rows x 1 columns]"
      ]
     },
     "execution_count": 277,
     "metadata": {},
     "output_type": "execute_result"
    }
   ],
   "source": [
    "day_categories_pivot.groupby('date')\\\n",
    "        .agg({'Fashion accessories':'min'})"
   ]
  },
  {
   "cell_type": "code",
   "execution_count": null,
   "metadata": {},
   "outputs": [],
   "source": []
  },
  {
   "cell_type": "code",
   "execution_count": null,
   "metadata": {},
   "outputs": [],
   "source": []
  },
  {
   "cell_type": "code",
   "execution_count": null,
   "metadata": {},
   "outputs": [],
   "source": []
  },
  {
   "cell_type": "code",
   "execution_count": 278,
   "metadata": {},
   "outputs": [
    {
     "data": {
      "text/html": [
       "<div>\n",
       "<style scoped>\n",
       "    .dataframe tbody tr th:only-of-type {\n",
       "        vertical-align: middle;\n",
       "    }\n",
       "\n",
       "    .dataframe tbody tr th {\n",
       "        vertical-align: top;\n",
       "    }\n",
       "\n",
       "    .dataframe thead th {\n",
       "        text-align: right;\n",
       "    }\n",
       "</style>\n",
       "<table border=\"1\" class=\"dataframe\">\n",
       "  <thead>\n",
       "    <tr style=\"text-align: right;\">\n",
       "      <th></th>\n",
       "      <th>invoice_id</th>\n",
       "      <th>branch</th>\n",
       "      <th>city</th>\n",
       "      <th>customer_type</th>\n",
       "      <th>gender</th>\n",
       "      <th>product_line</th>\n",
       "      <th>unit_price</th>\n",
       "      <th>quantity</th>\n",
       "      <th>total</th>\n",
       "      <th>date</th>\n",
       "      <th>time</th>\n",
       "      <th>payment</th>\n",
       "      <th>cogs</th>\n",
       "      <th>gross_income</th>\n",
       "      <th>rating</th>\n",
       "      <th>month</th>\n",
       "      <th>hour</th>\n",
       "      <th>rate</th>\n",
       "    </tr>\n",
       "  </thead>\n",
       "  <tbody>\n",
       "    <tr>\n",
       "      <th>0</th>\n",
       "      <td>750-67-8428</td>\n",
       "      <td>A</td>\n",
       "      <td>Yangon</td>\n",
       "      <td>Member</td>\n",
       "      <td>Female</td>\n",
       "      <td>Health and beauty</td>\n",
       "      <td>74.69</td>\n",
       "      <td>7</td>\n",
       "      <td>548.9715</td>\n",
       "      <td>2019-01-05</td>\n",
       "      <td>2021-02-18 13:08:00</td>\n",
       "      <td>Ewallet</td>\n",
       "      <td>522.83</td>\n",
       "      <td>26.1415</td>\n",
       "      <td>9.1</td>\n",
       "      <td>1</td>\n",
       "      <td>13</td>\n",
       "      <td>(8.286, 9.143]</td>\n",
       "    </tr>\n",
       "    <tr>\n",
       "      <th>1</th>\n",
       "      <td>226-31-3081</td>\n",
       "      <td>C</td>\n",
       "      <td>Naypyitaw</td>\n",
       "      <td>Normal</td>\n",
       "      <td>Female</td>\n",
       "      <td>Electronic accessories</td>\n",
       "      <td>15.28</td>\n",
       "      <td>5</td>\n",
       "      <td>80.2200</td>\n",
       "      <td>2019-03-08</td>\n",
       "      <td>2021-02-18 10:29:00</td>\n",
       "      <td>Cash</td>\n",
       "      <td>76.40</td>\n",
       "      <td>3.8200</td>\n",
       "      <td>9.6</td>\n",
       "      <td>3</td>\n",
       "      <td>10</td>\n",
       "      <td>(9.143, 10.0]</td>\n",
       "    </tr>\n",
       "    <tr>\n",
       "      <th>2</th>\n",
       "      <td>631-41-3108</td>\n",
       "      <td>A</td>\n",
       "      <td>Yangon</td>\n",
       "      <td>Normal</td>\n",
       "      <td>Male</td>\n",
       "      <td>Home and lifestyle</td>\n",
       "      <td>46.33</td>\n",
       "      <td>7</td>\n",
       "      <td>340.5255</td>\n",
       "      <td>2019-03-03</td>\n",
       "      <td>2021-02-18 13:23:00</td>\n",
       "      <td>Credit card</td>\n",
       "      <td>324.31</td>\n",
       "      <td>16.2155</td>\n",
       "      <td>7.4</td>\n",
       "      <td>3</td>\n",
       "      <td>13</td>\n",
       "      <td>(6.571, 7.429]</td>\n",
       "    </tr>\n",
       "    <tr>\n",
       "      <th>3</th>\n",
       "      <td>123-19-1176</td>\n",
       "      <td>A</td>\n",
       "      <td>Yangon</td>\n",
       "      <td>Member</td>\n",
       "      <td>Male</td>\n",
       "      <td>Health and beauty</td>\n",
       "      <td>58.22</td>\n",
       "      <td>8</td>\n",
       "      <td>489.0480</td>\n",
       "      <td>2019-01-27</td>\n",
       "      <td>2021-02-18 20:33:00</td>\n",
       "      <td>Ewallet</td>\n",
       "      <td>465.76</td>\n",
       "      <td>23.2880</td>\n",
       "      <td>8.4</td>\n",
       "      <td>1</td>\n",
       "      <td>20</td>\n",
       "      <td>(8.286, 9.143]</td>\n",
       "    </tr>\n",
       "    <tr>\n",
       "      <th>4</th>\n",
       "      <td>373-73-7910</td>\n",
       "      <td>A</td>\n",
       "      <td>Yangon</td>\n",
       "      <td>Normal</td>\n",
       "      <td>Male</td>\n",
       "      <td>Sports and travel</td>\n",
       "      <td>86.31</td>\n",
       "      <td>7</td>\n",
       "      <td>634.3785</td>\n",
       "      <td>2019-02-08</td>\n",
       "      <td>2021-02-18 10:37:00</td>\n",
       "      <td>Ewallet</td>\n",
       "      <td>604.17</td>\n",
       "      <td>30.2085</td>\n",
       "      <td>5.3</td>\n",
       "      <td>2</td>\n",
       "      <td>10</td>\n",
       "      <td>(4.857, 5.714]</td>\n",
       "    </tr>\n",
       "  </tbody>\n",
       "</table>\n",
       "</div>"
      ],
      "text/plain": [
       "    invoice_id branch       city customer_type  gender  \\\n",
       "0  750-67-8428      A     Yangon        Member  Female   \n",
       "1  226-31-3081      C  Naypyitaw        Normal  Female   \n",
       "2  631-41-3108      A     Yangon        Normal    Male   \n",
       "3  123-19-1176      A     Yangon        Member    Male   \n",
       "4  373-73-7910      A     Yangon        Normal    Male   \n",
       "\n",
       "             product_line  unit_price  quantity     total       date  \\\n",
       "0       Health and beauty       74.69         7  548.9715 2019-01-05   \n",
       "1  Electronic accessories       15.28         5   80.2200 2019-03-08   \n",
       "2      Home and lifestyle       46.33         7  340.5255 2019-03-03   \n",
       "3       Health and beauty       58.22         8  489.0480 2019-01-27   \n",
       "4       Sports and travel       86.31         7  634.3785 2019-02-08   \n",
       "\n",
       "                 time      payment    cogs  gross_income  rating  month  hour  \\\n",
       "0 2021-02-18 13:08:00      Ewallet  522.83       26.1415     9.1      1    13   \n",
       "1 2021-02-18 10:29:00         Cash   76.40        3.8200     9.6      3    10   \n",
       "2 2021-02-18 13:23:00  Credit card  324.31       16.2155     7.4      3    13   \n",
       "3 2021-02-18 20:33:00      Ewallet  465.76       23.2880     8.4      1    20   \n",
       "4 2021-02-18 10:37:00      Ewallet  604.17       30.2085     5.3      2    10   \n",
       "\n",
       "             rate  \n",
       "0  (8.286, 9.143]  \n",
       "1   (9.143, 10.0]  \n",
       "2  (6.571, 7.429]  \n",
       "3  (8.286, 9.143]  \n",
       "4  (4.857, 5.714]  "
      ]
     },
     "execution_count": 278,
     "metadata": {},
     "output_type": "execute_result"
    }
   ],
   "source": [
    "df. head()"
   ]
  },
  {
   "cell_type": "code",
   "execution_count": null,
   "metadata": {},
   "outputs": [],
   "source": []
  },
  {
   "cell_type": "code",
   "execution_count": 305,
   "metadata": {},
   "outputs": [
    {
     "data": {
      "application/vnd.plotly.v1+json": {
       "config": {
        "plotlyServerURL": "https://plot.ly"
       },
       "data": [
        {
         "alignmentgroup": "True",
         "hovertemplate": "product_line=Health and beauty<br>hour=%{x}<br>quantity=%{y}<extra></extra>",
         "legendgroup": "Health and beauty",
         "marker": {
          "color": "#636efa"
         },
         "name": "Health and beauty",
         "offsetgroup": "Health and beauty",
         "orientation": "v",
         "showlegend": true,
         "textposition": "auto",
         "type": "bar",
         "x": [
          13,
          20,
          17,
          19,
          11,
          10,
          15,
          10,
          13,
          19,
          17,
          11,
          14,
          16,
          15,
          18,
          18,
          14,
          17,
          12,
          20,
          10,
          18,
          10,
          16,
          13,
          19,
          17,
          12,
          13,
          14,
          14,
          11,
          16,
          15,
          18,
          19,
          14,
          12,
          19,
          10,
          18,
          15,
          12,
          19,
          16,
          15,
          14,
          18,
          11,
          16,
          13,
          18,
          16,
          15,
          18,
          10,
          19,
          20,
          11,
          16,
          10,
          20,
          13,
          13,
          13,
          16,
          10,
          17,
          18,
          17,
          20,
          15,
          13,
          17,
          20,
          20,
          14,
          16,
          11,
          19,
          10,
          12,
          13,
          12,
          19,
          13,
          12,
          10,
          11,
          14,
          15,
          20,
          14,
          11,
          20,
          14,
          13,
          17,
          14,
          12,
          11,
          14,
          12,
          18,
          14,
          19,
          12,
          20,
          11,
          15,
          19,
          18,
          19,
          13,
          10,
          10,
          20,
          10,
          10,
          14,
          20,
          10,
          13,
          18,
          14,
          15,
          14,
          13,
          15,
          12,
          10,
          17,
          13,
          20,
          12,
          18,
          14,
          17,
          12,
          19,
          16,
          14,
          20,
          12,
          18,
          17,
          10,
          14,
          19,
          15,
          13
         ],
         "xaxis": "x",
         "y": [
          7,
          8,
          2,
          10,
          7,
          3,
          9,
          2,
          8,
          2,
          9,
          8,
          4,
          10,
          2,
          1,
          5,
          6,
          6,
          9,
          1,
          10,
          7,
          3,
          6,
          10,
          10,
          6,
          4,
          8,
          9,
          8,
          5,
          3,
          8,
          2,
          4,
          10,
          9,
          9,
          9,
          10,
          5,
          2,
          2,
          6,
          6,
          4,
          5,
          10,
          1,
          9,
          7,
          4,
          1,
          6,
          4,
          7,
          7,
          10,
          10,
          1,
          5,
          6,
          10,
          5,
          1,
          1,
          2,
          7,
          1,
          1,
          1,
          7,
          8,
          3,
          8,
          5,
          5,
          2,
          6,
          1,
          9,
          4,
          2,
          4,
          4,
          5,
          6,
          3,
          10,
          10,
          7,
          6,
          6,
          4,
          6,
          3,
          8,
          10,
          10,
          9,
          7,
          9,
          5,
          8,
          3,
          10,
          7,
          5,
          4,
          7,
          7,
          8,
          5,
          5,
          3,
          4,
          1,
          1,
          8,
          4,
          3,
          9,
          4,
          1,
          7,
          5,
          6,
          3,
          2,
          5,
          8,
          7,
          5,
          2,
          10,
          5,
          9,
          7,
          7,
          3,
          5,
          7,
          3,
          3,
          4,
          7,
          2,
          8,
          8,
          1
         ],
         "yaxis": "y"
        },
        {
         "alignmentgroup": "True",
         "hovertemplate": "product_line=Electronic accessories<br>hour=%{x}<br>quantity=%{y}<extra></extra>",
         "legendgroup": "Electronic accessories",
         "marker": {
          "color": "#EF553B"
         },
         "name": "Electronic accessories",
         "offsetgroup": "Electronic accessories",
         "orientation": "v",
         "showlegend": true,
         "textposition": "auto",
         "type": "bar",
         "x": [
          10,
          18,
          14,
          17,
          10,
          11,
          11,
          17,
          18,
          12,
          19,
          20,
          18,
          17,
          20,
          13,
          11,
          14,
          14,
          17,
          14,
          20,
          19,
          19,
          17,
          11,
          11,
          10,
          18,
          19,
          20,
          16,
          13,
          18,
          16,
          10,
          13,
          19,
          19,
          16,
          10,
          12,
          13,
          13,
          17,
          17,
          20,
          13,
          14,
          17,
          12,
          20,
          10,
          20,
          11,
          13,
          10,
          12,
          18,
          12,
          17,
          18,
          15,
          15,
          19,
          12,
          19,
          13,
          14,
          18,
          16,
          10,
          13,
          19,
          14,
          19,
          18,
          13,
          20,
          13,
          11,
          17,
          16,
          11,
          12,
          15,
          20,
          12,
          10,
          19,
          16,
          10,
          10,
          18,
          12,
          13,
          15,
          17,
          10,
          18,
          16,
          12,
          15,
          15,
          15,
          16,
          18,
          14,
          10,
          10,
          19,
          19,
          20,
          15,
          12,
          10,
          14,
          18,
          12,
          15,
          15,
          18,
          20,
          16,
          11,
          12,
          12,
          19,
          11,
          17,
          18,
          14,
          10,
          16,
          18,
          14,
          17,
          15,
          17,
          11,
          18,
          11,
          14,
          11,
          20,
          16,
          10,
          13,
          15,
          20,
          15,
          14,
          11,
          12,
          12,
          11,
          20,
          11,
          14,
          15,
          18,
          20,
          18,
          19,
          15,
          18,
          11,
          19,
          20,
          11
         ],
         "xaxis": "x",
         "y": [
          5,
          7,
          6,
          4,
          5,
          5,
          5,
          9,
          4,
          6,
          8,
          6,
          6,
          10,
          1,
          6,
          9,
          10,
          10,
          8,
          6,
          5,
          1,
          8,
          6,
          5,
          4,
          7,
          9,
          9,
          9,
          3,
          6,
          5,
          4,
          6,
          3,
          5,
          3,
          4,
          1,
          4,
          4,
          9,
          10,
          7,
          1,
          5,
          4,
          4,
          8,
          7,
          3,
          10,
          5,
          4,
          5,
          3,
          3,
          1,
          7,
          7,
          1,
          3,
          9,
          9,
          7,
          4,
          2,
          1,
          9,
          7,
          3,
          6,
          8,
          6,
          6,
          4,
          10,
          10,
          1,
          5,
          4,
          1,
          10,
          2,
          8,
          7,
          3,
          10,
          6,
          6,
          6,
          7,
          9,
          8,
          6,
          1,
          1,
          5,
          3,
          1,
          8,
          2,
          5,
          10,
          5,
          3,
          1,
          10,
          1,
          9,
          4,
          9,
          3,
          7,
          10,
          8,
          10,
          8,
          10,
          4,
          9,
          7,
          8,
          7,
          2,
          8,
          9,
          4,
          10,
          1,
          8,
          4,
          10,
          10,
          8,
          10,
          1,
          3,
          1,
          10,
          3,
          10,
          1,
          8,
          8,
          10,
          8,
          5,
          6,
          9,
          4,
          6,
          3,
          4,
          9,
          7,
          2,
          6,
          2,
          3,
          2,
          5,
          7,
          1,
          7,
          10,
          2,
          1
         ],
         "yaxis": "y"
        },
        {
         "alignmentgroup": "True",
         "hovertemplate": "product_line=Home and lifestyle<br>hour=%{x}<br>quantity=%{y}<extra></extra>",
         "legendgroup": "Home and lifestyle",
         "marker": {
          "color": "#00cc96"
         },
         "name": "Home and lifestyle",
         "offsetgroup": "Home and lifestyle",
         "orientation": "v",
         "showlegend": true,
         "textposition": "auto",
         "type": "bar",
         "x": [
          13,
          11,
          15,
          12,
          19,
          13,
          18,
          10,
          11,
          11,
          15,
          10,
          10,
          10,
          18,
          20,
          20,
          20,
          19,
          18,
          15,
          16,
          15,
          13,
          13,
          16,
          19,
          10,
          12,
          20,
          10,
          20,
          10,
          12,
          17,
          19,
          15,
          12,
          11,
          18,
          14,
          11,
          11,
          10,
          17,
          16,
          13,
          11,
          15,
          17,
          17,
          13,
          14,
          14,
          14,
          15,
          10,
          17,
          12,
          18,
          10,
          14,
          17,
          10,
          17,
          16,
          19,
          10,
          20,
          13,
          19,
          19,
          13,
          10,
          15,
          15,
          12,
          16,
          20,
          13,
          13,
          19,
          17,
          17,
          20,
          18,
          11,
          13,
          13,
          11,
          11,
          11,
          13,
          13,
          16,
          17,
          17,
          14,
          15,
          15,
          14,
          11,
          18,
          17,
          12,
          17,
          19,
          19,
          16,
          12,
          15,
          13,
          11,
          10,
          15,
          11,
          12,
          15,
          14,
          19,
          15,
          11,
          19,
          17,
          17,
          13,
          13,
          18,
          16,
          10,
          11,
          18,
          13,
          11,
          11,
          11,
          14,
          12,
          12,
          17,
          10,
          10,
          11,
          15,
          10,
          12,
          13,
          20,
          20,
          19,
          18,
          18,
          11,
          12,
          15,
          12,
          13,
          15,
          17,
          15
         ],
         "xaxis": "x",
         "y": [
          7,
          10,
          2,
          2,
          8,
          8,
          1,
          2,
          2,
          2,
          10,
          6,
          9,
          4,
          6,
          9,
          9,
          2,
          8,
          7,
          6,
          6,
          8,
          5,
          10,
          9,
          8,
          4,
          1,
          4,
          3,
          4,
          1,
          5,
          10,
          5,
          1,
          8,
          4,
          8,
          8,
          4,
          8,
          6,
          4,
          4,
          10,
          9,
          2,
          10,
          8,
          1,
          1,
          7,
          6,
          4,
          1,
          8,
          6,
          9,
          8,
          9,
          6,
          4,
          6,
          5,
          9,
          9,
          4,
          1,
          4,
          8,
          4,
          10,
          6,
          9,
          6,
          10,
          1,
          9,
          10,
          2,
          6,
          5,
          5,
          2,
          6,
          6,
          5,
          7,
          1,
          3,
          4,
          3,
          3,
          5,
          7,
          2,
          4,
          7,
          3,
          3,
          9,
          10,
          2,
          10,
          5,
          4,
          10,
          9,
          4,
          3,
          3,
          7,
          7,
          9,
          7,
          2,
          5,
          9,
          5,
          6,
          8,
          6,
          8,
          10,
          1,
          5,
          4,
          2,
          7,
          4,
          1,
          9,
          7,
          4,
          8,
          6,
          4,
          4,
          10,
          8,
          3,
          9,
          6,
          2,
          6,
          6,
          3,
          10,
          5,
          3,
          6,
          10,
          9,
          3,
          7,
          3,
          10,
          1
         ],
         "yaxis": "y"
        },
        {
         "alignmentgroup": "True",
         "hovertemplate": "product_line=Sports and travel<br>hour=%{x}<br>quantity=%{y}<extra></extra>",
         "legendgroup": "Sports and travel",
         "marker": {
          "color": "#ab63fa"
         },
         "name": "Sports and travel",
         "offsetgroup": "Sports and travel",
         "orientation": "v",
         "showlegend": true,
         "textposition": "auto",
         "type": "bar",
         "x": [
          10,
          16,
          10,
          17,
          12,
          14,
          12,
          19,
          13,
          17,
          13,
          12,
          10,
          10,
          14,
          16,
          19,
          16,
          20,
          11,
          12,
          17,
          13,
          11,
          20,
          18,
          12,
          19,
          13,
          16,
          13,
          19,
          16,
          19,
          15,
          10,
          11,
          10,
          13,
          15,
          18,
          14,
          18,
          19,
          11,
          19,
          12,
          18,
          19,
          11,
          12,
          13,
          14,
          19,
          13,
          13,
          15,
          13,
          16,
          14,
          18,
          10,
          13,
          12,
          15,
          14,
          18,
          17,
          19,
          16,
          19,
          10,
          11,
          10,
          11,
          18,
          11,
          16,
          10,
          13,
          19,
          15,
          14,
          17,
          15,
          15,
          17,
          16,
          12,
          18,
          19,
          15,
          16,
          19,
          12,
          12,
          17,
          16,
          16,
          11,
          14,
          15,
          16,
          14,
          11,
          13,
          19,
          13,
          16,
          12,
          19,
          12,
          14,
          15,
          15,
          15,
          11,
          12,
          11,
          10,
          19,
          10,
          19,
          11,
          12,
          13,
          20,
          17,
          15,
          17,
          14,
          16,
          13,
          11,
          16,
          13,
          17,
          16,
          15,
          15,
          16,
          18,
          12,
          14,
          11,
          18,
          16,
          20,
          11,
          16,
          17,
          18,
          14,
          13,
          17,
          15,
          10,
          19,
          15,
          10,
          13,
          17,
          19,
          10,
          14,
          18
         ],
         "xaxis": "x",
         "y": [
          7,
          6,
          6,
          3,
          9,
          8,
          1,
          5,
          6,
          3,
          9,
          10,
          10,
          5,
          7,
          1,
          10,
          7,
          6,
          2,
          7,
          9,
          5,
          9,
          6,
          4,
          10,
          8,
          10,
          7,
          8,
          6,
          1,
          2,
          7,
          10,
          7,
          6,
          3,
          7,
          5,
          2,
          2,
          2,
          10,
          1,
          7,
          5,
          10,
          1,
          9,
          7,
          6,
          4,
          5,
          6,
          3,
          10,
          1,
          10,
          7,
          4,
          1,
          10,
          4,
          2,
          3,
          5,
          9,
          4,
          8,
          7,
          1,
          4,
          10,
          6,
          4,
          5,
          10,
          5,
          10,
          4,
          8,
          1,
          8,
          1,
          2,
          1,
          3,
          7,
          7,
          5,
          5,
          9,
          4,
          9,
          5,
          10,
          7,
          10,
          5,
          3,
          5,
          1,
          3,
          3,
          9,
          6,
          1,
          9,
          6,
          2,
          10,
          2,
          9,
          5,
          3,
          7,
          2,
          2,
          7,
          1,
          6,
          2,
          2,
          9,
          4,
          3,
          9,
          10,
          2,
          8,
          6,
          4,
          7,
          1,
          5,
          4,
          7,
          10,
          6,
          2,
          5,
          1,
          7,
          4,
          8,
          6,
          6,
          2,
          1,
          2,
          8,
          4,
          6,
          10,
          7,
          10,
          1,
          7,
          6,
          1,
          2,
          5,
          9,
          10
         ],
         "yaxis": "y"
        },
        {
         "alignmentgroup": "True",
         "hovertemplate": "product_line=Food and beverages<br>hour=%{x}<br>quantity=%{y}<extra></extra>",
         "legendgroup": "Food and beverages",
         "marker": {
          "color": "#FFA15A"
         },
         "name": "Food and beverages",
         "offsetgroup": "Food and beverages",
         "orientation": "v",
         "showlegend": true,
         "textposition": "auto",
         "type": "bar",
         "x": [
          13,
          16,
          18,
          19,
          10,
          20,
          15,
          10,
          15,
          12,
          18,
          16,
          19,
          18,
          18,
          20,
          10,
          16,
          10,
          20,
          15,
          10,
          18,
          15,
          19,
          19,
          15,
          16,
          12,
          12,
          17,
          19,
          11,
          19,
          19,
          19,
          18,
          18,
          13,
          15,
          16,
          19,
          15,
          20,
          13,
          10,
          15,
          10,
          17,
          10,
          20,
          19,
          16,
          17,
          11,
          15,
          16,
          12,
          11,
          15,
          20,
          16,
          12,
          15,
          13,
          13,
          14,
          14,
          20,
          19,
          13,
          13,
          16,
          20,
          19,
          11,
          12,
          14,
          16,
          15,
          12,
          18,
          15,
          10,
          20,
          11,
          10,
          14,
          11,
          10,
          18,
          20,
          20,
          15,
          15,
          13,
          19,
          19,
          18,
          14,
          12,
          14,
          13,
          20,
          19,
          10,
          11,
          11,
          11,
          15,
          19,
          16,
          10,
          19,
          15,
          20,
          19,
          14,
          13,
          16,
          18,
          13,
          10,
          19,
          14,
          19,
          20,
          20,
          20,
          18,
          20,
          15,
          16,
          10,
          18,
          15,
          10,
          10,
          16,
          18,
          16,
          20,
          14,
          18,
          19,
          19,
          12,
          19,
          10,
          14,
          13,
          19,
          10,
          19,
          17,
          16,
          20,
          18,
          11,
          17,
          18,
          14,
          13,
          13,
          17,
          15,
          14,
          11,
          10,
          15,
          20,
          12,
          19,
          13
         ],
         "xaxis": "x",
         "y": [
          3,
          10,
          3,
          5,
          4,
          8,
          9,
          7,
          5,
          10,
          3,
          10,
          3,
          8,
          4,
          7,
          3,
          6,
          9,
          10,
          8,
          1,
          6,
          5,
          8,
          7,
          10,
          6,
          5,
          8,
          8,
          6,
          8,
          3,
          9,
          5,
          9,
          3,
          7,
          2,
          9,
          7,
          9,
          10,
          7,
          2,
          1,
          5,
          2,
          3,
          9,
          5,
          4,
          3,
          2,
          9,
          5,
          4,
          8,
          8,
          2,
          4,
          5,
          4,
          5,
          6,
          7,
          5,
          6,
          5,
          3,
          3,
          2,
          4,
          5,
          10,
          5,
          9,
          1,
          5,
          10,
          1,
          5,
          1,
          8,
          6,
          6,
          6,
          10,
          9,
          6,
          1,
          10,
          6,
          10,
          10,
          7,
          2,
          4,
          4,
          3,
          3,
          3,
          10,
          4,
          2,
          9,
          10,
          6,
          3,
          1,
          2,
          2,
          3,
          5,
          3,
          8,
          10,
          3,
          2,
          4,
          6,
          3,
          7,
          9,
          3,
          1,
          6,
          7,
          4,
          1,
          1,
          1,
          5,
          10,
          4,
          10,
          1,
          2,
          5,
          8,
          8,
          5,
          2,
          9,
          8,
          9,
          3,
          7,
          10,
          2,
          1,
          6,
          9,
          7,
          2,
          3,
          3,
          10,
          6,
          4,
          8,
          4,
          4,
          9,
          9,
          2,
          10,
          4,
          6,
          1,
          4,
          5,
          1
         ],
         "yaxis": "y"
        },
        {
         "alignmentgroup": "True",
         "hovertemplate": "product_line=Fashion accessories<br>hour=%{x}<br>quantity=%{y}<extra></extra>",
         "legendgroup": "Fashion accessories",
         "marker": {
          "color": "#19d3f3"
         },
         "name": "Fashion accessories",
         "offsetgroup": "Fashion accessories",
         "orientation": "v",
         "showlegend": true,
         "textposition": "auto",
         "type": "bar",
         "x": [
          18,
          15,
          12,
          19,
          17,
          14,
          15,
          15,
          16,
          14,
          15,
          10,
          19,
          13,
          20,
          12,
          13,
          12,
          15,
          14,
          16,
          13,
          19,
          12,
          19,
          11,
          16,
          10,
          10,
          13,
          19,
          13,
          12,
          12,
          19,
          18,
          17,
          11,
          18,
          14,
          19,
          14,
          14,
          19,
          20,
          13,
          16,
          18,
          17,
          19,
          13,
          15,
          15,
          16,
          14,
          19,
          20,
          12,
          19,
          12,
          12,
          17,
          14,
          12,
          14,
          10,
          17,
          19,
          19,
          13,
          19,
          15,
          13,
          19,
          14,
          18,
          14,
          17,
          16,
          18,
          14,
          18,
          19,
          18,
          11,
          12,
          18,
          15,
          20,
          14,
          18,
          11,
          17,
          16,
          20,
          10,
          19,
          13,
          13,
          10,
          19,
          15,
          18,
          11,
          18,
          10,
          20,
          12,
          12,
          11,
          17,
          11,
          15,
          18,
          17,
          19,
          18,
          10,
          17,
          18,
          15,
          19,
          19,
          13,
          12,
          13,
          12,
          18,
          20,
          10,
          16,
          13,
          15,
          20,
          15,
          16,
          11,
          19,
          11,
          18,
          13,
          17,
          20,
          14,
          20,
          16,
          13,
          11,
          10,
          11,
          18,
          19,
          13,
          15,
          12,
          13,
          11,
          10,
          10,
          15,
          17,
          12,
          12,
          16,
          16,
          10,
          12,
          14,
          10,
          20,
          11,
          15,
          15,
          17,
          11,
          19,
          18,
          13
         ],
         "xaxis": "x",
         "y": [
          4,
          1,
          2,
          5,
          10,
          4,
          1,
          6,
          10,
          9,
          9,
          5,
          1,
          9,
          6,
          7,
          3,
          5,
          1,
          8,
          9,
          7,
          3,
          10,
          4,
          9,
          10,
          7,
          7,
          2,
          1,
          3,
          8,
          1,
          2,
          4,
          5,
          1,
          2,
          5,
          10,
          4,
          4,
          4,
          7,
          4,
          10,
          2,
          2,
          2,
          5,
          5,
          9,
          9,
          10,
          7,
          10,
          4,
          2,
          6,
          5,
          4,
          9,
          3,
          10,
          5,
          7,
          4,
          5,
          10,
          8,
          1,
          9,
          2,
          7,
          1,
          1,
          3,
          5,
          10,
          10,
          4,
          2,
          10,
          2,
          1,
          7,
          1,
          4,
          2,
          8,
          1,
          4,
          10,
          3,
          9,
          2,
          2,
          9,
          7,
          7,
          2,
          4,
          10,
          5,
          1,
          7,
          7,
          1,
          3,
          6,
          10,
          1,
          1,
          3,
          1,
          4,
          3,
          1,
          6,
          4,
          10,
          2,
          6,
          2,
          7,
          8,
          10,
          8,
          8,
          7,
          3,
          6,
          7,
          4,
          4,
          1,
          10,
          4,
          3,
          8,
          8,
          3,
          1,
          1,
          2,
          7,
          9,
          10,
          7,
          3,
          1,
          5,
          3,
          1,
          6,
          1,
          2,
          9,
          1,
          1,
          8,
          8,
          5,
          7,
          8,
          4,
          2,
          9,
          1,
          7,
          1,
          1,
          2,
          2,
          5,
          10,
          7
         ],
         "yaxis": "y"
        }
       ],
       "layout": {
        "barmode": "relative",
        "legend": {
         "title": {
          "text": "product_line"
         },
         "tracegroupgap": 0
        },
        "template": {
         "data": {
          "bar": [
           {
            "error_x": {
             "color": "#2a3f5f"
            },
            "error_y": {
             "color": "#2a3f5f"
            },
            "marker": {
             "line": {
              "color": "#E5ECF6",
              "width": 0.5
             }
            },
            "type": "bar"
           }
          ],
          "barpolar": [
           {
            "marker": {
             "line": {
              "color": "#E5ECF6",
              "width": 0.5
             }
            },
            "type": "barpolar"
           }
          ],
          "carpet": [
           {
            "aaxis": {
             "endlinecolor": "#2a3f5f",
             "gridcolor": "white",
             "linecolor": "white",
             "minorgridcolor": "white",
             "startlinecolor": "#2a3f5f"
            },
            "baxis": {
             "endlinecolor": "#2a3f5f",
             "gridcolor": "white",
             "linecolor": "white",
             "minorgridcolor": "white",
             "startlinecolor": "#2a3f5f"
            },
            "type": "carpet"
           }
          ],
          "choropleth": [
           {
            "colorbar": {
             "outlinewidth": 0,
             "ticks": ""
            },
            "type": "choropleth"
           }
          ],
          "contour": [
           {
            "colorbar": {
             "outlinewidth": 0,
             "ticks": ""
            },
            "colorscale": [
             [
              0,
              "#0d0887"
             ],
             [
              0.1111111111111111,
              "#46039f"
             ],
             [
              0.2222222222222222,
              "#7201a8"
             ],
             [
              0.3333333333333333,
              "#9c179e"
             ],
             [
              0.4444444444444444,
              "#bd3786"
             ],
             [
              0.5555555555555556,
              "#d8576b"
             ],
             [
              0.6666666666666666,
              "#ed7953"
             ],
             [
              0.7777777777777778,
              "#fb9f3a"
             ],
             [
              0.8888888888888888,
              "#fdca26"
             ],
             [
              1,
              "#f0f921"
             ]
            ],
            "type": "contour"
           }
          ],
          "contourcarpet": [
           {
            "colorbar": {
             "outlinewidth": 0,
             "ticks": ""
            },
            "type": "contourcarpet"
           }
          ],
          "heatmap": [
           {
            "colorbar": {
             "outlinewidth": 0,
             "ticks": ""
            },
            "colorscale": [
             [
              0,
              "#0d0887"
             ],
             [
              0.1111111111111111,
              "#46039f"
             ],
             [
              0.2222222222222222,
              "#7201a8"
             ],
             [
              0.3333333333333333,
              "#9c179e"
             ],
             [
              0.4444444444444444,
              "#bd3786"
             ],
             [
              0.5555555555555556,
              "#d8576b"
             ],
             [
              0.6666666666666666,
              "#ed7953"
             ],
             [
              0.7777777777777778,
              "#fb9f3a"
             ],
             [
              0.8888888888888888,
              "#fdca26"
             ],
             [
              1,
              "#f0f921"
             ]
            ],
            "type": "heatmap"
           }
          ],
          "heatmapgl": [
           {
            "colorbar": {
             "outlinewidth": 0,
             "ticks": ""
            },
            "colorscale": [
             [
              0,
              "#0d0887"
             ],
             [
              0.1111111111111111,
              "#46039f"
             ],
             [
              0.2222222222222222,
              "#7201a8"
             ],
             [
              0.3333333333333333,
              "#9c179e"
             ],
             [
              0.4444444444444444,
              "#bd3786"
             ],
             [
              0.5555555555555556,
              "#d8576b"
             ],
             [
              0.6666666666666666,
              "#ed7953"
             ],
             [
              0.7777777777777778,
              "#fb9f3a"
             ],
             [
              0.8888888888888888,
              "#fdca26"
             ],
             [
              1,
              "#f0f921"
             ]
            ],
            "type": "heatmapgl"
           }
          ],
          "histogram": [
           {
            "marker": {
             "colorbar": {
              "outlinewidth": 0,
              "ticks": ""
             }
            },
            "type": "histogram"
           }
          ],
          "histogram2d": [
           {
            "colorbar": {
             "outlinewidth": 0,
             "ticks": ""
            },
            "colorscale": [
             [
              0,
              "#0d0887"
             ],
             [
              0.1111111111111111,
              "#46039f"
             ],
             [
              0.2222222222222222,
              "#7201a8"
             ],
             [
              0.3333333333333333,
              "#9c179e"
             ],
             [
              0.4444444444444444,
              "#bd3786"
             ],
             [
              0.5555555555555556,
              "#d8576b"
             ],
             [
              0.6666666666666666,
              "#ed7953"
             ],
             [
              0.7777777777777778,
              "#fb9f3a"
             ],
             [
              0.8888888888888888,
              "#fdca26"
             ],
             [
              1,
              "#f0f921"
             ]
            ],
            "type": "histogram2d"
           }
          ],
          "histogram2dcontour": [
           {
            "colorbar": {
             "outlinewidth": 0,
             "ticks": ""
            },
            "colorscale": [
             [
              0,
              "#0d0887"
             ],
             [
              0.1111111111111111,
              "#46039f"
             ],
             [
              0.2222222222222222,
              "#7201a8"
             ],
             [
              0.3333333333333333,
              "#9c179e"
             ],
             [
              0.4444444444444444,
              "#bd3786"
             ],
             [
              0.5555555555555556,
              "#d8576b"
             ],
             [
              0.6666666666666666,
              "#ed7953"
             ],
             [
              0.7777777777777778,
              "#fb9f3a"
             ],
             [
              0.8888888888888888,
              "#fdca26"
             ],
             [
              1,
              "#f0f921"
             ]
            ],
            "type": "histogram2dcontour"
           }
          ],
          "mesh3d": [
           {
            "colorbar": {
             "outlinewidth": 0,
             "ticks": ""
            },
            "type": "mesh3d"
           }
          ],
          "parcoords": [
           {
            "line": {
             "colorbar": {
              "outlinewidth": 0,
              "ticks": ""
             }
            },
            "type": "parcoords"
           }
          ],
          "pie": [
           {
            "automargin": true,
            "type": "pie"
           }
          ],
          "scatter": [
           {
            "marker": {
             "colorbar": {
              "outlinewidth": 0,
              "ticks": ""
             }
            },
            "type": "scatter"
           }
          ],
          "scatter3d": [
           {
            "line": {
             "colorbar": {
              "outlinewidth": 0,
              "ticks": ""
             }
            },
            "marker": {
             "colorbar": {
              "outlinewidth": 0,
              "ticks": ""
             }
            },
            "type": "scatter3d"
           }
          ],
          "scattercarpet": [
           {
            "marker": {
             "colorbar": {
              "outlinewidth": 0,
              "ticks": ""
             }
            },
            "type": "scattercarpet"
           }
          ],
          "scattergeo": [
           {
            "marker": {
             "colorbar": {
              "outlinewidth": 0,
              "ticks": ""
             }
            },
            "type": "scattergeo"
           }
          ],
          "scattergl": [
           {
            "marker": {
             "colorbar": {
              "outlinewidth": 0,
              "ticks": ""
             }
            },
            "type": "scattergl"
           }
          ],
          "scattermapbox": [
           {
            "marker": {
             "colorbar": {
              "outlinewidth": 0,
              "ticks": ""
             }
            },
            "type": "scattermapbox"
           }
          ],
          "scatterpolar": [
           {
            "marker": {
             "colorbar": {
              "outlinewidth": 0,
              "ticks": ""
             }
            },
            "type": "scatterpolar"
           }
          ],
          "scatterpolargl": [
           {
            "marker": {
             "colorbar": {
              "outlinewidth": 0,
              "ticks": ""
             }
            },
            "type": "scatterpolargl"
           }
          ],
          "scatterternary": [
           {
            "marker": {
             "colorbar": {
              "outlinewidth": 0,
              "ticks": ""
             }
            },
            "type": "scatterternary"
           }
          ],
          "surface": [
           {
            "colorbar": {
             "outlinewidth": 0,
             "ticks": ""
            },
            "colorscale": [
             [
              0,
              "#0d0887"
             ],
             [
              0.1111111111111111,
              "#46039f"
             ],
             [
              0.2222222222222222,
              "#7201a8"
             ],
             [
              0.3333333333333333,
              "#9c179e"
             ],
             [
              0.4444444444444444,
              "#bd3786"
             ],
             [
              0.5555555555555556,
              "#d8576b"
             ],
             [
              0.6666666666666666,
              "#ed7953"
             ],
             [
              0.7777777777777778,
              "#fb9f3a"
             ],
             [
              0.8888888888888888,
              "#fdca26"
             ],
             [
              1,
              "#f0f921"
             ]
            ],
            "type": "surface"
           }
          ],
          "table": [
           {
            "cells": {
             "fill": {
              "color": "#EBF0F8"
             },
             "line": {
              "color": "white"
             }
            },
            "header": {
             "fill": {
              "color": "#C8D4E3"
             },
             "line": {
              "color": "white"
             }
            },
            "type": "table"
           }
          ]
         },
         "layout": {
          "annotationdefaults": {
           "arrowcolor": "#2a3f5f",
           "arrowhead": 0,
           "arrowwidth": 1
          },
          "autotypenumbers": "strict",
          "coloraxis": {
           "colorbar": {
            "outlinewidth": 0,
            "ticks": ""
           }
          },
          "colorscale": {
           "diverging": [
            [
             0,
             "#8e0152"
            ],
            [
             0.1,
             "#c51b7d"
            ],
            [
             0.2,
             "#de77ae"
            ],
            [
             0.3,
             "#f1b6da"
            ],
            [
             0.4,
             "#fde0ef"
            ],
            [
             0.5,
             "#f7f7f7"
            ],
            [
             0.6,
             "#e6f5d0"
            ],
            [
             0.7,
             "#b8e186"
            ],
            [
             0.8,
             "#7fbc41"
            ],
            [
             0.9,
             "#4d9221"
            ],
            [
             1,
             "#276419"
            ]
           ],
           "sequential": [
            [
             0,
             "#0d0887"
            ],
            [
             0.1111111111111111,
             "#46039f"
            ],
            [
             0.2222222222222222,
             "#7201a8"
            ],
            [
             0.3333333333333333,
             "#9c179e"
            ],
            [
             0.4444444444444444,
             "#bd3786"
            ],
            [
             0.5555555555555556,
             "#d8576b"
            ],
            [
             0.6666666666666666,
             "#ed7953"
            ],
            [
             0.7777777777777778,
             "#fb9f3a"
            ],
            [
             0.8888888888888888,
             "#fdca26"
            ],
            [
             1,
             "#f0f921"
            ]
           ],
           "sequentialminus": [
            [
             0,
             "#0d0887"
            ],
            [
             0.1111111111111111,
             "#46039f"
            ],
            [
             0.2222222222222222,
             "#7201a8"
            ],
            [
             0.3333333333333333,
             "#9c179e"
            ],
            [
             0.4444444444444444,
             "#bd3786"
            ],
            [
             0.5555555555555556,
             "#d8576b"
            ],
            [
             0.6666666666666666,
             "#ed7953"
            ],
            [
             0.7777777777777778,
             "#fb9f3a"
            ],
            [
             0.8888888888888888,
             "#fdca26"
            ],
            [
             1,
             "#f0f921"
            ]
           ]
          },
          "colorway": [
           "#636efa",
           "#EF553B",
           "#00cc96",
           "#ab63fa",
           "#FFA15A",
           "#19d3f3",
           "#FF6692",
           "#B6E880",
           "#FF97FF",
           "#FECB52"
          ],
          "font": {
           "color": "#2a3f5f"
          },
          "geo": {
           "bgcolor": "white",
           "lakecolor": "white",
           "landcolor": "#E5ECF6",
           "showlakes": true,
           "showland": true,
           "subunitcolor": "white"
          },
          "hoverlabel": {
           "align": "left"
          },
          "hovermode": "closest",
          "mapbox": {
           "style": "light"
          },
          "paper_bgcolor": "white",
          "plot_bgcolor": "#E5ECF6",
          "polar": {
           "angularaxis": {
            "gridcolor": "white",
            "linecolor": "white",
            "ticks": ""
           },
           "bgcolor": "#E5ECF6",
           "radialaxis": {
            "gridcolor": "white",
            "linecolor": "white",
            "ticks": ""
           }
          },
          "scene": {
           "xaxis": {
            "backgroundcolor": "#E5ECF6",
            "gridcolor": "white",
            "gridwidth": 2,
            "linecolor": "white",
            "showbackground": true,
            "ticks": "",
            "zerolinecolor": "white"
           },
           "yaxis": {
            "backgroundcolor": "#E5ECF6",
            "gridcolor": "white",
            "gridwidth": 2,
            "linecolor": "white",
            "showbackground": true,
            "ticks": "",
            "zerolinecolor": "white"
           },
           "zaxis": {
            "backgroundcolor": "#E5ECF6",
            "gridcolor": "white",
            "gridwidth": 2,
            "linecolor": "white",
            "showbackground": true,
            "ticks": "",
            "zerolinecolor": "white"
           }
          },
          "shapedefaults": {
           "line": {
            "color": "#2a3f5f"
           }
          },
          "ternary": {
           "aaxis": {
            "gridcolor": "white",
            "linecolor": "white",
            "ticks": ""
           },
           "baxis": {
            "gridcolor": "white",
            "linecolor": "white",
            "ticks": ""
           },
           "bgcolor": "#E5ECF6",
           "caxis": {
            "gridcolor": "white",
            "linecolor": "white",
            "ticks": ""
           }
          },
          "title": {
           "x": 0.05
          },
          "xaxis": {
           "automargin": true,
           "gridcolor": "white",
           "linecolor": "white",
           "ticks": "",
           "title": {
            "standoff": 15
           },
           "zerolinecolor": "white",
           "zerolinewidth": 2
          },
          "yaxis": {
           "automargin": true,
           "gridcolor": "white",
           "linecolor": "white",
           "ticks": "",
           "title": {
            "standoff": 15
           },
           "zerolinecolor": "white",
           "zerolinewidth": 2
          }
         }
        },
        "title": {
         "text": "quantity_vs_product_line"
        },
        "xaxis": {
         "anchor": "y",
         "domain": [
          0,
          1
         ],
         "title": {
          "text": "hour"
         }
        },
        "yaxis": {
         "anchor": "x",
         "domain": [
          0,
          1
         ],
         "title": {
          "text": "quantity"
         }
        }
       }
      },
      "text/html": [
       "<div>                            <div id=\"426699d7-24c1-4b31-9b14-a3941a4304b5\" class=\"plotly-graph-div\" style=\"height:525px; width:100%;\"></div>            <script type=\"text/javascript\">                require([\"plotly\"], function(Plotly) {                    window.PLOTLYENV=window.PLOTLYENV || {};                                    if (document.getElementById(\"426699d7-24c1-4b31-9b14-a3941a4304b5\")) {                    Plotly.newPlot(                        \"426699d7-24c1-4b31-9b14-a3941a4304b5\",                        [{\"alignmentgroup\": \"True\", \"hovertemplate\": \"product_line=Health and beauty<br>hour=%{x}<br>quantity=%{y}<extra></extra>\", \"legendgroup\": \"Health and beauty\", \"marker\": {\"color\": \"#636efa\"}, \"name\": \"Health and beauty\", \"offsetgroup\": \"Health and beauty\", \"orientation\": \"v\", \"showlegend\": true, \"textposition\": \"auto\", \"type\": \"bar\", \"x\": [13, 20, 17, 19, 11, 10, 15, 10, 13, 19, 17, 11, 14, 16, 15, 18, 18, 14, 17, 12, 20, 10, 18, 10, 16, 13, 19, 17, 12, 13, 14, 14, 11, 16, 15, 18, 19, 14, 12, 19, 10, 18, 15, 12, 19, 16, 15, 14, 18, 11, 16, 13, 18, 16, 15, 18, 10, 19, 20, 11, 16, 10, 20, 13, 13, 13, 16, 10, 17, 18, 17, 20, 15, 13, 17, 20, 20, 14, 16, 11, 19, 10, 12, 13, 12, 19, 13, 12, 10, 11, 14, 15, 20, 14, 11, 20, 14, 13, 17, 14, 12, 11, 14, 12, 18, 14, 19, 12, 20, 11, 15, 19, 18, 19, 13, 10, 10, 20, 10, 10, 14, 20, 10, 13, 18, 14, 15, 14, 13, 15, 12, 10, 17, 13, 20, 12, 18, 14, 17, 12, 19, 16, 14, 20, 12, 18, 17, 10, 14, 19, 15, 13], \"xaxis\": \"x\", \"y\": [7, 8, 2, 10, 7, 3, 9, 2, 8, 2, 9, 8, 4, 10, 2, 1, 5, 6, 6, 9, 1, 10, 7, 3, 6, 10, 10, 6, 4, 8, 9, 8, 5, 3, 8, 2, 4, 10, 9, 9, 9, 10, 5, 2, 2, 6, 6, 4, 5, 10, 1, 9, 7, 4, 1, 6, 4, 7, 7, 10, 10, 1, 5, 6, 10, 5, 1, 1, 2, 7, 1, 1, 1, 7, 8, 3, 8, 5, 5, 2, 6, 1, 9, 4, 2, 4, 4, 5, 6, 3, 10, 10, 7, 6, 6, 4, 6, 3, 8, 10, 10, 9, 7, 9, 5, 8, 3, 10, 7, 5, 4, 7, 7, 8, 5, 5, 3, 4, 1, 1, 8, 4, 3, 9, 4, 1, 7, 5, 6, 3, 2, 5, 8, 7, 5, 2, 10, 5, 9, 7, 7, 3, 5, 7, 3, 3, 4, 7, 2, 8, 8, 1], \"yaxis\": \"y\"}, {\"alignmentgroup\": \"True\", \"hovertemplate\": \"product_line=Electronic accessories<br>hour=%{x}<br>quantity=%{y}<extra></extra>\", \"legendgroup\": \"Electronic accessories\", \"marker\": {\"color\": \"#EF553B\"}, \"name\": \"Electronic accessories\", \"offsetgroup\": \"Electronic accessories\", \"orientation\": \"v\", \"showlegend\": true, \"textposition\": \"auto\", \"type\": \"bar\", \"x\": [10, 18, 14, 17, 10, 11, 11, 17, 18, 12, 19, 20, 18, 17, 20, 13, 11, 14, 14, 17, 14, 20, 19, 19, 17, 11, 11, 10, 18, 19, 20, 16, 13, 18, 16, 10, 13, 19, 19, 16, 10, 12, 13, 13, 17, 17, 20, 13, 14, 17, 12, 20, 10, 20, 11, 13, 10, 12, 18, 12, 17, 18, 15, 15, 19, 12, 19, 13, 14, 18, 16, 10, 13, 19, 14, 19, 18, 13, 20, 13, 11, 17, 16, 11, 12, 15, 20, 12, 10, 19, 16, 10, 10, 18, 12, 13, 15, 17, 10, 18, 16, 12, 15, 15, 15, 16, 18, 14, 10, 10, 19, 19, 20, 15, 12, 10, 14, 18, 12, 15, 15, 18, 20, 16, 11, 12, 12, 19, 11, 17, 18, 14, 10, 16, 18, 14, 17, 15, 17, 11, 18, 11, 14, 11, 20, 16, 10, 13, 15, 20, 15, 14, 11, 12, 12, 11, 20, 11, 14, 15, 18, 20, 18, 19, 15, 18, 11, 19, 20, 11], \"xaxis\": \"x\", \"y\": [5, 7, 6, 4, 5, 5, 5, 9, 4, 6, 8, 6, 6, 10, 1, 6, 9, 10, 10, 8, 6, 5, 1, 8, 6, 5, 4, 7, 9, 9, 9, 3, 6, 5, 4, 6, 3, 5, 3, 4, 1, 4, 4, 9, 10, 7, 1, 5, 4, 4, 8, 7, 3, 10, 5, 4, 5, 3, 3, 1, 7, 7, 1, 3, 9, 9, 7, 4, 2, 1, 9, 7, 3, 6, 8, 6, 6, 4, 10, 10, 1, 5, 4, 1, 10, 2, 8, 7, 3, 10, 6, 6, 6, 7, 9, 8, 6, 1, 1, 5, 3, 1, 8, 2, 5, 10, 5, 3, 1, 10, 1, 9, 4, 9, 3, 7, 10, 8, 10, 8, 10, 4, 9, 7, 8, 7, 2, 8, 9, 4, 10, 1, 8, 4, 10, 10, 8, 10, 1, 3, 1, 10, 3, 10, 1, 8, 8, 10, 8, 5, 6, 9, 4, 6, 3, 4, 9, 7, 2, 6, 2, 3, 2, 5, 7, 1, 7, 10, 2, 1], \"yaxis\": \"y\"}, {\"alignmentgroup\": \"True\", \"hovertemplate\": \"product_line=Home and lifestyle<br>hour=%{x}<br>quantity=%{y}<extra></extra>\", \"legendgroup\": \"Home and lifestyle\", \"marker\": {\"color\": \"#00cc96\"}, \"name\": \"Home and lifestyle\", \"offsetgroup\": \"Home and lifestyle\", \"orientation\": \"v\", \"showlegend\": true, \"textposition\": \"auto\", \"type\": \"bar\", \"x\": [13, 11, 15, 12, 19, 13, 18, 10, 11, 11, 15, 10, 10, 10, 18, 20, 20, 20, 19, 18, 15, 16, 15, 13, 13, 16, 19, 10, 12, 20, 10, 20, 10, 12, 17, 19, 15, 12, 11, 18, 14, 11, 11, 10, 17, 16, 13, 11, 15, 17, 17, 13, 14, 14, 14, 15, 10, 17, 12, 18, 10, 14, 17, 10, 17, 16, 19, 10, 20, 13, 19, 19, 13, 10, 15, 15, 12, 16, 20, 13, 13, 19, 17, 17, 20, 18, 11, 13, 13, 11, 11, 11, 13, 13, 16, 17, 17, 14, 15, 15, 14, 11, 18, 17, 12, 17, 19, 19, 16, 12, 15, 13, 11, 10, 15, 11, 12, 15, 14, 19, 15, 11, 19, 17, 17, 13, 13, 18, 16, 10, 11, 18, 13, 11, 11, 11, 14, 12, 12, 17, 10, 10, 11, 15, 10, 12, 13, 20, 20, 19, 18, 18, 11, 12, 15, 12, 13, 15, 17, 15], \"xaxis\": \"x\", \"y\": [7, 10, 2, 2, 8, 8, 1, 2, 2, 2, 10, 6, 9, 4, 6, 9, 9, 2, 8, 7, 6, 6, 8, 5, 10, 9, 8, 4, 1, 4, 3, 4, 1, 5, 10, 5, 1, 8, 4, 8, 8, 4, 8, 6, 4, 4, 10, 9, 2, 10, 8, 1, 1, 7, 6, 4, 1, 8, 6, 9, 8, 9, 6, 4, 6, 5, 9, 9, 4, 1, 4, 8, 4, 10, 6, 9, 6, 10, 1, 9, 10, 2, 6, 5, 5, 2, 6, 6, 5, 7, 1, 3, 4, 3, 3, 5, 7, 2, 4, 7, 3, 3, 9, 10, 2, 10, 5, 4, 10, 9, 4, 3, 3, 7, 7, 9, 7, 2, 5, 9, 5, 6, 8, 6, 8, 10, 1, 5, 4, 2, 7, 4, 1, 9, 7, 4, 8, 6, 4, 4, 10, 8, 3, 9, 6, 2, 6, 6, 3, 10, 5, 3, 6, 10, 9, 3, 7, 3, 10, 1], \"yaxis\": \"y\"}, {\"alignmentgroup\": \"True\", \"hovertemplate\": \"product_line=Sports and travel<br>hour=%{x}<br>quantity=%{y}<extra></extra>\", \"legendgroup\": \"Sports and travel\", \"marker\": {\"color\": \"#ab63fa\"}, \"name\": \"Sports and travel\", \"offsetgroup\": \"Sports and travel\", \"orientation\": \"v\", \"showlegend\": true, \"textposition\": \"auto\", \"type\": \"bar\", \"x\": [10, 16, 10, 17, 12, 14, 12, 19, 13, 17, 13, 12, 10, 10, 14, 16, 19, 16, 20, 11, 12, 17, 13, 11, 20, 18, 12, 19, 13, 16, 13, 19, 16, 19, 15, 10, 11, 10, 13, 15, 18, 14, 18, 19, 11, 19, 12, 18, 19, 11, 12, 13, 14, 19, 13, 13, 15, 13, 16, 14, 18, 10, 13, 12, 15, 14, 18, 17, 19, 16, 19, 10, 11, 10, 11, 18, 11, 16, 10, 13, 19, 15, 14, 17, 15, 15, 17, 16, 12, 18, 19, 15, 16, 19, 12, 12, 17, 16, 16, 11, 14, 15, 16, 14, 11, 13, 19, 13, 16, 12, 19, 12, 14, 15, 15, 15, 11, 12, 11, 10, 19, 10, 19, 11, 12, 13, 20, 17, 15, 17, 14, 16, 13, 11, 16, 13, 17, 16, 15, 15, 16, 18, 12, 14, 11, 18, 16, 20, 11, 16, 17, 18, 14, 13, 17, 15, 10, 19, 15, 10, 13, 17, 19, 10, 14, 18], \"xaxis\": \"x\", \"y\": [7, 6, 6, 3, 9, 8, 1, 5, 6, 3, 9, 10, 10, 5, 7, 1, 10, 7, 6, 2, 7, 9, 5, 9, 6, 4, 10, 8, 10, 7, 8, 6, 1, 2, 7, 10, 7, 6, 3, 7, 5, 2, 2, 2, 10, 1, 7, 5, 10, 1, 9, 7, 6, 4, 5, 6, 3, 10, 1, 10, 7, 4, 1, 10, 4, 2, 3, 5, 9, 4, 8, 7, 1, 4, 10, 6, 4, 5, 10, 5, 10, 4, 8, 1, 8, 1, 2, 1, 3, 7, 7, 5, 5, 9, 4, 9, 5, 10, 7, 10, 5, 3, 5, 1, 3, 3, 9, 6, 1, 9, 6, 2, 10, 2, 9, 5, 3, 7, 2, 2, 7, 1, 6, 2, 2, 9, 4, 3, 9, 10, 2, 8, 6, 4, 7, 1, 5, 4, 7, 10, 6, 2, 5, 1, 7, 4, 8, 6, 6, 2, 1, 2, 8, 4, 6, 10, 7, 10, 1, 7, 6, 1, 2, 5, 9, 10], \"yaxis\": \"y\"}, {\"alignmentgroup\": \"True\", \"hovertemplate\": \"product_line=Food and beverages<br>hour=%{x}<br>quantity=%{y}<extra></extra>\", \"legendgroup\": \"Food and beverages\", \"marker\": {\"color\": \"#FFA15A\"}, \"name\": \"Food and beverages\", \"offsetgroup\": \"Food and beverages\", \"orientation\": \"v\", \"showlegend\": true, \"textposition\": \"auto\", \"type\": \"bar\", \"x\": [13, 16, 18, 19, 10, 20, 15, 10, 15, 12, 18, 16, 19, 18, 18, 20, 10, 16, 10, 20, 15, 10, 18, 15, 19, 19, 15, 16, 12, 12, 17, 19, 11, 19, 19, 19, 18, 18, 13, 15, 16, 19, 15, 20, 13, 10, 15, 10, 17, 10, 20, 19, 16, 17, 11, 15, 16, 12, 11, 15, 20, 16, 12, 15, 13, 13, 14, 14, 20, 19, 13, 13, 16, 20, 19, 11, 12, 14, 16, 15, 12, 18, 15, 10, 20, 11, 10, 14, 11, 10, 18, 20, 20, 15, 15, 13, 19, 19, 18, 14, 12, 14, 13, 20, 19, 10, 11, 11, 11, 15, 19, 16, 10, 19, 15, 20, 19, 14, 13, 16, 18, 13, 10, 19, 14, 19, 20, 20, 20, 18, 20, 15, 16, 10, 18, 15, 10, 10, 16, 18, 16, 20, 14, 18, 19, 19, 12, 19, 10, 14, 13, 19, 10, 19, 17, 16, 20, 18, 11, 17, 18, 14, 13, 13, 17, 15, 14, 11, 10, 15, 20, 12, 19, 13], \"xaxis\": \"x\", \"y\": [3, 10, 3, 5, 4, 8, 9, 7, 5, 10, 3, 10, 3, 8, 4, 7, 3, 6, 9, 10, 8, 1, 6, 5, 8, 7, 10, 6, 5, 8, 8, 6, 8, 3, 9, 5, 9, 3, 7, 2, 9, 7, 9, 10, 7, 2, 1, 5, 2, 3, 9, 5, 4, 3, 2, 9, 5, 4, 8, 8, 2, 4, 5, 4, 5, 6, 7, 5, 6, 5, 3, 3, 2, 4, 5, 10, 5, 9, 1, 5, 10, 1, 5, 1, 8, 6, 6, 6, 10, 9, 6, 1, 10, 6, 10, 10, 7, 2, 4, 4, 3, 3, 3, 10, 4, 2, 9, 10, 6, 3, 1, 2, 2, 3, 5, 3, 8, 10, 3, 2, 4, 6, 3, 7, 9, 3, 1, 6, 7, 4, 1, 1, 1, 5, 10, 4, 10, 1, 2, 5, 8, 8, 5, 2, 9, 8, 9, 3, 7, 10, 2, 1, 6, 9, 7, 2, 3, 3, 10, 6, 4, 8, 4, 4, 9, 9, 2, 10, 4, 6, 1, 4, 5, 1], \"yaxis\": \"y\"}, {\"alignmentgroup\": \"True\", \"hovertemplate\": \"product_line=Fashion accessories<br>hour=%{x}<br>quantity=%{y}<extra></extra>\", \"legendgroup\": \"Fashion accessories\", \"marker\": {\"color\": \"#19d3f3\"}, \"name\": \"Fashion accessories\", \"offsetgroup\": \"Fashion accessories\", \"orientation\": \"v\", \"showlegend\": true, \"textposition\": \"auto\", \"type\": \"bar\", \"x\": [18, 15, 12, 19, 17, 14, 15, 15, 16, 14, 15, 10, 19, 13, 20, 12, 13, 12, 15, 14, 16, 13, 19, 12, 19, 11, 16, 10, 10, 13, 19, 13, 12, 12, 19, 18, 17, 11, 18, 14, 19, 14, 14, 19, 20, 13, 16, 18, 17, 19, 13, 15, 15, 16, 14, 19, 20, 12, 19, 12, 12, 17, 14, 12, 14, 10, 17, 19, 19, 13, 19, 15, 13, 19, 14, 18, 14, 17, 16, 18, 14, 18, 19, 18, 11, 12, 18, 15, 20, 14, 18, 11, 17, 16, 20, 10, 19, 13, 13, 10, 19, 15, 18, 11, 18, 10, 20, 12, 12, 11, 17, 11, 15, 18, 17, 19, 18, 10, 17, 18, 15, 19, 19, 13, 12, 13, 12, 18, 20, 10, 16, 13, 15, 20, 15, 16, 11, 19, 11, 18, 13, 17, 20, 14, 20, 16, 13, 11, 10, 11, 18, 19, 13, 15, 12, 13, 11, 10, 10, 15, 17, 12, 12, 16, 16, 10, 12, 14, 10, 20, 11, 15, 15, 17, 11, 19, 18, 13], \"xaxis\": \"x\", \"y\": [4, 1, 2, 5, 10, 4, 1, 6, 10, 9, 9, 5, 1, 9, 6, 7, 3, 5, 1, 8, 9, 7, 3, 10, 4, 9, 10, 7, 7, 2, 1, 3, 8, 1, 2, 4, 5, 1, 2, 5, 10, 4, 4, 4, 7, 4, 10, 2, 2, 2, 5, 5, 9, 9, 10, 7, 10, 4, 2, 6, 5, 4, 9, 3, 10, 5, 7, 4, 5, 10, 8, 1, 9, 2, 7, 1, 1, 3, 5, 10, 10, 4, 2, 10, 2, 1, 7, 1, 4, 2, 8, 1, 4, 10, 3, 9, 2, 2, 9, 7, 7, 2, 4, 10, 5, 1, 7, 7, 1, 3, 6, 10, 1, 1, 3, 1, 4, 3, 1, 6, 4, 10, 2, 6, 2, 7, 8, 10, 8, 8, 7, 3, 6, 7, 4, 4, 1, 10, 4, 3, 8, 8, 3, 1, 1, 2, 7, 9, 10, 7, 3, 1, 5, 3, 1, 6, 1, 2, 9, 1, 1, 8, 8, 5, 7, 8, 4, 2, 9, 1, 7, 1, 1, 2, 2, 5, 10, 7], \"yaxis\": \"y\"}],                        {\"barmode\": \"relative\", \"legend\": {\"title\": {\"text\": \"product_line\"}, \"tracegroupgap\": 0}, \"template\": {\"data\": {\"bar\": [{\"error_x\": {\"color\": \"#2a3f5f\"}, \"error_y\": {\"color\": \"#2a3f5f\"}, \"marker\": {\"line\": {\"color\": \"#E5ECF6\", \"width\": 0.5}}, \"type\": \"bar\"}], \"barpolar\": [{\"marker\": {\"line\": {\"color\": \"#E5ECF6\", \"width\": 0.5}}, \"type\": \"barpolar\"}], \"carpet\": [{\"aaxis\": {\"endlinecolor\": \"#2a3f5f\", \"gridcolor\": \"white\", \"linecolor\": \"white\", \"minorgridcolor\": \"white\", \"startlinecolor\": \"#2a3f5f\"}, \"baxis\": {\"endlinecolor\": \"#2a3f5f\", \"gridcolor\": \"white\", \"linecolor\": \"white\", \"minorgridcolor\": \"white\", \"startlinecolor\": \"#2a3f5f\"}, \"type\": \"carpet\"}], \"choropleth\": [{\"colorbar\": {\"outlinewidth\": 0, \"ticks\": \"\"}, \"type\": \"choropleth\"}], \"contour\": [{\"colorbar\": {\"outlinewidth\": 0, \"ticks\": \"\"}, \"colorscale\": [[0.0, \"#0d0887\"], [0.1111111111111111, \"#46039f\"], [0.2222222222222222, \"#7201a8\"], [0.3333333333333333, \"#9c179e\"], [0.4444444444444444, \"#bd3786\"], [0.5555555555555556, \"#d8576b\"], [0.6666666666666666, \"#ed7953\"], [0.7777777777777778, \"#fb9f3a\"], [0.8888888888888888, \"#fdca26\"], [1.0, \"#f0f921\"]], \"type\": \"contour\"}], \"contourcarpet\": [{\"colorbar\": {\"outlinewidth\": 0, \"ticks\": \"\"}, \"type\": \"contourcarpet\"}], \"heatmap\": [{\"colorbar\": {\"outlinewidth\": 0, \"ticks\": \"\"}, \"colorscale\": [[0.0, \"#0d0887\"], [0.1111111111111111, \"#46039f\"], [0.2222222222222222, \"#7201a8\"], [0.3333333333333333, \"#9c179e\"], [0.4444444444444444, \"#bd3786\"], [0.5555555555555556, \"#d8576b\"], [0.6666666666666666, \"#ed7953\"], [0.7777777777777778, \"#fb9f3a\"], [0.8888888888888888, \"#fdca26\"], [1.0, \"#f0f921\"]], \"type\": \"heatmap\"}], \"heatmapgl\": [{\"colorbar\": {\"outlinewidth\": 0, \"ticks\": \"\"}, \"colorscale\": [[0.0, \"#0d0887\"], [0.1111111111111111, \"#46039f\"], [0.2222222222222222, \"#7201a8\"], [0.3333333333333333, \"#9c179e\"], [0.4444444444444444, \"#bd3786\"], [0.5555555555555556, \"#d8576b\"], [0.6666666666666666, \"#ed7953\"], [0.7777777777777778, \"#fb9f3a\"], [0.8888888888888888, \"#fdca26\"], [1.0, \"#f0f921\"]], \"type\": \"heatmapgl\"}], \"histogram\": [{\"marker\": {\"colorbar\": {\"outlinewidth\": 0, \"ticks\": \"\"}}, \"type\": \"histogram\"}], \"histogram2d\": [{\"colorbar\": {\"outlinewidth\": 0, \"ticks\": \"\"}, \"colorscale\": [[0.0, \"#0d0887\"], [0.1111111111111111, \"#46039f\"], [0.2222222222222222, \"#7201a8\"], [0.3333333333333333, \"#9c179e\"], [0.4444444444444444, \"#bd3786\"], [0.5555555555555556, \"#d8576b\"], [0.6666666666666666, \"#ed7953\"], [0.7777777777777778, \"#fb9f3a\"], [0.8888888888888888, \"#fdca26\"], [1.0, \"#f0f921\"]], \"type\": \"histogram2d\"}], \"histogram2dcontour\": [{\"colorbar\": {\"outlinewidth\": 0, \"ticks\": \"\"}, \"colorscale\": [[0.0, \"#0d0887\"], [0.1111111111111111, \"#46039f\"], [0.2222222222222222, \"#7201a8\"], [0.3333333333333333, \"#9c179e\"], [0.4444444444444444, \"#bd3786\"], [0.5555555555555556, \"#d8576b\"], [0.6666666666666666, \"#ed7953\"], [0.7777777777777778, \"#fb9f3a\"], [0.8888888888888888, \"#fdca26\"], [1.0, \"#f0f921\"]], \"type\": \"histogram2dcontour\"}], \"mesh3d\": [{\"colorbar\": {\"outlinewidth\": 0, \"ticks\": \"\"}, \"type\": \"mesh3d\"}], \"parcoords\": [{\"line\": {\"colorbar\": {\"outlinewidth\": 0, \"ticks\": \"\"}}, \"type\": \"parcoords\"}], \"pie\": [{\"automargin\": true, \"type\": \"pie\"}], \"scatter\": [{\"marker\": {\"colorbar\": {\"outlinewidth\": 0, \"ticks\": \"\"}}, \"type\": \"scatter\"}], \"scatter3d\": [{\"line\": {\"colorbar\": {\"outlinewidth\": 0, \"ticks\": \"\"}}, \"marker\": {\"colorbar\": {\"outlinewidth\": 0, \"ticks\": \"\"}}, \"type\": \"scatter3d\"}], \"scattercarpet\": [{\"marker\": {\"colorbar\": {\"outlinewidth\": 0, \"ticks\": \"\"}}, \"type\": \"scattercarpet\"}], \"scattergeo\": [{\"marker\": {\"colorbar\": {\"outlinewidth\": 0, \"ticks\": \"\"}}, \"type\": \"scattergeo\"}], \"scattergl\": [{\"marker\": {\"colorbar\": {\"outlinewidth\": 0, \"ticks\": \"\"}}, \"type\": \"scattergl\"}], \"scattermapbox\": [{\"marker\": {\"colorbar\": {\"outlinewidth\": 0, \"ticks\": \"\"}}, \"type\": \"scattermapbox\"}], \"scatterpolar\": [{\"marker\": {\"colorbar\": {\"outlinewidth\": 0, \"ticks\": \"\"}}, \"type\": \"scatterpolar\"}], \"scatterpolargl\": [{\"marker\": {\"colorbar\": {\"outlinewidth\": 0, \"ticks\": \"\"}}, \"type\": \"scatterpolargl\"}], \"scatterternary\": [{\"marker\": {\"colorbar\": {\"outlinewidth\": 0, \"ticks\": \"\"}}, \"type\": \"scatterternary\"}], \"surface\": [{\"colorbar\": {\"outlinewidth\": 0, \"ticks\": \"\"}, \"colorscale\": [[0.0, \"#0d0887\"], [0.1111111111111111, \"#46039f\"], [0.2222222222222222, \"#7201a8\"], [0.3333333333333333, \"#9c179e\"], [0.4444444444444444, \"#bd3786\"], [0.5555555555555556, \"#d8576b\"], [0.6666666666666666, \"#ed7953\"], [0.7777777777777778, \"#fb9f3a\"], [0.8888888888888888, \"#fdca26\"], [1.0, \"#f0f921\"]], \"type\": \"surface\"}], \"table\": [{\"cells\": {\"fill\": {\"color\": \"#EBF0F8\"}, \"line\": {\"color\": \"white\"}}, \"header\": {\"fill\": {\"color\": \"#C8D4E3\"}, \"line\": {\"color\": \"white\"}}, \"type\": \"table\"}]}, \"layout\": {\"annotationdefaults\": {\"arrowcolor\": \"#2a3f5f\", \"arrowhead\": 0, \"arrowwidth\": 1}, \"autotypenumbers\": \"strict\", \"coloraxis\": {\"colorbar\": {\"outlinewidth\": 0, \"ticks\": \"\"}}, \"colorscale\": {\"diverging\": [[0, \"#8e0152\"], [0.1, \"#c51b7d\"], [0.2, \"#de77ae\"], [0.3, \"#f1b6da\"], [0.4, \"#fde0ef\"], [0.5, \"#f7f7f7\"], [0.6, \"#e6f5d0\"], [0.7, \"#b8e186\"], [0.8, \"#7fbc41\"], [0.9, \"#4d9221\"], [1, \"#276419\"]], \"sequential\": [[0.0, \"#0d0887\"], [0.1111111111111111, \"#46039f\"], [0.2222222222222222, \"#7201a8\"], [0.3333333333333333, \"#9c179e\"], [0.4444444444444444, \"#bd3786\"], [0.5555555555555556, \"#d8576b\"], [0.6666666666666666, \"#ed7953\"], [0.7777777777777778, \"#fb9f3a\"], [0.8888888888888888, \"#fdca26\"], [1.0, \"#f0f921\"]], \"sequentialminus\": [[0.0, \"#0d0887\"], [0.1111111111111111, \"#46039f\"], [0.2222222222222222, \"#7201a8\"], [0.3333333333333333, \"#9c179e\"], [0.4444444444444444, \"#bd3786\"], [0.5555555555555556, \"#d8576b\"], [0.6666666666666666, \"#ed7953\"], [0.7777777777777778, \"#fb9f3a\"], [0.8888888888888888, \"#fdca26\"], [1.0, \"#f0f921\"]]}, \"colorway\": [\"#636efa\", \"#EF553B\", \"#00cc96\", \"#ab63fa\", \"#FFA15A\", \"#19d3f3\", \"#FF6692\", \"#B6E880\", \"#FF97FF\", \"#FECB52\"], \"font\": {\"color\": \"#2a3f5f\"}, \"geo\": {\"bgcolor\": \"white\", \"lakecolor\": \"white\", \"landcolor\": \"#E5ECF6\", \"showlakes\": true, \"showland\": true, \"subunitcolor\": \"white\"}, \"hoverlabel\": {\"align\": \"left\"}, \"hovermode\": \"closest\", \"mapbox\": {\"style\": \"light\"}, \"paper_bgcolor\": \"white\", \"plot_bgcolor\": \"#E5ECF6\", \"polar\": {\"angularaxis\": {\"gridcolor\": \"white\", \"linecolor\": \"white\", \"ticks\": \"\"}, \"bgcolor\": \"#E5ECF6\", \"radialaxis\": {\"gridcolor\": \"white\", \"linecolor\": \"white\", \"ticks\": \"\"}}, \"scene\": {\"xaxis\": {\"backgroundcolor\": \"#E5ECF6\", \"gridcolor\": \"white\", \"gridwidth\": 2, \"linecolor\": \"white\", \"showbackground\": true, \"ticks\": \"\", \"zerolinecolor\": \"white\"}, \"yaxis\": {\"backgroundcolor\": \"#E5ECF6\", \"gridcolor\": \"white\", \"gridwidth\": 2, \"linecolor\": \"white\", \"showbackground\": true, \"ticks\": \"\", \"zerolinecolor\": \"white\"}, \"zaxis\": {\"backgroundcolor\": \"#E5ECF6\", \"gridcolor\": \"white\", \"gridwidth\": 2, \"linecolor\": \"white\", \"showbackground\": true, \"ticks\": \"\", \"zerolinecolor\": \"white\"}}, \"shapedefaults\": {\"line\": {\"color\": \"#2a3f5f\"}}, \"ternary\": {\"aaxis\": {\"gridcolor\": \"white\", \"linecolor\": \"white\", \"ticks\": \"\"}, \"baxis\": {\"gridcolor\": \"white\", \"linecolor\": \"white\", \"ticks\": \"\"}, \"bgcolor\": \"#E5ECF6\", \"caxis\": {\"gridcolor\": \"white\", \"linecolor\": \"white\", \"ticks\": \"\"}}, \"title\": {\"x\": 0.05}, \"xaxis\": {\"automargin\": true, \"gridcolor\": \"white\", \"linecolor\": \"white\", \"ticks\": \"\", \"title\": {\"standoff\": 15}, \"zerolinecolor\": \"white\", \"zerolinewidth\": 2}, \"yaxis\": {\"automargin\": true, \"gridcolor\": \"white\", \"linecolor\": \"white\", \"ticks\": \"\", \"title\": {\"standoff\": 15}, \"zerolinecolor\": \"white\", \"zerolinewidth\": 2}}}, \"title\": {\"text\": \"quantity_vs_product_line\"}, \"xaxis\": {\"anchor\": \"y\", \"domain\": [0.0, 1.0], \"title\": {\"text\": \"hour\"}}, \"yaxis\": {\"anchor\": \"x\", \"domain\": [0.0, 1.0], \"title\": {\"text\": \"quantity\"}}},                        {\"responsive\": true}                    ).then(function(){\n",
       "                            \n",
       "var gd = document.getElementById('426699d7-24c1-4b31-9b14-a3941a4304b5');\n",
       "var x = new MutationObserver(function (mutations, observer) {{\n",
       "        var display = window.getComputedStyle(gd).display;\n",
       "        if (!display || display === 'none') {{\n",
       "            console.log([gd, 'removed!']);\n",
       "            Plotly.purge(gd);\n",
       "            observer.disconnect();\n",
       "        }}\n",
       "}});\n",
       "\n",
       "// Listen for the removal of the full notebook cells\n",
       "var notebookContainer = gd.closest('#notebook-container');\n",
       "if (notebookContainer) {{\n",
       "    x.observe(notebookContainer, {childList: true});\n",
       "}}\n",
       "\n",
       "// Listen for the clearing of the current output cell\n",
       "var outputEl = gd.closest('.output');\n",
       "if (outputEl) {{\n",
       "    x.observe(outputEl, {childList: true});\n",
       "}}\n",
       "\n",
       "                        })                };                });            </script>        </div>"
      ]
     },
     "metadata": {},
     "output_type": "display_data"
    }
   ],
   "source": [
    "px.bar(df, x=\"hour\", y=\"quantity\", color=\"product_line\", title=\"quantity_vs_product_line\")\n",
    "\n",
    "#видно, что больше всего товаров покупают в 19 часов"
   ]
  },
  {
   "cell_type": "code",
   "execution_count": 311,
   "metadata": {},
   "outputs": [
    {
     "data": {
      "text/html": [
       "<div>\n",
       "<style scoped>\n",
       "    .dataframe tbody tr th:only-of-type {\n",
       "        vertical-align: middle;\n",
       "    }\n",
       "\n",
       "    .dataframe tbody tr th {\n",
       "        vertical-align: top;\n",
       "    }\n",
       "\n",
       "    .dataframe thead th {\n",
       "        text-align: right;\n",
       "    }\n",
       "</style>\n",
       "<table border=\"1\" class=\"dataframe\">\n",
       "  <thead>\n",
       "    <tr style=\"text-align: right;\">\n",
       "      <th></th>\n",
       "      <th>date</th>\n",
       "      <th>quantity</th>\n",
       "    </tr>\n",
       "  </thead>\n",
       "  <tbody>\n",
       "    <tr>\n",
       "      <th>37</th>\n",
       "      <td>2019-02-07</td>\n",
       "      <td>128</td>\n",
       "    </tr>\n",
       "    <tr>\n",
       "      <th>72</th>\n",
       "      <td>2019-03-14</td>\n",
       "      <td>117</td>\n",
       "    </tr>\n",
       "    <tr>\n",
       "      <th>45</th>\n",
       "      <td>2019-02-15</td>\n",
       "      <td>106</td>\n",
       "    </tr>\n",
       "    <tr>\n",
       "      <th>63</th>\n",
       "      <td>2019-03-05</td>\n",
       "      <td>103</td>\n",
       "    </tr>\n",
       "    <tr>\n",
       "      <th>67</th>\n",
       "      <td>2019-03-09</td>\n",
       "      <td>99</td>\n",
       "    </tr>\n",
       "  </tbody>\n",
       "</table>\n",
       "</div>"
      ],
      "text/plain": [
       "         date  quantity\n",
       "37 2019-02-07       128\n",
       "72 2019-03-14       117\n",
       "45 2019-02-15       106\n",
       "63 2019-03-05       103\n",
       "67 2019-03-09        99"
      ]
     },
     "execution_count": 311,
     "metadata": {},
     "output_type": "execute_result"
    }
   ],
   "source": [
    "#посмотрим, когда было продано наибольшее число товаров, выведем топ-5\n",
    "\n",
    "df.groupby('date', as_index=False) \\\n",
    "    .agg({'quantity':'sum'}) \\\n",
    "    .sort_values(\"quantity\", ascending=False) \\\n",
    "    .head(5)\n",
    "\n",
    "#7 февраля и 14 марта наибольшее число товаров продано. построим график"
   ]
  },
  {
   "cell_type": "code",
   "execution_count": 312,
   "metadata": {},
   "outputs": [
    {
     "data": {
      "application/vnd.plotly.v1+json": {
       "config": {
        "plotlyServerURL": "https://plot.ly"
       },
       "data": [
        {
         "alignmentgroup": "True",
         "hovertemplate": "product_line=Health and beauty<br>date=%{x}<br>quantity=%{y}<extra></extra>",
         "legendgroup": "Health and beauty",
         "marker": {
          "color": "#636efa"
         },
         "name": "Health and beauty",
         "offsetgroup": "Health and beauty",
         "orientation": "v",
         "showlegend": true,
         "textposition": "auto",
         "type": "bar",
         "x": [
          "2019-01-05T00:00:00",
          "2019-01-27T00:00:00",
          "2019-01-10T00:00:00",
          "2019-03-29T00:00:00",
          "2019-03-11T00:00:00",
          "2019-03-05T00:00:00",
          "2019-03-15T00:00:00",
          "2019-03-15T00:00:00",
          "2019-03-23T00:00:00",
          "2019-03-16T00:00:00",
          "2019-02-27T00:00:00",
          "2019-02-07T00:00:00",
          "2019-02-14T00:00:00",
          "2019-03-13T00:00:00",
          "2019-02-10T00:00:00",
          "2019-02-02T00:00:00",
          "2019-01-22T00:00:00",
          "2019-01-21T00:00:00",
          "2019-02-27T00:00:00",
          "2019-03-12T00:00:00",
          "2019-02-06T00:00:00",
          "2019-03-29T00:00:00",
          "2019-03-19T00:00:00",
          "2019-02-05T00:00:00",
          "2019-03-08T00:00:00",
          "2019-01-25T00:00:00",
          "2019-02-05T00:00:00",
          "2019-03-08T00:00:00",
          "2019-03-19T00:00:00",
          "2019-03-27T00:00:00",
          "2019-03-30T00:00:00",
          "2019-02-25T00:00:00",
          "2019-01-03T00:00:00",
          "2019-01-28T00:00:00",
          "2019-01-25T00:00:00",
          "2019-03-26T00:00:00",
          "2019-03-12T00:00:00",
          "2019-02-06T00:00:00",
          "2019-01-03T00:00:00",
          "2019-01-26T00:00:00",
          "2019-02-11T00:00:00",
          "2019-03-09T00:00:00",
          "2019-01-28T00:00:00",
          "2019-03-11T00:00:00",
          "2019-01-03T00:00:00",
          "2019-02-26T00:00:00",
          "2019-03-04T00:00:00",
          "2019-03-12T00:00:00",
          "2019-02-20T00:00:00",
          "2019-03-13T00:00:00",
          "2019-03-12T00:00:00",
          "2019-03-07T00:00:00",
          "2019-03-11T00:00:00",
          "2019-02-18T00:00:00",
          "2019-01-18T00:00:00",
          "2019-02-15T00:00:00",
          "2019-01-25T00:00:00",
          "2019-03-05T00:00:00",
          "2019-02-15T00:00:00",
          "2019-02-27T00:00:00",
          "2019-02-20T00:00:00",
          "2019-03-06T00:00:00",
          "2019-01-24T00:00:00",
          "2019-03-05T00:00:00",
          "2019-01-02T00:00:00",
          "2019-01-04T00:00:00",
          "2019-01-25T00:00:00",
          "2019-01-22T00:00:00",
          "2019-01-12T00:00:00",
          "2019-01-21T00:00:00",
          "2019-01-28T00:00:00",
          "2019-01-12T00:00:00",
          "2019-03-03T00:00:00",
          "2019-02-08T00:00:00",
          "2019-03-30T00:00:00",
          "2019-02-25T00:00:00",
          "2019-03-05T00:00:00",
          "2019-03-29T00:00:00",
          "2019-03-29T00:00:00",
          "2019-01-01T00:00:00",
          "2019-02-12T00:00:00",
          "2019-01-03T00:00:00",
          "2019-02-05T00:00:00",
          "2019-03-26T00:00:00",
          "2019-03-01T00:00:00",
          "2019-02-01T00:00:00",
          "2019-03-09T00:00:00",
          "2019-03-04T00:00:00",
          "2019-03-03T00:00:00",
          "2019-03-01T00:00:00",
          "2019-03-14T00:00:00",
          "2019-01-15T00:00:00",
          "2019-03-03T00:00:00",
          "2019-03-30T00:00:00",
          "2019-01-22T00:00:00",
          "2019-02-23T00:00:00",
          "2019-02-16T00:00:00",
          "2019-03-02T00:00:00",
          "2019-02-15T00:00:00",
          "2019-02-07T00:00:00",
          "2019-03-04T00:00:00",
          "2019-01-06T00:00:00",
          "2019-03-29T00:00:00",
          "2019-02-04T00:00:00",
          "2019-02-06T00:00:00",
          "2019-02-06T00:00:00",
          "2019-02-28T00:00:00",
          "2019-03-10T00:00:00",
          "2019-01-15T00:00:00",
          "2019-03-26T00:00:00",
          "2019-01-20T00:00:00",
          "2019-02-27T00:00:00",
          "2019-03-05T00:00:00",
          "2019-02-19T00:00:00",
          "2019-02-24T00:00:00",
          "2019-01-23T00:00:00",
          "2019-01-14T00:00:00",
          "2019-02-15T00:00:00",
          "2019-03-15T00:00:00",
          "2019-01-14T00:00:00",
          "2019-03-15T00:00:00",
          "2019-01-27T00:00:00",
          "2019-03-04T00:00:00",
          "2019-01-28T00:00:00",
          "2019-02-25T00:00:00",
          "2019-02-14T00:00:00",
          "2019-01-14T00:00:00",
          "2019-01-23T00:00:00",
          "2019-02-15T00:00:00",
          "2019-01-26T00:00:00",
          "2019-01-17T00:00:00",
          "2019-02-21T00:00:00",
          "2019-01-28T00:00:00",
          "2019-03-02T00:00:00",
          "2019-03-26T00:00:00",
          "2019-02-14T00:00:00",
          "2019-02-09T00:00:00",
          "2019-03-24T00:00:00",
          "2019-01-13T00:00:00",
          "2019-01-20T00:00:00",
          "2019-01-05T00:00:00",
          "2019-02-17T00:00:00",
          "2019-02-19T00:00:00",
          "2019-03-28T00:00:00",
          "2019-02-21T00:00:00",
          "2019-03-25T00:00:00",
          "2019-01-23T00:00:00",
          "2019-01-23T00:00:00",
          "2019-02-18T00:00:00",
          "2019-01-03T00:00:00",
          "2019-01-28T00:00:00",
          "2019-01-29T00:00:00"
         ],
         "xaxis": "x",
         "y": [
          7,
          8,
          2,
          10,
          7,
          3,
          9,
          2,
          8,
          2,
          9,
          8,
          4,
          10,
          2,
          1,
          5,
          6,
          6,
          9,
          1,
          10,
          7,
          3,
          6,
          10,
          10,
          6,
          4,
          8,
          9,
          8,
          5,
          3,
          8,
          2,
          4,
          10,
          9,
          9,
          9,
          10,
          5,
          2,
          2,
          6,
          6,
          4,
          5,
          10,
          1,
          9,
          7,
          4,
          1,
          6,
          4,
          7,
          7,
          10,
          10,
          1,
          5,
          6,
          10,
          5,
          1,
          1,
          2,
          7,
          1,
          1,
          1,
          7,
          8,
          3,
          8,
          5,
          5,
          2,
          6,
          1,
          9,
          4,
          2,
          4,
          4,
          5,
          6,
          3,
          10,
          10,
          7,
          6,
          6,
          4,
          6,
          3,
          8,
          10,
          10,
          9,
          7,
          9,
          5,
          8,
          3,
          10,
          7,
          5,
          4,
          7,
          7,
          8,
          5,
          5,
          3,
          4,
          1,
          1,
          8,
          4,
          3,
          9,
          4,
          1,
          7,
          5,
          6,
          3,
          2,
          5,
          8,
          7,
          5,
          2,
          10,
          5,
          9,
          7,
          7,
          3,
          5,
          7,
          3,
          3,
          4,
          7,
          2,
          8,
          8,
          1
         ],
         "yaxis": "y"
        },
        {
         "alignmentgroup": "True",
         "hovertemplate": "product_line=Electronic accessories<br>date=%{x}<br>quantity=%{y}<extra></extra>",
         "legendgroup": "Electronic accessories",
         "marker": {
          "color": "#EF553B"
         },
         "name": "Electronic accessories",
         "offsetgroup": "Electronic accessories",
         "orientation": "v",
         "showlegend": true,
         "textposition": "auto",
         "type": "bar",
         "x": [
          "2019-03-08T00:00:00",
          "2019-03-25T00:00:00",
          "2019-02-25T00:00:00",
          "2019-03-09T00:00:00",
          "2019-02-12T00:00:00",
          "2019-02-25T00:00:00",
          "2019-02-17T00:00:00",
          "2019-01-15T00:00:00",
          "2019-03-09T00:00:00",
          "2019-02-10T00:00:00",
          "2019-02-28T00:00:00",
          "2019-03-12T00:00:00",
          "2019-03-09T00:00:00",
          "2019-01-13T00:00:00",
          "2019-03-08T00:00:00",
          "2019-02-09T00:00:00",
          "2019-02-01T00:00:00",
          "2019-01-12T00:00:00",
          "2019-03-03T00:00:00",
          "2019-02-14T00:00:00",
          "2019-02-17T00:00:00",
          "2019-01-18T00:00:00",
          "2019-01-04T00:00:00",
          "2019-03-03T00:00:00",
          "2019-01-19T00:00:00",
          "2019-03-19T00:00:00",
          "2019-03-15T00:00:00",
          "2019-01-14T00:00:00",
          "2019-01-04T00:00:00",
          "2019-03-02T00:00:00",
          "2019-01-25T00:00:00",
          "2019-02-21T00:00:00",
          "2019-01-31T00:00:00",
          "2019-02-17T00:00:00",
          "2019-01-31T00:00:00",
          "2019-02-26T00:00:00",
          "2019-03-12T00:00:00",
          "2019-03-02T00:00:00",
          "2019-02-09T00:00:00",
          "2019-01-07T00:00:00",
          "2019-01-31T00:00:00",
          "2019-02-13T00:00:00",
          "2019-02-07T00:00:00",
          "2019-03-19T00:00:00",
          "2019-01-24T00:00:00",
          "2019-03-14T00:00:00",
          "2019-02-18T00:00:00",
          "2019-03-03T00:00:00",
          "2019-03-29T00:00:00",
          "2019-03-18T00:00:00",
          "2019-02-23T00:00:00",
          "2019-03-26T00:00:00",
          "2019-03-21T00:00:00",
          "2019-02-10T00:00:00",
          "2019-01-10T00:00:00",
          "2019-03-25T00:00:00",
          "2019-03-21T00:00:00",
          "2019-03-28T00:00:00",
          "2019-02-10T00:00:00",
          "2019-02-04T00:00:00",
          "2019-03-28T00:00:00",
          "2019-01-26T00:00:00",
          "2019-03-04T00:00:00",
          "2019-03-01T00:00:00",
          "2019-03-14T00:00:00",
          "2019-03-06T00:00:00",
          "2019-02-02T00:00:00",
          "2019-01-30T00:00:00",
          "2019-03-19T00:00:00",
          "2019-02-13T00:00:00",
          "2019-03-04T00:00:00",
          "2019-02-04T00:00:00",
          "2019-01-23T00:00:00",
          "2019-01-13T00:00:00",
          "2019-02-07T00:00:00",
          "2019-01-01T00:00:00",
          "2019-01-02T00:00:00",
          "2019-01-31T00:00:00",
          "2019-02-07T00:00:00",
          "2019-01-27T00:00:00",
          "2019-02-15T00:00:00",
          "2019-03-30T00:00:00",
          "2019-03-07T00:00:00",
          "2019-01-29T00:00:00",
          "2019-02-15T00:00:00",
          "2019-01-01T00:00:00",
          "2019-01-28T00:00:00",
          "2019-03-14T00:00:00",
          "2019-03-26T00:00:00",
          "2019-02-06T00:00:00",
          "2019-01-28T00:00:00",
          "2019-01-23T00:00:00",
          "2019-03-07T00:00:00",
          "2019-03-25T00:00:00",
          "2019-03-14T00:00:00",
          "2019-01-30T00:00:00",
          "2019-03-20T00:00:00",
          "2019-01-23T00:00:00",
          "2019-02-07T00:00:00",
          "2019-03-14T00:00:00",
          "2019-03-05T00:00:00",
          "2019-03-19T00:00:00",
          "2019-03-19T00:00:00",
          "2019-03-27T00:00:00",
          "2019-02-16T00:00:00",
          "2019-02-24T00:00:00",
          "2019-01-15T00:00:00",
          "2019-03-14T00:00:00",
          "2019-02-27T00:00:00",
          "2019-03-01T00:00:00",
          "2019-02-12T00:00:00",
          "2019-02-19T00:00:00",
          "2019-01-31T00:00:00",
          "2019-02-19T00:00:00",
          "2019-01-19T00:00:00",
          "2019-01-24T00:00:00",
          "2019-01-29T00:00:00",
          "2019-01-12T00:00:00",
          "2019-02-22T00:00:00",
          "2019-02-17T00:00:00",
          "2019-01-31T00:00:00",
          "2019-03-16T00:00:00",
          "2019-01-31T00:00:00",
          "2019-02-04T00:00:00",
          "2019-02-19T00:00:00",
          "2019-02-27T00:00:00",
          "2019-02-26T00:00:00",
          "2019-03-03T00:00:00",
          "2019-02-23T00:00:00",
          "2019-01-08T00:00:00",
          "2019-02-24T00:00:00",
          "2019-03-22T00:00:00",
          "2019-01-24T00:00:00",
          "2019-03-25T00:00:00",
          "2019-03-24T00:00:00",
          "2019-01-01T00:00:00",
          "2019-01-24T00:00:00",
          "2019-01-15T00:00:00",
          "2019-02-28T00:00:00",
          "2019-01-30T00:00:00",
          "2019-01-27T00:00:00",
          "2019-02-25T00:00:00",
          "2019-01-08T00:00:00",
          "2019-01-28T00:00:00",
          "2019-02-25T00:00:00",
          "2019-03-21T00:00:00",
          "2019-01-19T00:00:00",
          "2019-03-23T00:00:00",
          "2019-02-07T00:00:00",
          "2019-03-06T00:00:00",
          "2019-02-06T00:00:00",
          "2019-01-14T00:00:00",
          "2019-01-19T00:00:00",
          "2019-02-02T00:00:00",
          "2019-03-02T00:00:00",
          "2019-01-10T00:00:00",
          "2019-02-15T00:00:00",
          "2019-01-05T00:00:00",
          "2019-03-26T00:00:00",
          "2019-02-07T00:00:00",
          "2019-02-05T00:00:00",
          "2019-03-30T00:00:00",
          "2019-03-02T00:00:00",
          "2019-03-11T00:00:00",
          "2019-01-26T00:00:00",
          "2019-03-10T00:00:00",
          "2019-01-09T00:00:00",
          "2019-03-29T00:00:00",
          "2019-03-10T00:00:00",
          "2019-02-18T00:00:00"
         ],
         "xaxis": "x",
         "y": [
          5,
          7,
          6,
          4,
          5,
          5,
          5,
          9,
          4,
          6,
          8,
          6,
          6,
          10,
          1,
          6,
          9,
          10,
          10,
          8,
          6,
          5,
          1,
          8,
          6,
          5,
          4,
          7,
          9,
          9,
          9,
          3,
          6,
          5,
          4,
          6,
          3,
          5,
          3,
          4,
          1,
          4,
          4,
          9,
          10,
          7,
          1,
          5,
          4,
          4,
          8,
          7,
          3,
          10,
          5,
          4,
          5,
          3,
          3,
          1,
          7,
          7,
          1,
          3,
          9,
          9,
          7,
          4,
          2,
          1,
          9,
          7,
          3,
          6,
          8,
          6,
          6,
          4,
          10,
          10,
          1,
          5,
          4,
          1,
          10,
          2,
          8,
          7,
          3,
          10,
          6,
          6,
          6,
          7,
          9,
          8,
          6,
          1,
          1,
          5,
          3,
          1,
          8,
          2,
          5,
          10,
          5,
          3,
          1,
          10,
          1,
          9,
          4,
          9,
          3,
          7,
          10,
          8,
          10,
          8,
          10,
          4,
          9,
          7,
          8,
          7,
          2,
          8,
          9,
          4,
          10,
          1,
          8,
          4,
          10,
          10,
          8,
          10,
          1,
          3,
          1,
          10,
          3,
          10,
          1,
          8,
          8,
          10,
          8,
          5,
          6,
          9,
          4,
          6,
          3,
          4,
          9,
          7,
          2,
          6,
          2,
          3,
          2,
          5,
          7,
          1,
          7,
          10,
          2,
          1
         ],
         "yaxis": "y"
        },
        {
         "alignmentgroup": "True",
         "hovertemplate": "product_line=Home and lifestyle<br>date=%{x}<br>quantity=%{y}<extra></extra>",
         "legendgroup": "Home and lifestyle",
         "marker": {
          "color": "#00cc96"
         },
         "name": "Home and lifestyle",
         "offsetgroup": "Home and lifestyle",
         "orientation": "v",
         "showlegend": true,
         "textposition": "auto",
         "type": "bar",
         "x": [
          "2019-03-03T00:00:00",
          "2019-02-24T00:00:00",
          "2019-03-11T00:00:00",
          "2019-03-15T00:00:00",
          "2019-03-22T00:00:00",
          "2019-03-03T00:00:00",
          "2019-01-17T00:00:00",
          "2019-02-02T00:00:00",
          "2019-03-07T00:00:00",
          "2019-03-27T00:00:00",
          "2019-01-20T00:00:00",
          "2019-02-24T00:00:00",
          "2019-01-22T00:00:00",
          "2019-01-23T00:00:00",
          "2019-03-05T00:00:00",
          "2019-01-19T00:00:00",
          "2019-02-01T00:00:00",
          "2019-01-20T00:00:00",
          "2019-03-13T00:00:00",
          "2019-03-10T00:00:00",
          "2019-02-18T00:00:00",
          "2019-01-21T00:00:00",
          "2019-03-06T00:00:00",
          "2019-03-07T00:00:00",
          "2019-01-16T00:00:00",
          "2019-03-21T00:00:00",
          "2019-03-03T00:00:00",
          "2019-02-08T00:00:00",
          "2019-02-10T00:00:00",
          "2019-01-28T00:00:00",
          "2019-02-11T00:00:00",
          "2019-01-26T00:00:00",
          "2019-03-23T00:00:00",
          "2019-02-15T00:00:00",
          "2019-03-18T00:00:00",
          "2019-03-20T00:00:00",
          "2019-03-22T00:00:00",
          "2019-03-11T00:00:00",
          "2019-01-05T00:00:00",
          "2019-02-02T00:00:00",
          "2019-01-01T00:00:00",
          "2019-03-16T00:00:00",
          "2019-01-06T00:00:00",
          "2019-02-05T00:00:00",
          "2019-03-14T00:00:00",
          "2019-01-05T00:00:00",
          "2019-01-04T00:00:00",
          "2019-01-07T00:00:00",
          "2019-01-27T00:00:00",
          "2019-01-07T00:00:00",
          "2019-02-15T00:00:00",
          "2019-03-06T00:00:00",
          "2019-03-24T00:00:00",
          "2019-02-03T00:00:00",
          "2019-01-10T00:00:00",
          "2019-01-25T00:00:00",
          "2019-01-19T00:00:00",
          "2019-02-17T00:00:00",
          "2019-01-17T00:00:00",
          "2019-02-07T00:00:00",
          "2019-01-20T00:00:00",
          "2019-03-02T00:00:00",
          "2019-01-21T00:00:00",
          "2019-03-24T00:00:00",
          "2019-03-14T00:00:00",
          "2019-01-03T00:00:00",
          "2019-01-05T00:00:00",
          "2019-03-15T00:00:00",
          "2019-03-12T00:00:00",
          "2019-02-04T00:00:00",
          "2019-03-04T00:00:00",
          "2019-03-22T00:00:00",
          "2019-01-08T00:00:00",
          "2019-03-08T00:00:00",
          "2019-03-08T00:00:00",
          "2019-01-15T00:00:00",
          "2019-01-23T00:00:00",
          "2019-02-12T00:00:00",
          "2019-01-30T00:00:00",
          "2019-02-04T00:00:00",
          "2019-03-05T00:00:00",
          "2019-01-27T00:00:00",
          "2019-02-09T00:00:00",
          "2019-01-05T00:00:00",
          "2019-01-22T00:00:00",
          "2019-03-01T00:00:00",
          "2019-03-20T00:00:00",
          "2019-02-06T00:00:00",
          "2019-03-11T00:00:00",
          "2019-02-07T00:00:00",
          "2019-03-07T00:00:00",
          "2019-01-22T00:00:00",
          "2019-03-19T00:00:00",
          "2019-01-20T00:00:00",
          "2019-03-29T00:00:00",
          "2019-02-25T00:00:00",
          "2019-01-27T00:00:00",
          "2019-03-24T00:00:00",
          "2019-02-08T00:00:00",
          "2019-01-17T00:00:00",
          "2019-01-25T00:00:00",
          "2019-03-18T00:00:00",
          "2019-01-18T00:00:00",
          "2019-02-03T00:00:00",
          "2019-01-08T00:00:00",
          "2019-01-16T00:00:00",
          "2019-01-29T00:00:00",
          "2019-01-06T00:00:00",
          "2019-01-12T00:00:00",
          "2019-03-02T00:00:00",
          "2019-03-19T00:00:00",
          "2019-03-18T00:00:00",
          "2019-01-08T00:00:00",
          "2019-03-09T00:00:00",
          "2019-03-23T00:00:00",
          "2019-03-20T00:00:00",
          "2019-03-23T00:00:00",
          "2019-02-20T00:00:00",
          "2019-01-30T00:00:00",
          "2019-03-26T00:00:00",
          "2019-01-24T00:00:00",
          "2019-01-11T00:00:00",
          "2019-03-05T00:00:00",
          "2019-01-15T00:00:00",
          "2019-03-03T00:00:00",
          "2019-01-15T00:00:00",
          "2019-01-24T00:00:00",
          "2019-02-11T00:00:00",
          "2019-03-17T00:00:00",
          "2019-02-24T00:00:00",
          "2019-03-12T00:00:00",
          "2019-03-07T00:00:00",
          "2019-02-20T00:00:00",
          "2019-03-17T00:00:00",
          "2019-01-12T00:00:00",
          "2019-03-19T00:00:00",
          "2019-03-15T00:00:00",
          "2019-03-30T00:00:00",
          "2019-02-09T00:00:00",
          "2019-03-24T00:00:00",
          "2019-01-27T00:00:00",
          "2019-02-07T00:00:00",
          "2019-02-22T00:00:00",
          "2019-03-10T00:00:00",
          "2019-02-08T00:00:00",
          "2019-02-22T00:00:00",
          "2019-03-24T00:00:00",
          "2019-01-03T00:00:00",
          "2019-01-24T00:00:00",
          "2019-01-19T00:00:00",
          "2019-02-06T00:00:00",
          "2019-01-09T00:00:00",
          "2019-02-09T00:00:00",
          "2019-01-09T00:00:00",
          "2019-03-04T00:00:00",
          "2019-01-13T00:00:00",
          "2019-02-10T00:00:00",
          "2019-02-11T00:00:00",
          "2019-03-02T00:00:00",
          "2019-02-22T00:00:00"
         ],
         "xaxis": "x",
         "y": [
          7,
          10,
          2,
          2,
          8,
          8,
          1,
          2,
          2,
          2,
          10,
          6,
          9,
          4,
          6,
          9,
          9,
          2,
          8,
          7,
          6,
          6,
          8,
          5,
          10,
          9,
          8,
          4,
          1,
          4,
          3,
          4,
          1,
          5,
          10,
          5,
          1,
          8,
          4,
          8,
          8,
          4,
          8,
          6,
          4,
          4,
          10,
          9,
          2,
          10,
          8,
          1,
          1,
          7,
          6,
          4,
          1,
          8,
          6,
          9,
          8,
          9,
          6,
          4,
          6,
          5,
          9,
          9,
          4,
          1,
          4,
          8,
          4,
          10,
          6,
          9,
          6,
          10,
          1,
          9,
          10,
          2,
          6,
          5,
          5,
          2,
          6,
          6,
          5,
          7,
          1,
          3,
          4,
          3,
          3,
          5,
          7,
          2,
          4,
          7,
          3,
          3,
          9,
          10,
          2,
          10,
          5,
          4,
          10,
          9,
          4,
          3,
          3,
          7,
          7,
          9,
          7,
          2,
          5,
          9,
          5,
          6,
          8,
          6,
          8,
          10,
          1,
          5,
          4,
          2,
          7,
          4,
          1,
          9,
          7,
          4,
          8,
          6,
          4,
          4,
          10,
          8,
          3,
          9,
          6,
          2,
          6,
          6,
          3,
          10,
          5,
          3,
          6,
          10,
          9,
          3,
          7,
          3,
          10,
          1
         ],
         "yaxis": "y"
        },
        {
         "alignmentgroup": "True",
         "hovertemplate": "product_line=Sports and travel<br>date=%{x}<br>quantity=%{y}<extra></extra>",
         "legendgroup": "Sports and travel",
         "marker": {
          "color": "#ab63fa"
         },
         "name": "Sports and travel",
         "offsetgroup": "Sports and travel",
         "orientation": "v",
         "showlegend": true,
         "textposition": "auto",
         "type": "bar",
         "x": [
          "2019-02-08T00:00:00",
          "2019-01-15T00:00:00",
          "2019-01-01T00:00:00",
          "2019-03-02T00:00:00",
          "2019-01-28T00:00:00",
          "2019-01-10T00:00:00",
          "2019-01-07T00:00:00",
          "2019-03-10T00:00:00",
          "2019-02-08T00:00:00",
          "2019-02-15T00:00:00",
          "2019-02-03T00:00:00",
          "2019-03-06T00:00:00",
          "2019-01-24T00:00:00",
          "2019-03-09T00:00:00",
          "2019-03-05T00:00:00",
          "2019-01-02T00:00:00",
          "2019-01-26T00:00:00",
          "2019-01-10T00:00:00",
          "2019-03-22T00:00:00",
          "2019-02-05T00:00:00",
          "2019-01-12T00:00:00",
          "2019-03-09T00:00:00",
          "2019-01-27T00:00:00",
          "2019-02-08T00:00:00",
          "2019-03-06T00:00:00",
          "2019-02-10T00:00:00",
          "2019-02-16T00:00:00",
          "2019-03-16T00:00:00",
          "2019-01-23T00:00:00",
          "2019-03-11T00:00:00",
          "2019-01-28T00:00:00",
          "2019-03-27T00:00:00",
          "2019-02-25T00:00:00",
          "2019-01-30T00:00:00",
          "2019-02-01T00:00:00",
          "2019-03-23T00:00:00",
          "2019-03-04T00:00:00",
          "2019-01-29T00:00:00",
          "2019-01-04T00:00:00",
          "2019-03-11T00:00:00",
          "2019-03-24T00:00:00",
          "2019-01-11T00:00:00",
          "2019-01-20T00:00:00",
          "2019-03-02T00:00:00",
          "2019-02-09T00:00:00",
          "2019-02-26T00:00:00",
          "2019-03-12T00:00:00",
          "2019-03-06T00:00:00",
          "2019-03-20T00:00:00",
          "2019-01-06T00:00:00",
          "2019-01-31T00:00:00",
          "2019-03-30T00:00:00",
          "2019-01-31T00:00:00",
          "2019-03-12T00:00:00",
          "2019-03-24T00:00:00",
          "2019-02-24T00:00:00",
          "2019-02-14T00:00:00",
          "2019-01-09T00:00:00",
          "2019-03-16T00:00:00",
          "2019-01-27T00:00:00",
          "2019-02-22T00:00:00",
          "2019-01-11T00:00:00",
          "2019-01-31T00:00:00",
          "2019-03-09T00:00:00",
          "2019-01-19T00:00:00",
          "2019-01-25T00:00:00",
          "2019-03-10T00:00:00",
          "2019-02-27T00:00:00",
          "2019-03-19T00:00:00",
          "2019-01-20T00:00:00",
          "2019-03-22T00:00:00",
          "2019-01-15T00:00:00",
          "2019-03-26T00:00:00",
          "2019-02-03T00:00:00",
          "2019-03-02T00:00:00",
          "2019-03-22T00:00:00",
          "2019-01-25T00:00:00",
          "2019-03-18T00:00:00",
          "2019-03-16T00:00:00",
          "2019-01-08T00:00:00",
          "2019-01-01T00:00:00",
          "2019-03-21T00:00:00",
          "2019-03-20T00:00:00",
          "2019-01-21T00:00:00",
          "2019-02-02T00:00:00",
          "2019-02-03T00:00:00",
          "2019-03-25T00:00:00",
          "2019-02-25T00:00:00",
          "2019-01-08T00:00:00",
          "2019-01-16T00:00:00",
          "2019-02-23T00:00:00",
          "2019-01-17T00:00:00",
          "2019-02-25T00:00:00",
          "2019-02-17T00:00:00",
          "2019-02-13T00:00:00",
          "2019-01-07T00:00:00",
          "2019-01-26T00:00:00",
          "2019-02-03T00:00:00",
          "2019-03-02T00:00:00",
          "2019-01-29T00:00:00",
          "2019-03-22T00:00:00",
          "2019-01-19T00:00:00",
          "2019-02-04T00:00:00",
          "2019-02-07T00:00:00",
          "2019-02-05T00:00:00",
          "2019-03-15T00:00:00",
          "2019-02-17T00:00:00",
          "2019-03-17T00:00:00",
          "2019-01-19T00:00:00",
          "2019-03-20T00:00:00",
          "2019-01-13T00:00:00",
          "2019-03-09T00:00:00",
          "2019-01-19T00:00:00",
          "2019-01-16T00:00:00",
          "2019-03-06T00:00:00",
          "2019-01-29T00:00:00",
          "2019-02-03T00:00:00",
          "2019-01-16T00:00:00",
          "2019-02-21T00:00:00",
          "2019-01-17T00:00:00",
          "2019-02-19T00:00:00",
          "2019-01-14T00:00:00",
          "2019-01-24T00:00:00",
          "2019-01-08T00:00:00",
          "2019-03-13T00:00:00",
          "2019-01-25T00:00:00",
          "2019-01-01T00:00:00",
          "2019-01-17T00:00:00",
          "2019-01-18T00:00:00",
          "2019-03-05T00:00:00",
          "2019-02-12T00:00:00",
          "2019-01-02T00:00:00",
          "2019-02-13T00:00:00",
          "2019-02-26T00:00:00",
          "2019-02-17T00:00:00",
          "2019-01-03T00:00:00",
          "2019-03-20T00:00:00",
          "2019-02-11T00:00:00",
          "2019-01-17T00:00:00",
          "2019-02-22T00:00:00",
          "2019-01-12T00:00:00",
          "2019-01-16T00:00:00",
          "2019-02-08T00:00:00",
          "2019-02-07T00:00:00",
          "2019-02-14T00:00:00",
          "2019-01-29T00:00:00",
          "2019-01-09T00:00:00",
          "2019-01-02T00:00:00",
          "2019-01-01T00:00:00",
          "2019-03-02T00:00:00",
          "2019-01-30T00:00:00",
          "2019-01-08T00:00:00",
          "2019-03-15T00:00:00",
          "2019-01-06T00:00:00",
          "2019-01-18T00:00:00",
          "2019-02-20T00:00:00",
          "2019-01-13T00:00:00",
          "2019-03-17T00:00:00",
          "2019-03-14T00:00:00",
          "2019-01-10T00:00:00",
          "2019-03-14T00:00:00",
          "2019-02-15T00:00:00",
          "2019-03-02T00:00:00",
          "2019-03-30T00:00:00",
          "2019-03-14T00:00:00",
          "2019-01-24T00:00:00"
         ],
         "xaxis": "x",
         "y": [
          7,
          6,
          6,
          3,
          9,
          8,
          1,
          5,
          6,
          3,
          9,
          10,
          10,
          5,
          7,
          1,
          10,
          7,
          6,
          2,
          7,
          9,
          5,
          9,
          6,
          4,
          10,
          8,
          10,
          7,
          8,
          6,
          1,
          2,
          7,
          10,
          7,
          6,
          3,
          7,
          5,
          2,
          2,
          2,
          10,
          1,
          7,
          5,
          10,
          1,
          9,
          7,
          6,
          4,
          5,
          6,
          3,
          10,
          1,
          10,
          7,
          4,
          1,
          10,
          4,
          2,
          3,
          5,
          9,
          4,
          8,
          7,
          1,
          4,
          10,
          6,
          4,
          5,
          10,
          5,
          10,
          4,
          8,
          1,
          8,
          1,
          2,
          1,
          3,
          7,
          7,
          5,
          5,
          9,
          4,
          9,
          5,
          10,
          7,
          10,
          5,
          3,
          5,
          1,
          3,
          3,
          9,
          6,
          1,
          9,
          6,
          2,
          10,
          2,
          9,
          5,
          3,
          7,
          2,
          2,
          7,
          1,
          6,
          2,
          2,
          9,
          4,
          3,
          9,
          10,
          2,
          8,
          6,
          4,
          7,
          1,
          5,
          4,
          7,
          10,
          6,
          2,
          5,
          1,
          7,
          4,
          8,
          6,
          6,
          2,
          1,
          2,
          8,
          4,
          6,
          10,
          7,
          10,
          1,
          7,
          6,
          1,
          2,
          5,
          9,
          10
         ],
         "yaxis": "y"
        },
        {
         "alignmentgroup": "True",
         "hovertemplate": "product_line=Food and beverages<br>date=%{x}<br>quantity=%{y}<extra></extra>",
         "legendgroup": "Food and beverages",
         "marker": {
          "color": "#FFA15A"
         },
         "name": "Food and beverages",
         "offsetgroup": "Food and beverages",
         "orientation": "v",
         "showlegend": true,
         "textposition": "auto",
         "type": "bar",
         "x": [
          "2019-02-20T00:00:00",
          "2019-02-07T00:00:00",
          "2019-01-21T00:00:00",
          "2019-01-25T00:00:00",
          "2019-02-06T00:00:00",
          "2019-03-04T00:00:00",
          "2019-02-06T00:00:00",
          "2019-02-03T00:00:00",
          "2019-02-10T00:00:00",
          "2019-01-06T00:00:00",
          "2019-03-05T00:00:00",
          "2019-03-05T00:00:00",
          "2019-01-26T00:00:00",
          "2019-01-23T00:00:00",
          "2019-02-23T00:00:00",
          "2019-03-27T00:00:00",
          "2019-03-23T00:00:00",
          "2019-03-28T00:00:00",
          "2019-03-24T00:00:00",
          "2019-02-02T00:00:00",
          "2019-01-08T00:00:00",
          "2019-02-22T00:00:00",
          "2019-02-07T00:00:00",
          "2019-02-20T00:00:00",
          "2019-01-19T00:00:00",
          "2019-03-13T00:00:00",
          "2019-02-20T00:00:00",
          "2019-01-19T00:00:00",
          "2019-01-26T00:00:00",
          "2019-01-18T00:00:00",
          "2019-03-03T00:00:00",
          "2019-03-23T00:00:00",
          "2019-01-23T00:00:00",
          "2019-03-05T00:00:00",
          "2019-03-16T00:00:00",
          "2019-02-17T00:00:00",
          "2019-01-16T00:00:00",
          "2019-03-10T00:00:00",
          "2019-03-06T00:00:00",
          "2019-03-20T00:00:00",
          "2019-01-11T00:00:00",
          "2019-01-14T00:00:00",
          "2019-02-02T00:00:00",
          "2019-01-08T00:00:00",
          "2019-01-25T00:00:00",
          "2019-01-21T00:00:00",
          "2019-02-25T00:00:00",
          "2019-02-01T00:00:00",
          "2019-02-14T00:00:00",
          "2019-02-09T00:00:00",
          "2019-02-26T00:00:00",
          "2019-03-09T00:00:00",
          "2019-03-12T00:00:00",
          "2019-02-17T00:00:00",
          "2019-03-14T00:00:00",
          "2019-02-05T00:00:00",
          "2019-01-30T00:00:00",
          "2019-01-07T00:00:00",
          "2019-02-17T00:00:00",
          "2019-02-27T00:00:00",
          "2019-03-07T00:00:00",
          "2019-02-19T00:00:00",
          "2019-01-14T00:00:00",
          "2019-03-01T00:00:00",
          "2019-01-06T00:00:00",
          "2019-03-11T00:00:00",
          "2019-03-10T00:00:00",
          "2019-03-13T00:00:00",
          "2019-03-25T00:00:00",
          "2019-01-11T00:00:00",
          "2019-03-28T00:00:00",
          "2019-03-20T00:00:00",
          "2019-03-08T00:00:00",
          "2019-03-08T00:00:00",
          "2019-01-15T00:00:00",
          "2019-02-14T00:00:00",
          "2019-03-16T00:00:00",
          "2019-02-15T00:00:00",
          "2019-02-23T00:00:00",
          "2019-02-03T00:00:00",
          "2019-03-03T00:00:00",
          "2019-03-17T00:00:00",
          "2019-03-28T00:00:00",
          "2019-02-09T00:00:00",
          "2019-02-02T00:00:00",
          "2019-01-27T00:00:00",
          "2019-01-29T00:00:00",
          "2019-01-27T00:00:00",
          "2019-02-07T00:00:00",
          "2019-03-26T00:00:00",
          "2019-02-01T00:00:00",
          "2019-01-05T00:00:00",
          "2019-01-30T00:00:00",
          "2019-01-02T00:00:00",
          "2019-02-11T00:00:00",
          "2019-01-17T00:00:00",
          "2019-03-10T00:00:00",
          "2019-01-13T00:00:00",
          "2019-02-20T00:00:00",
          "2019-01-14T00:00:00",
          "2019-01-07T00:00:00",
          "2019-03-27T00:00:00",
          "2019-02-15T00:00:00",
          "2019-03-14T00:00:00",
          "2019-03-28T00:00:00",
          "2019-01-17T00:00:00",
          "2019-03-09T00:00:00",
          "2019-02-03T00:00:00",
          "2019-01-23T00:00:00",
          "2019-03-28T00:00:00",
          "2019-03-20T00:00:00",
          "2019-01-26T00:00:00",
          "2019-01-15T00:00:00",
          "2019-03-20T00:00:00",
          "2019-03-08T00:00:00",
          "2019-02-23T00:00:00",
          "2019-03-30T00:00:00",
          "2019-02-12T00:00:00",
          "2019-02-20T00:00:00",
          "2019-03-30T00:00:00",
          "2019-02-23T00:00:00",
          "2019-01-11T00:00:00",
          "2019-02-15T00:00:00",
          "2019-03-12T00:00:00",
          "2019-01-16T00:00:00",
          "2019-03-27T00:00:00",
          "2019-01-21T00:00:00",
          "2019-02-28T00:00:00",
          "2019-01-11T00:00:00",
          "2019-02-04T00:00:00",
          "2019-03-01T00:00:00",
          "2019-01-14T00:00:00",
          "2019-02-02T00:00:00",
          "2019-02-03T00:00:00",
          "2019-02-27T00:00:00",
          "2019-03-25T00:00:00",
          "2019-02-11T00:00:00",
          "2019-02-06T00:00:00",
          "2019-01-17T00:00:00",
          "2019-01-22T00:00:00",
          "2019-03-14T00:00:00",
          "2019-01-19T00:00:00",
          "2019-02-03T00:00:00",
          "2019-02-13T00:00:00",
          "2019-01-08T00:00:00",
          "2019-01-01T00:00:00",
          "2019-01-23T00:00:00",
          "2019-01-08T00:00:00",
          "2019-02-16T00:00:00",
          "2019-01-08T00:00:00",
          "2019-03-19T00:00:00",
          "2019-02-05T00:00:00",
          "2019-02-05T00:00:00",
          "2019-02-09T00:00:00",
          "2019-01-28T00:00:00",
          "2019-03-27T00:00:00",
          "2019-03-27T00:00:00",
          "2019-02-25T00:00:00",
          "2019-02-27T00:00:00",
          "2019-03-21T00:00:00",
          "2019-03-02T00:00:00",
          "2019-02-24T00:00:00",
          "2019-02-25T00:00:00",
          "2019-01-13T00:00:00",
          "2019-01-10T00:00:00",
          "2019-02-19T00:00:00",
          "2019-01-26T00:00:00",
          "2019-01-01T00:00:00",
          "2019-03-04T00:00:00",
          "2019-02-26T00:00:00",
          "2019-02-04T00:00:00",
          "2019-01-19T00:00:00",
          "2019-03-22T00:00:00",
          "2019-02-09T00:00:00"
         ],
         "xaxis": "x",
         "y": [
          3,
          10,
          3,
          5,
          4,
          8,
          9,
          7,
          5,
          10,
          3,
          10,
          3,
          8,
          4,
          7,
          3,
          6,
          9,
          10,
          8,
          1,
          6,
          5,
          8,
          7,
          10,
          6,
          5,
          8,
          8,
          6,
          8,
          3,
          9,
          5,
          9,
          3,
          7,
          2,
          9,
          7,
          9,
          10,
          7,
          2,
          1,
          5,
          2,
          3,
          9,
          5,
          4,
          3,
          2,
          9,
          5,
          4,
          8,
          8,
          2,
          4,
          5,
          4,
          5,
          6,
          7,
          5,
          6,
          5,
          3,
          3,
          2,
          4,
          5,
          10,
          5,
          9,
          1,
          5,
          10,
          1,
          5,
          1,
          8,
          6,
          6,
          6,
          10,
          9,
          6,
          1,
          10,
          6,
          10,
          10,
          7,
          2,
          4,
          4,
          3,
          3,
          3,
          10,
          4,
          2,
          9,
          10,
          6,
          3,
          1,
          2,
          2,
          3,
          5,
          3,
          8,
          10,
          3,
          2,
          4,
          6,
          3,
          7,
          9,
          3,
          1,
          6,
          7,
          4,
          1,
          1,
          1,
          5,
          10,
          4,
          10,
          1,
          2,
          5,
          8,
          8,
          5,
          2,
          9,
          8,
          9,
          3,
          7,
          10,
          2,
          1,
          6,
          9,
          7,
          2,
          3,
          3,
          10,
          6,
          4,
          8,
          4,
          4,
          9,
          9,
          2,
          10,
          4,
          6,
          1,
          4,
          5,
          1
         ],
         "yaxis": "y"
        },
        {
         "alignmentgroup": "True",
         "hovertemplate": "product_line=Fashion accessories<br>date=%{x}<br>quantity=%{y}<extra></extra>",
         "legendgroup": "Fashion accessories",
         "marker": {
          "color": "#19d3f3"
         },
         "name": "Fashion accessories",
         "offsetgroup": "Fashion accessories",
         "orientation": "v",
         "showlegend": true,
         "textposition": "auto",
         "type": "bar",
         "x": [
          "2019-02-06T00:00:00",
          "2019-02-08T00:00:00",
          "2019-03-10T00:00:00",
          "2019-02-25T00:00:00",
          "2019-03-19T00:00:00",
          "2019-03-22T00:00:00",
          "2019-01-25T00:00:00",
          "2019-01-07T00:00:00",
          "2019-02-11T00:00:00",
          "2019-01-09T00:00:00",
          "2019-01-12T00:00:00",
          "2019-03-25T00:00:00",
          "2019-03-26T00:00:00",
          "2019-03-01T00:00:00",
          "2019-01-05T00:00:00",
          "2019-02-15T00:00:00",
          "2019-03-02T00:00:00",
          "2019-03-05T00:00:00",
          "2019-01-16T00:00:00",
          "2019-03-09T00:00:00",
          "2019-01-08T00:00:00",
          "2019-01-25T00:00:00",
          "2019-02-18T00:00:00",
          "2019-02-10T00:00:00",
          "2019-03-23T00:00:00",
          "2019-01-29T00:00:00",
          "2019-02-08T00:00:00",
          "2019-02-13T00:00:00",
          "2019-02-09T00:00:00",
          "2019-01-15T00:00:00",
          "2019-01-13T00:00:00",
          "2019-03-28T00:00:00",
          "2019-02-12T00:00:00",
          "2019-02-21T00:00:00",
          "2019-01-26T00:00:00",
          "2019-02-21T00:00:00",
          "2019-03-05T00:00:00",
          "2019-01-11T00:00:00",
          "2019-02-28T00:00:00",
          "2019-01-23T00:00:00",
          "2019-03-17T00:00:00",
          "2019-01-29T00:00:00",
          "2019-03-07T00:00:00",
          "2019-03-13T00:00:00",
          "2019-01-07T00:00:00",
          "2019-02-02T00:00:00",
          "2019-03-20T00:00:00",
          "2019-01-02T00:00:00",
          "2019-03-05T00:00:00",
          "2019-02-05T00:00:00",
          "2019-03-08T00:00:00",
          "2019-02-03T00:00:00",
          "2019-03-19T00:00:00",
          "2019-02-27T00:00:00",
          "2019-02-15T00:00:00",
          "2019-03-14T00:00:00",
          "2019-03-08T00:00:00",
          "2019-01-06T00:00:00",
          "2019-01-25T00:00:00",
          "2019-01-29T00:00:00",
          "2019-01-14T00:00:00",
          "2019-02-06T00:00:00",
          "2019-01-27T00:00:00",
          "2019-02-15T00:00:00",
          "2019-01-26T00:00:00",
          "2019-02-22T00:00:00",
          "2019-02-16T00:00:00",
          "2019-01-04T00:00:00",
          "2019-01-28T00:00:00",
          "2019-02-08T00:00:00",
          "2019-03-19T00:00:00",
          "2019-03-09T00:00:00",
          "2019-01-02T00:00:00",
          "2019-01-31T00:00:00",
          "2019-03-09T00:00:00",
          "2019-02-22T00:00:00",
          "2019-01-08T00:00:00",
          "2019-03-10T00:00:00",
          "2019-02-13T00:00:00",
          "2019-02-02T00:00:00",
          "2019-02-28T00:00:00",
          "2019-03-23T00:00:00",
          "2019-03-13T00:00:00",
          "2019-03-15T00:00:00",
          "2019-02-26T00:00:00",
          "2019-01-05T00:00:00",
          "2019-01-27T00:00:00",
          "2019-03-18T00:00:00",
          "2019-01-16T00:00:00",
          "2019-01-13T00:00:00",
          "2019-01-24T00:00:00",
          "2019-01-05T00:00:00",
          "2019-02-25T00:00:00",
          "2019-01-12T00:00:00",
          "2019-02-09T00:00:00",
          "2019-02-22T00:00:00",
          "2019-02-04T00:00:00",
          "2019-03-20T00:00:00",
          "2019-01-01T00:00:00",
          "2019-01-10T00:00:00",
          "2019-03-01T00:00:00",
          "2019-02-13T00:00:00",
          "2019-01-14T00:00:00",
          "2019-03-14T00:00:00",
          "2019-01-26T00:00:00",
          "2019-01-26T00:00:00",
          "2019-01-08T00:00:00",
          "2019-02-10T00:00:00",
          "2019-01-23T00:00:00",
          "2019-01-24T00:00:00",
          "2019-02-07T00:00:00",
          "2019-01-12T00:00:00",
          "2019-02-16T00:00:00",
          "2019-01-26T00:00:00",
          "2019-02-27T00:00:00",
          "2019-03-20T00:00:00",
          "2019-02-16T00:00:00",
          "2019-01-18T00:00:00",
          "2019-02-26T00:00:00",
          "2019-03-24T00:00:00",
          "2019-02-04T00:00:00",
          "2019-01-14T00:00:00",
          "2019-02-24T00:00:00",
          "2019-01-09T00:00:00",
          "2019-02-27T00:00:00",
          "2019-02-10T00:00:00",
          "2019-02-07T00:00:00",
          "2019-02-27T00:00:00",
          "2019-01-20T00:00:00",
          "2019-01-31T00:00:00",
          "2019-03-28T00:00:00",
          "2019-02-17T00:00:00",
          "2019-01-18T00:00:00",
          "2019-02-02T00:00:00",
          "2019-03-16T00:00:00",
          "2019-03-01T00:00:00",
          "2019-02-08T00:00:00",
          "2019-01-08T00:00:00",
          "2019-03-14T00:00:00",
          "2019-01-25T00:00:00",
          "2019-03-09T00:00:00",
          "2019-01-20T00:00:00",
          "2019-01-05T00:00:00",
          "2019-02-05T00:00:00",
          "2019-03-03T00:00:00",
          "2019-03-15T00:00:00",
          "2019-03-23T00:00:00",
          "2019-03-04T00:00:00",
          "2019-01-31T00:00:00",
          "2019-01-23T00:00:00",
          "2019-03-26T00:00:00",
          "2019-03-26T00:00:00",
          "2019-01-09T00:00:00",
          "2019-02-15T00:00:00",
          "2019-01-26T00:00:00",
          "2019-01-19T00:00:00",
          "2019-01-25T00:00:00",
          "2019-02-19T00:00:00",
          "2019-02-16T00:00:00",
          "2019-03-13T00:00:00",
          "2019-02-12T00:00:00",
          "2019-03-30T00:00:00",
          "2019-03-13T00:00:00",
          "2019-03-02T00:00:00",
          "2019-01-18T00:00:00",
          "2019-01-31T00:00:00",
          "2019-03-11T00:00:00",
          "2019-02-02T00:00:00",
          "2019-03-27T00:00:00",
          "2019-02-03T00:00:00",
          "2019-01-06T00:00:00",
          "2019-03-18T00:00:00",
          "2019-03-19T00:00:00",
          "2019-02-07T00:00:00",
          "2019-03-06T00:00:00",
          "2019-02-07T00:00:00",
          "2019-02-22T00:00:00",
          "2019-02-18T00:00:00"
         ],
         "xaxis": "x",
         "y": [
          4,
          1,
          2,
          5,
          10,
          4,
          1,
          6,
          10,
          9,
          9,
          5,
          1,
          9,
          6,
          7,
          3,
          5,
          1,
          8,
          9,
          7,
          3,
          10,
          4,
          9,
          10,
          7,
          7,
          2,
          1,
          3,
          8,
          1,
          2,
          4,
          5,
          1,
          2,
          5,
          10,
          4,
          4,
          4,
          7,
          4,
          10,
          2,
          2,
          2,
          5,
          5,
          9,
          9,
          10,
          7,
          10,
          4,
          2,
          6,
          5,
          4,
          9,
          3,
          10,
          5,
          7,
          4,
          5,
          10,
          8,
          1,
          9,
          2,
          7,
          1,
          1,
          3,
          5,
          10,
          10,
          4,
          2,
          10,
          2,
          1,
          7,
          1,
          4,
          2,
          8,
          1,
          4,
          10,
          3,
          9,
          2,
          2,
          9,
          7,
          7,
          2,
          4,
          10,
          5,
          1,
          7,
          7,
          1,
          3,
          6,
          10,
          1,
          1,
          3,
          1,
          4,
          3,
          1,
          6,
          4,
          10,
          2,
          6,
          2,
          7,
          8,
          10,
          8,
          8,
          7,
          3,
          6,
          7,
          4,
          4,
          1,
          10,
          4,
          3,
          8,
          8,
          3,
          1,
          1,
          2,
          7,
          9,
          10,
          7,
          3,
          1,
          5,
          3,
          1,
          6,
          1,
          2,
          9,
          1,
          1,
          8,
          8,
          5,
          7,
          8,
          4,
          2,
          9,
          1,
          7,
          1,
          1,
          2,
          2,
          5,
          10,
          7
         ],
         "yaxis": "y"
        }
       ],
       "layout": {
        "barmode": "relative",
        "legend": {
         "title": {
          "text": "product_line"
         },
         "tracegroupgap": 0
        },
        "template": {
         "data": {
          "bar": [
           {
            "error_x": {
             "color": "#2a3f5f"
            },
            "error_y": {
             "color": "#2a3f5f"
            },
            "marker": {
             "line": {
              "color": "#E5ECF6",
              "width": 0.5
             }
            },
            "type": "bar"
           }
          ],
          "barpolar": [
           {
            "marker": {
             "line": {
              "color": "#E5ECF6",
              "width": 0.5
             }
            },
            "type": "barpolar"
           }
          ],
          "carpet": [
           {
            "aaxis": {
             "endlinecolor": "#2a3f5f",
             "gridcolor": "white",
             "linecolor": "white",
             "minorgridcolor": "white",
             "startlinecolor": "#2a3f5f"
            },
            "baxis": {
             "endlinecolor": "#2a3f5f",
             "gridcolor": "white",
             "linecolor": "white",
             "minorgridcolor": "white",
             "startlinecolor": "#2a3f5f"
            },
            "type": "carpet"
           }
          ],
          "choropleth": [
           {
            "colorbar": {
             "outlinewidth": 0,
             "ticks": ""
            },
            "type": "choropleth"
           }
          ],
          "contour": [
           {
            "colorbar": {
             "outlinewidth": 0,
             "ticks": ""
            },
            "colorscale": [
             [
              0,
              "#0d0887"
             ],
             [
              0.1111111111111111,
              "#46039f"
             ],
             [
              0.2222222222222222,
              "#7201a8"
             ],
             [
              0.3333333333333333,
              "#9c179e"
             ],
             [
              0.4444444444444444,
              "#bd3786"
             ],
             [
              0.5555555555555556,
              "#d8576b"
             ],
             [
              0.6666666666666666,
              "#ed7953"
             ],
             [
              0.7777777777777778,
              "#fb9f3a"
             ],
             [
              0.8888888888888888,
              "#fdca26"
             ],
             [
              1,
              "#f0f921"
             ]
            ],
            "type": "contour"
           }
          ],
          "contourcarpet": [
           {
            "colorbar": {
             "outlinewidth": 0,
             "ticks": ""
            },
            "type": "contourcarpet"
           }
          ],
          "heatmap": [
           {
            "colorbar": {
             "outlinewidth": 0,
             "ticks": ""
            },
            "colorscale": [
             [
              0,
              "#0d0887"
             ],
             [
              0.1111111111111111,
              "#46039f"
             ],
             [
              0.2222222222222222,
              "#7201a8"
             ],
             [
              0.3333333333333333,
              "#9c179e"
             ],
             [
              0.4444444444444444,
              "#bd3786"
             ],
             [
              0.5555555555555556,
              "#d8576b"
             ],
             [
              0.6666666666666666,
              "#ed7953"
             ],
             [
              0.7777777777777778,
              "#fb9f3a"
             ],
             [
              0.8888888888888888,
              "#fdca26"
             ],
             [
              1,
              "#f0f921"
             ]
            ],
            "type": "heatmap"
           }
          ],
          "heatmapgl": [
           {
            "colorbar": {
             "outlinewidth": 0,
             "ticks": ""
            },
            "colorscale": [
             [
              0,
              "#0d0887"
             ],
             [
              0.1111111111111111,
              "#46039f"
             ],
             [
              0.2222222222222222,
              "#7201a8"
             ],
             [
              0.3333333333333333,
              "#9c179e"
             ],
             [
              0.4444444444444444,
              "#bd3786"
             ],
             [
              0.5555555555555556,
              "#d8576b"
             ],
             [
              0.6666666666666666,
              "#ed7953"
             ],
             [
              0.7777777777777778,
              "#fb9f3a"
             ],
             [
              0.8888888888888888,
              "#fdca26"
             ],
             [
              1,
              "#f0f921"
             ]
            ],
            "type": "heatmapgl"
           }
          ],
          "histogram": [
           {
            "marker": {
             "colorbar": {
              "outlinewidth": 0,
              "ticks": ""
             }
            },
            "type": "histogram"
           }
          ],
          "histogram2d": [
           {
            "colorbar": {
             "outlinewidth": 0,
             "ticks": ""
            },
            "colorscale": [
             [
              0,
              "#0d0887"
             ],
             [
              0.1111111111111111,
              "#46039f"
             ],
             [
              0.2222222222222222,
              "#7201a8"
             ],
             [
              0.3333333333333333,
              "#9c179e"
             ],
             [
              0.4444444444444444,
              "#bd3786"
             ],
             [
              0.5555555555555556,
              "#d8576b"
             ],
             [
              0.6666666666666666,
              "#ed7953"
             ],
             [
              0.7777777777777778,
              "#fb9f3a"
             ],
             [
              0.8888888888888888,
              "#fdca26"
             ],
             [
              1,
              "#f0f921"
             ]
            ],
            "type": "histogram2d"
           }
          ],
          "histogram2dcontour": [
           {
            "colorbar": {
             "outlinewidth": 0,
             "ticks": ""
            },
            "colorscale": [
             [
              0,
              "#0d0887"
             ],
             [
              0.1111111111111111,
              "#46039f"
             ],
             [
              0.2222222222222222,
              "#7201a8"
             ],
             [
              0.3333333333333333,
              "#9c179e"
             ],
             [
              0.4444444444444444,
              "#bd3786"
             ],
             [
              0.5555555555555556,
              "#d8576b"
             ],
             [
              0.6666666666666666,
              "#ed7953"
             ],
             [
              0.7777777777777778,
              "#fb9f3a"
             ],
             [
              0.8888888888888888,
              "#fdca26"
             ],
             [
              1,
              "#f0f921"
             ]
            ],
            "type": "histogram2dcontour"
           }
          ],
          "mesh3d": [
           {
            "colorbar": {
             "outlinewidth": 0,
             "ticks": ""
            },
            "type": "mesh3d"
           }
          ],
          "parcoords": [
           {
            "line": {
             "colorbar": {
              "outlinewidth": 0,
              "ticks": ""
             }
            },
            "type": "parcoords"
           }
          ],
          "pie": [
           {
            "automargin": true,
            "type": "pie"
           }
          ],
          "scatter": [
           {
            "marker": {
             "colorbar": {
              "outlinewidth": 0,
              "ticks": ""
             }
            },
            "type": "scatter"
           }
          ],
          "scatter3d": [
           {
            "line": {
             "colorbar": {
              "outlinewidth": 0,
              "ticks": ""
             }
            },
            "marker": {
             "colorbar": {
              "outlinewidth": 0,
              "ticks": ""
             }
            },
            "type": "scatter3d"
           }
          ],
          "scattercarpet": [
           {
            "marker": {
             "colorbar": {
              "outlinewidth": 0,
              "ticks": ""
             }
            },
            "type": "scattercarpet"
           }
          ],
          "scattergeo": [
           {
            "marker": {
             "colorbar": {
              "outlinewidth": 0,
              "ticks": ""
             }
            },
            "type": "scattergeo"
           }
          ],
          "scattergl": [
           {
            "marker": {
             "colorbar": {
              "outlinewidth": 0,
              "ticks": ""
             }
            },
            "type": "scattergl"
           }
          ],
          "scattermapbox": [
           {
            "marker": {
             "colorbar": {
              "outlinewidth": 0,
              "ticks": ""
             }
            },
            "type": "scattermapbox"
           }
          ],
          "scatterpolar": [
           {
            "marker": {
             "colorbar": {
              "outlinewidth": 0,
              "ticks": ""
             }
            },
            "type": "scatterpolar"
           }
          ],
          "scatterpolargl": [
           {
            "marker": {
             "colorbar": {
              "outlinewidth": 0,
              "ticks": ""
             }
            },
            "type": "scatterpolargl"
           }
          ],
          "scatterternary": [
           {
            "marker": {
             "colorbar": {
              "outlinewidth": 0,
              "ticks": ""
             }
            },
            "type": "scatterternary"
           }
          ],
          "surface": [
           {
            "colorbar": {
             "outlinewidth": 0,
             "ticks": ""
            },
            "colorscale": [
             [
              0,
              "#0d0887"
             ],
             [
              0.1111111111111111,
              "#46039f"
             ],
             [
              0.2222222222222222,
              "#7201a8"
             ],
             [
              0.3333333333333333,
              "#9c179e"
             ],
             [
              0.4444444444444444,
              "#bd3786"
             ],
             [
              0.5555555555555556,
              "#d8576b"
             ],
             [
              0.6666666666666666,
              "#ed7953"
             ],
             [
              0.7777777777777778,
              "#fb9f3a"
             ],
             [
              0.8888888888888888,
              "#fdca26"
             ],
             [
              1,
              "#f0f921"
             ]
            ],
            "type": "surface"
           }
          ],
          "table": [
           {
            "cells": {
             "fill": {
              "color": "#EBF0F8"
             },
             "line": {
              "color": "white"
             }
            },
            "header": {
             "fill": {
              "color": "#C8D4E3"
             },
             "line": {
              "color": "white"
             }
            },
            "type": "table"
           }
          ]
         },
         "layout": {
          "annotationdefaults": {
           "arrowcolor": "#2a3f5f",
           "arrowhead": 0,
           "arrowwidth": 1
          },
          "autotypenumbers": "strict",
          "coloraxis": {
           "colorbar": {
            "outlinewidth": 0,
            "ticks": ""
           }
          },
          "colorscale": {
           "diverging": [
            [
             0,
             "#8e0152"
            ],
            [
             0.1,
             "#c51b7d"
            ],
            [
             0.2,
             "#de77ae"
            ],
            [
             0.3,
             "#f1b6da"
            ],
            [
             0.4,
             "#fde0ef"
            ],
            [
             0.5,
             "#f7f7f7"
            ],
            [
             0.6,
             "#e6f5d0"
            ],
            [
             0.7,
             "#b8e186"
            ],
            [
             0.8,
             "#7fbc41"
            ],
            [
             0.9,
             "#4d9221"
            ],
            [
             1,
             "#276419"
            ]
           ],
           "sequential": [
            [
             0,
             "#0d0887"
            ],
            [
             0.1111111111111111,
             "#46039f"
            ],
            [
             0.2222222222222222,
             "#7201a8"
            ],
            [
             0.3333333333333333,
             "#9c179e"
            ],
            [
             0.4444444444444444,
             "#bd3786"
            ],
            [
             0.5555555555555556,
             "#d8576b"
            ],
            [
             0.6666666666666666,
             "#ed7953"
            ],
            [
             0.7777777777777778,
             "#fb9f3a"
            ],
            [
             0.8888888888888888,
             "#fdca26"
            ],
            [
             1,
             "#f0f921"
            ]
           ],
           "sequentialminus": [
            [
             0,
             "#0d0887"
            ],
            [
             0.1111111111111111,
             "#46039f"
            ],
            [
             0.2222222222222222,
             "#7201a8"
            ],
            [
             0.3333333333333333,
             "#9c179e"
            ],
            [
             0.4444444444444444,
             "#bd3786"
            ],
            [
             0.5555555555555556,
             "#d8576b"
            ],
            [
             0.6666666666666666,
             "#ed7953"
            ],
            [
             0.7777777777777778,
             "#fb9f3a"
            ],
            [
             0.8888888888888888,
             "#fdca26"
            ],
            [
             1,
             "#f0f921"
            ]
           ]
          },
          "colorway": [
           "#636efa",
           "#EF553B",
           "#00cc96",
           "#ab63fa",
           "#FFA15A",
           "#19d3f3",
           "#FF6692",
           "#B6E880",
           "#FF97FF",
           "#FECB52"
          ],
          "font": {
           "color": "#2a3f5f"
          },
          "geo": {
           "bgcolor": "white",
           "lakecolor": "white",
           "landcolor": "#E5ECF6",
           "showlakes": true,
           "showland": true,
           "subunitcolor": "white"
          },
          "hoverlabel": {
           "align": "left"
          },
          "hovermode": "closest",
          "mapbox": {
           "style": "light"
          },
          "paper_bgcolor": "white",
          "plot_bgcolor": "#E5ECF6",
          "polar": {
           "angularaxis": {
            "gridcolor": "white",
            "linecolor": "white",
            "ticks": ""
           },
           "bgcolor": "#E5ECF6",
           "radialaxis": {
            "gridcolor": "white",
            "linecolor": "white",
            "ticks": ""
           }
          },
          "scene": {
           "xaxis": {
            "backgroundcolor": "#E5ECF6",
            "gridcolor": "white",
            "gridwidth": 2,
            "linecolor": "white",
            "showbackground": true,
            "ticks": "",
            "zerolinecolor": "white"
           },
           "yaxis": {
            "backgroundcolor": "#E5ECF6",
            "gridcolor": "white",
            "gridwidth": 2,
            "linecolor": "white",
            "showbackground": true,
            "ticks": "",
            "zerolinecolor": "white"
           },
           "zaxis": {
            "backgroundcolor": "#E5ECF6",
            "gridcolor": "white",
            "gridwidth": 2,
            "linecolor": "white",
            "showbackground": true,
            "ticks": "",
            "zerolinecolor": "white"
           }
          },
          "shapedefaults": {
           "line": {
            "color": "#2a3f5f"
           }
          },
          "ternary": {
           "aaxis": {
            "gridcolor": "white",
            "linecolor": "white",
            "ticks": ""
           },
           "baxis": {
            "gridcolor": "white",
            "linecolor": "white",
            "ticks": ""
           },
           "bgcolor": "#E5ECF6",
           "caxis": {
            "gridcolor": "white",
            "linecolor": "white",
            "ticks": ""
           }
          },
          "title": {
           "x": 0.05
          },
          "xaxis": {
           "automargin": true,
           "gridcolor": "white",
           "linecolor": "white",
           "ticks": "",
           "title": {
            "standoff": 15
           },
           "zerolinecolor": "white",
           "zerolinewidth": 2
          },
          "yaxis": {
           "automargin": true,
           "gridcolor": "white",
           "linecolor": "white",
           "ticks": "",
           "title": {
            "standoff": 15
           },
           "zerolinecolor": "white",
           "zerolinewidth": 2
          }
         }
        },
        "title": {
         "text": "quantity_vs_product_line"
        },
        "xaxis": {
         "anchor": "y",
         "domain": [
          0,
          1
         ],
         "title": {
          "text": "date"
         }
        },
        "yaxis": {
         "anchor": "x",
         "domain": [
          0,
          1
         ],
         "title": {
          "text": "quantity"
         }
        }
       }
      },
      "text/html": [
       "<div>                            <div id=\"2f46a9ff-3ecb-4936-8eca-c480e212d739\" class=\"plotly-graph-div\" style=\"height:525px; width:100%;\"></div>            <script type=\"text/javascript\">                require([\"plotly\"], function(Plotly) {                    window.PLOTLYENV=window.PLOTLYENV || {};                                    if (document.getElementById(\"2f46a9ff-3ecb-4936-8eca-c480e212d739\")) {                    Plotly.newPlot(                        \"2f46a9ff-3ecb-4936-8eca-c480e212d739\",                        [{\"alignmentgroup\": \"True\", \"hovertemplate\": \"product_line=Health and beauty<br>date=%{x}<br>quantity=%{y}<extra></extra>\", \"legendgroup\": \"Health and beauty\", \"marker\": {\"color\": \"#636efa\"}, \"name\": \"Health and beauty\", \"offsetgroup\": \"Health and beauty\", \"orientation\": \"v\", \"showlegend\": true, \"textposition\": \"auto\", \"type\": \"bar\", \"x\": [\"2019-01-05T00:00:00\", \"2019-01-27T00:00:00\", \"2019-01-10T00:00:00\", \"2019-03-29T00:00:00\", \"2019-03-11T00:00:00\", \"2019-03-05T00:00:00\", \"2019-03-15T00:00:00\", \"2019-03-15T00:00:00\", \"2019-03-23T00:00:00\", \"2019-03-16T00:00:00\", \"2019-02-27T00:00:00\", \"2019-02-07T00:00:00\", \"2019-02-14T00:00:00\", \"2019-03-13T00:00:00\", \"2019-02-10T00:00:00\", \"2019-02-02T00:00:00\", \"2019-01-22T00:00:00\", \"2019-01-21T00:00:00\", \"2019-02-27T00:00:00\", \"2019-03-12T00:00:00\", \"2019-02-06T00:00:00\", \"2019-03-29T00:00:00\", \"2019-03-19T00:00:00\", \"2019-02-05T00:00:00\", \"2019-03-08T00:00:00\", \"2019-01-25T00:00:00\", \"2019-02-05T00:00:00\", \"2019-03-08T00:00:00\", \"2019-03-19T00:00:00\", \"2019-03-27T00:00:00\", \"2019-03-30T00:00:00\", \"2019-02-25T00:00:00\", \"2019-01-03T00:00:00\", \"2019-01-28T00:00:00\", \"2019-01-25T00:00:00\", \"2019-03-26T00:00:00\", \"2019-03-12T00:00:00\", \"2019-02-06T00:00:00\", \"2019-01-03T00:00:00\", \"2019-01-26T00:00:00\", \"2019-02-11T00:00:00\", \"2019-03-09T00:00:00\", \"2019-01-28T00:00:00\", \"2019-03-11T00:00:00\", \"2019-01-03T00:00:00\", \"2019-02-26T00:00:00\", \"2019-03-04T00:00:00\", \"2019-03-12T00:00:00\", \"2019-02-20T00:00:00\", \"2019-03-13T00:00:00\", \"2019-03-12T00:00:00\", \"2019-03-07T00:00:00\", \"2019-03-11T00:00:00\", \"2019-02-18T00:00:00\", \"2019-01-18T00:00:00\", \"2019-02-15T00:00:00\", \"2019-01-25T00:00:00\", \"2019-03-05T00:00:00\", \"2019-02-15T00:00:00\", \"2019-02-27T00:00:00\", \"2019-02-20T00:00:00\", \"2019-03-06T00:00:00\", \"2019-01-24T00:00:00\", \"2019-03-05T00:00:00\", \"2019-01-02T00:00:00\", \"2019-01-04T00:00:00\", \"2019-01-25T00:00:00\", \"2019-01-22T00:00:00\", \"2019-01-12T00:00:00\", \"2019-01-21T00:00:00\", \"2019-01-28T00:00:00\", \"2019-01-12T00:00:00\", \"2019-03-03T00:00:00\", \"2019-02-08T00:00:00\", \"2019-03-30T00:00:00\", \"2019-02-25T00:00:00\", \"2019-03-05T00:00:00\", \"2019-03-29T00:00:00\", \"2019-03-29T00:00:00\", \"2019-01-01T00:00:00\", \"2019-02-12T00:00:00\", \"2019-01-03T00:00:00\", \"2019-02-05T00:00:00\", \"2019-03-26T00:00:00\", \"2019-03-01T00:00:00\", \"2019-02-01T00:00:00\", \"2019-03-09T00:00:00\", \"2019-03-04T00:00:00\", \"2019-03-03T00:00:00\", \"2019-03-01T00:00:00\", \"2019-03-14T00:00:00\", \"2019-01-15T00:00:00\", \"2019-03-03T00:00:00\", \"2019-03-30T00:00:00\", \"2019-01-22T00:00:00\", \"2019-02-23T00:00:00\", \"2019-02-16T00:00:00\", \"2019-03-02T00:00:00\", \"2019-02-15T00:00:00\", \"2019-02-07T00:00:00\", \"2019-03-04T00:00:00\", \"2019-01-06T00:00:00\", \"2019-03-29T00:00:00\", \"2019-02-04T00:00:00\", \"2019-02-06T00:00:00\", \"2019-02-06T00:00:00\", \"2019-02-28T00:00:00\", \"2019-03-10T00:00:00\", \"2019-01-15T00:00:00\", \"2019-03-26T00:00:00\", \"2019-01-20T00:00:00\", \"2019-02-27T00:00:00\", \"2019-03-05T00:00:00\", \"2019-02-19T00:00:00\", \"2019-02-24T00:00:00\", \"2019-01-23T00:00:00\", \"2019-01-14T00:00:00\", \"2019-02-15T00:00:00\", \"2019-03-15T00:00:00\", \"2019-01-14T00:00:00\", \"2019-03-15T00:00:00\", \"2019-01-27T00:00:00\", \"2019-03-04T00:00:00\", \"2019-01-28T00:00:00\", \"2019-02-25T00:00:00\", \"2019-02-14T00:00:00\", \"2019-01-14T00:00:00\", \"2019-01-23T00:00:00\", \"2019-02-15T00:00:00\", \"2019-01-26T00:00:00\", \"2019-01-17T00:00:00\", \"2019-02-21T00:00:00\", \"2019-01-28T00:00:00\", \"2019-03-02T00:00:00\", \"2019-03-26T00:00:00\", \"2019-02-14T00:00:00\", \"2019-02-09T00:00:00\", \"2019-03-24T00:00:00\", \"2019-01-13T00:00:00\", \"2019-01-20T00:00:00\", \"2019-01-05T00:00:00\", \"2019-02-17T00:00:00\", \"2019-02-19T00:00:00\", \"2019-03-28T00:00:00\", \"2019-02-21T00:00:00\", \"2019-03-25T00:00:00\", \"2019-01-23T00:00:00\", \"2019-01-23T00:00:00\", \"2019-02-18T00:00:00\", \"2019-01-03T00:00:00\", \"2019-01-28T00:00:00\", \"2019-01-29T00:00:00\"], \"xaxis\": \"x\", \"y\": [7, 8, 2, 10, 7, 3, 9, 2, 8, 2, 9, 8, 4, 10, 2, 1, 5, 6, 6, 9, 1, 10, 7, 3, 6, 10, 10, 6, 4, 8, 9, 8, 5, 3, 8, 2, 4, 10, 9, 9, 9, 10, 5, 2, 2, 6, 6, 4, 5, 10, 1, 9, 7, 4, 1, 6, 4, 7, 7, 10, 10, 1, 5, 6, 10, 5, 1, 1, 2, 7, 1, 1, 1, 7, 8, 3, 8, 5, 5, 2, 6, 1, 9, 4, 2, 4, 4, 5, 6, 3, 10, 10, 7, 6, 6, 4, 6, 3, 8, 10, 10, 9, 7, 9, 5, 8, 3, 10, 7, 5, 4, 7, 7, 8, 5, 5, 3, 4, 1, 1, 8, 4, 3, 9, 4, 1, 7, 5, 6, 3, 2, 5, 8, 7, 5, 2, 10, 5, 9, 7, 7, 3, 5, 7, 3, 3, 4, 7, 2, 8, 8, 1], \"yaxis\": \"y\"}, {\"alignmentgroup\": \"True\", \"hovertemplate\": \"product_line=Electronic accessories<br>date=%{x}<br>quantity=%{y}<extra></extra>\", \"legendgroup\": \"Electronic accessories\", \"marker\": {\"color\": \"#EF553B\"}, \"name\": \"Electronic accessories\", \"offsetgroup\": \"Electronic accessories\", \"orientation\": \"v\", \"showlegend\": true, \"textposition\": \"auto\", \"type\": \"bar\", \"x\": [\"2019-03-08T00:00:00\", \"2019-03-25T00:00:00\", \"2019-02-25T00:00:00\", \"2019-03-09T00:00:00\", \"2019-02-12T00:00:00\", \"2019-02-25T00:00:00\", \"2019-02-17T00:00:00\", \"2019-01-15T00:00:00\", \"2019-03-09T00:00:00\", \"2019-02-10T00:00:00\", \"2019-02-28T00:00:00\", \"2019-03-12T00:00:00\", \"2019-03-09T00:00:00\", \"2019-01-13T00:00:00\", \"2019-03-08T00:00:00\", \"2019-02-09T00:00:00\", \"2019-02-01T00:00:00\", \"2019-01-12T00:00:00\", \"2019-03-03T00:00:00\", \"2019-02-14T00:00:00\", \"2019-02-17T00:00:00\", \"2019-01-18T00:00:00\", \"2019-01-04T00:00:00\", \"2019-03-03T00:00:00\", \"2019-01-19T00:00:00\", \"2019-03-19T00:00:00\", \"2019-03-15T00:00:00\", \"2019-01-14T00:00:00\", \"2019-01-04T00:00:00\", \"2019-03-02T00:00:00\", \"2019-01-25T00:00:00\", \"2019-02-21T00:00:00\", \"2019-01-31T00:00:00\", \"2019-02-17T00:00:00\", \"2019-01-31T00:00:00\", \"2019-02-26T00:00:00\", \"2019-03-12T00:00:00\", \"2019-03-02T00:00:00\", \"2019-02-09T00:00:00\", \"2019-01-07T00:00:00\", \"2019-01-31T00:00:00\", \"2019-02-13T00:00:00\", \"2019-02-07T00:00:00\", \"2019-03-19T00:00:00\", \"2019-01-24T00:00:00\", \"2019-03-14T00:00:00\", \"2019-02-18T00:00:00\", \"2019-03-03T00:00:00\", \"2019-03-29T00:00:00\", \"2019-03-18T00:00:00\", \"2019-02-23T00:00:00\", \"2019-03-26T00:00:00\", \"2019-03-21T00:00:00\", \"2019-02-10T00:00:00\", \"2019-01-10T00:00:00\", \"2019-03-25T00:00:00\", \"2019-03-21T00:00:00\", \"2019-03-28T00:00:00\", \"2019-02-10T00:00:00\", \"2019-02-04T00:00:00\", \"2019-03-28T00:00:00\", \"2019-01-26T00:00:00\", \"2019-03-04T00:00:00\", \"2019-03-01T00:00:00\", \"2019-03-14T00:00:00\", \"2019-03-06T00:00:00\", \"2019-02-02T00:00:00\", \"2019-01-30T00:00:00\", \"2019-03-19T00:00:00\", \"2019-02-13T00:00:00\", \"2019-03-04T00:00:00\", \"2019-02-04T00:00:00\", \"2019-01-23T00:00:00\", \"2019-01-13T00:00:00\", \"2019-02-07T00:00:00\", \"2019-01-01T00:00:00\", \"2019-01-02T00:00:00\", \"2019-01-31T00:00:00\", \"2019-02-07T00:00:00\", \"2019-01-27T00:00:00\", \"2019-02-15T00:00:00\", \"2019-03-30T00:00:00\", \"2019-03-07T00:00:00\", \"2019-01-29T00:00:00\", \"2019-02-15T00:00:00\", \"2019-01-01T00:00:00\", \"2019-01-28T00:00:00\", \"2019-03-14T00:00:00\", \"2019-03-26T00:00:00\", \"2019-02-06T00:00:00\", \"2019-01-28T00:00:00\", \"2019-01-23T00:00:00\", \"2019-03-07T00:00:00\", \"2019-03-25T00:00:00\", \"2019-03-14T00:00:00\", \"2019-01-30T00:00:00\", \"2019-03-20T00:00:00\", \"2019-01-23T00:00:00\", \"2019-02-07T00:00:00\", \"2019-03-14T00:00:00\", \"2019-03-05T00:00:00\", \"2019-03-19T00:00:00\", \"2019-03-19T00:00:00\", \"2019-03-27T00:00:00\", \"2019-02-16T00:00:00\", \"2019-02-24T00:00:00\", \"2019-01-15T00:00:00\", \"2019-03-14T00:00:00\", \"2019-02-27T00:00:00\", \"2019-03-01T00:00:00\", \"2019-02-12T00:00:00\", \"2019-02-19T00:00:00\", \"2019-01-31T00:00:00\", \"2019-02-19T00:00:00\", \"2019-01-19T00:00:00\", \"2019-01-24T00:00:00\", \"2019-01-29T00:00:00\", \"2019-01-12T00:00:00\", \"2019-02-22T00:00:00\", \"2019-02-17T00:00:00\", \"2019-01-31T00:00:00\", \"2019-03-16T00:00:00\", \"2019-01-31T00:00:00\", \"2019-02-04T00:00:00\", \"2019-02-19T00:00:00\", \"2019-02-27T00:00:00\", \"2019-02-26T00:00:00\", \"2019-03-03T00:00:00\", \"2019-02-23T00:00:00\", \"2019-01-08T00:00:00\", \"2019-02-24T00:00:00\", \"2019-03-22T00:00:00\", \"2019-01-24T00:00:00\", \"2019-03-25T00:00:00\", \"2019-03-24T00:00:00\", \"2019-01-01T00:00:00\", \"2019-01-24T00:00:00\", \"2019-01-15T00:00:00\", \"2019-02-28T00:00:00\", \"2019-01-30T00:00:00\", \"2019-01-27T00:00:00\", \"2019-02-25T00:00:00\", \"2019-01-08T00:00:00\", \"2019-01-28T00:00:00\", \"2019-02-25T00:00:00\", \"2019-03-21T00:00:00\", \"2019-01-19T00:00:00\", \"2019-03-23T00:00:00\", \"2019-02-07T00:00:00\", \"2019-03-06T00:00:00\", \"2019-02-06T00:00:00\", \"2019-01-14T00:00:00\", \"2019-01-19T00:00:00\", \"2019-02-02T00:00:00\", \"2019-03-02T00:00:00\", \"2019-01-10T00:00:00\", \"2019-02-15T00:00:00\", \"2019-01-05T00:00:00\", \"2019-03-26T00:00:00\", \"2019-02-07T00:00:00\", \"2019-02-05T00:00:00\", \"2019-03-30T00:00:00\", \"2019-03-02T00:00:00\", \"2019-03-11T00:00:00\", \"2019-01-26T00:00:00\", \"2019-03-10T00:00:00\", \"2019-01-09T00:00:00\", \"2019-03-29T00:00:00\", \"2019-03-10T00:00:00\", \"2019-02-18T00:00:00\"], \"xaxis\": \"x\", \"y\": [5, 7, 6, 4, 5, 5, 5, 9, 4, 6, 8, 6, 6, 10, 1, 6, 9, 10, 10, 8, 6, 5, 1, 8, 6, 5, 4, 7, 9, 9, 9, 3, 6, 5, 4, 6, 3, 5, 3, 4, 1, 4, 4, 9, 10, 7, 1, 5, 4, 4, 8, 7, 3, 10, 5, 4, 5, 3, 3, 1, 7, 7, 1, 3, 9, 9, 7, 4, 2, 1, 9, 7, 3, 6, 8, 6, 6, 4, 10, 10, 1, 5, 4, 1, 10, 2, 8, 7, 3, 10, 6, 6, 6, 7, 9, 8, 6, 1, 1, 5, 3, 1, 8, 2, 5, 10, 5, 3, 1, 10, 1, 9, 4, 9, 3, 7, 10, 8, 10, 8, 10, 4, 9, 7, 8, 7, 2, 8, 9, 4, 10, 1, 8, 4, 10, 10, 8, 10, 1, 3, 1, 10, 3, 10, 1, 8, 8, 10, 8, 5, 6, 9, 4, 6, 3, 4, 9, 7, 2, 6, 2, 3, 2, 5, 7, 1, 7, 10, 2, 1], \"yaxis\": \"y\"}, {\"alignmentgroup\": \"True\", \"hovertemplate\": \"product_line=Home and lifestyle<br>date=%{x}<br>quantity=%{y}<extra></extra>\", \"legendgroup\": \"Home and lifestyle\", \"marker\": {\"color\": \"#00cc96\"}, \"name\": \"Home and lifestyle\", \"offsetgroup\": \"Home and lifestyle\", \"orientation\": \"v\", \"showlegend\": true, \"textposition\": \"auto\", \"type\": \"bar\", \"x\": [\"2019-03-03T00:00:00\", \"2019-02-24T00:00:00\", \"2019-03-11T00:00:00\", \"2019-03-15T00:00:00\", \"2019-03-22T00:00:00\", \"2019-03-03T00:00:00\", \"2019-01-17T00:00:00\", \"2019-02-02T00:00:00\", \"2019-03-07T00:00:00\", \"2019-03-27T00:00:00\", \"2019-01-20T00:00:00\", \"2019-02-24T00:00:00\", \"2019-01-22T00:00:00\", \"2019-01-23T00:00:00\", \"2019-03-05T00:00:00\", \"2019-01-19T00:00:00\", \"2019-02-01T00:00:00\", \"2019-01-20T00:00:00\", \"2019-03-13T00:00:00\", \"2019-03-10T00:00:00\", \"2019-02-18T00:00:00\", \"2019-01-21T00:00:00\", \"2019-03-06T00:00:00\", \"2019-03-07T00:00:00\", \"2019-01-16T00:00:00\", \"2019-03-21T00:00:00\", \"2019-03-03T00:00:00\", \"2019-02-08T00:00:00\", \"2019-02-10T00:00:00\", \"2019-01-28T00:00:00\", \"2019-02-11T00:00:00\", \"2019-01-26T00:00:00\", \"2019-03-23T00:00:00\", \"2019-02-15T00:00:00\", \"2019-03-18T00:00:00\", \"2019-03-20T00:00:00\", \"2019-03-22T00:00:00\", \"2019-03-11T00:00:00\", \"2019-01-05T00:00:00\", \"2019-02-02T00:00:00\", \"2019-01-01T00:00:00\", \"2019-03-16T00:00:00\", \"2019-01-06T00:00:00\", \"2019-02-05T00:00:00\", \"2019-03-14T00:00:00\", \"2019-01-05T00:00:00\", \"2019-01-04T00:00:00\", \"2019-01-07T00:00:00\", \"2019-01-27T00:00:00\", \"2019-01-07T00:00:00\", \"2019-02-15T00:00:00\", \"2019-03-06T00:00:00\", \"2019-03-24T00:00:00\", \"2019-02-03T00:00:00\", \"2019-01-10T00:00:00\", \"2019-01-25T00:00:00\", \"2019-01-19T00:00:00\", \"2019-02-17T00:00:00\", \"2019-01-17T00:00:00\", \"2019-02-07T00:00:00\", \"2019-01-20T00:00:00\", \"2019-03-02T00:00:00\", \"2019-01-21T00:00:00\", \"2019-03-24T00:00:00\", \"2019-03-14T00:00:00\", \"2019-01-03T00:00:00\", \"2019-01-05T00:00:00\", \"2019-03-15T00:00:00\", \"2019-03-12T00:00:00\", \"2019-02-04T00:00:00\", \"2019-03-04T00:00:00\", \"2019-03-22T00:00:00\", \"2019-01-08T00:00:00\", \"2019-03-08T00:00:00\", \"2019-03-08T00:00:00\", \"2019-01-15T00:00:00\", \"2019-01-23T00:00:00\", \"2019-02-12T00:00:00\", \"2019-01-30T00:00:00\", \"2019-02-04T00:00:00\", \"2019-03-05T00:00:00\", \"2019-01-27T00:00:00\", \"2019-02-09T00:00:00\", \"2019-01-05T00:00:00\", \"2019-01-22T00:00:00\", \"2019-03-01T00:00:00\", \"2019-03-20T00:00:00\", \"2019-02-06T00:00:00\", \"2019-03-11T00:00:00\", \"2019-02-07T00:00:00\", \"2019-03-07T00:00:00\", \"2019-01-22T00:00:00\", \"2019-03-19T00:00:00\", \"2019-01-20T00:00:00\", \"2019-03-29T00:00:00\", \"2019-02-25T00:00:00\", \"2019-01-27T00:00:00\", \"2019-03-24T00:00:00\", \"2019-02-08T00:00:00\", \"2019-01-17T00:00:00\", \"2019-01-25T00:00:00\", \"2019-03-18T00:00:00\", \"2019-01-18T00:00:00\", \"2019-02-03T00:00:00\", \"2019-01-08T00:00:00\", \"2019-01-16T00:00:00\", \"2019-01-29T00:00:00\", \"2019-01-06T00:00:00\", \"2019-01-12T00:00:00\", \"2019-03-02T00:00:00\", \"2019-03-19T00:00:00\", \"2019-03-18T00:00:00\", \"2019-01-08T00:00:00\", \"2019-03-09T00:00:00\", \"2019-03-23T00:00:00\", \"2019-03-20T00:00:00\", \"2019-03-23T00:00:00\", \"2019-02-20T00:00:00\", \"2019-01-30T00:00:00\", \"2019-03-26T00:00:00\", \"2019-01-24T00:00:00\", \"2019-01-11T00:00:00\", \"2019-03-05T00:00:00\", \"2019-01-15T00:00:00\", \"2019-03-03T00:00:00\", \"2019-01-15T00:00:00\", \"2019-01-24T00:00:00\", \"2019-02-11T00:00:00\", \"2019-03-17T00:00:00\", \"2019-02-24T00:00:00\", \"2019-03-12T00:00:00\", \"2019-03-07T00:00:00\", \"2019-02-20T00:00:00\", \"2019-03-17T00:00:00\", \"2019-01-12T00:00:00\", \"2019-03-19T00:00:00\", \"2019-03-15T00:00:00\", \"2019-03-30T00:00:00\", \"2019-02-09T00:00:00\", \"2019-03-24T00:00:00\", \"2019-01-27T00:00:00\", \"2019-02-07T00:00:00\", \"2019-02-22T00:00:00\", \"2019-03-10T00:00:00\", \"2019-02-08T00:00:00\", \"2019-02-22T00:00:00\", \"2019-03-24T00:00:00\", \"2019-01-03T00:00:00\", \"2019-01-24T00:00:00\", \"2019-01-19T00:00:00\", \"2019-02-06T00:00:00\", \"2019-01-09T00:00:00\", \"2019-02-09T00:00:00\", \"2019-01-09T00:00:00\", \"2019-03-04T00:00:00\", \"2019-01-13T00:00:00\", \"2019-02-10T00:00:00\", \"2019-02-11T00:00:00\", \"2019-03-02T00:00:00\", \"2019-02-22T00:00:00\"], \"xaxis\": \"x\", \"y\": [7, 10, 2, 2, 8, 8, 1, 2, 2, 2, 10, 6, 9, 4, 6, 9, 9, 2, 8, 7, 6, 6, 8, 5, 10, 9, 8, 4, 1, 4, 3, 4, 1, 5, 10, 5, 1, 8, 4, 8, 8, 4, 8, 6, 4, 4, 10, 9, 2, 10, 8, 1, 1, 7, 6, 4, 1, 8, 6, 9, 8, 9, 6, 4, 6, 5, 9, 9, 4, 1, 4, 8, 4, 10, 6, 9, 6, 10, 1, 9, 10, 2, 6, 5, 5, 2, 6, 6, 5, 7, 1, 3, 4, 3, 3, 5, 7, 2, 4, 7, 3, 3, 9, 10, 2, 10, 5, 4, 10, 9, 4, 3, 3, 7, 7, 9, 7, 2, 5, 9, 5, 6, 8, 6, 8, 10, 1, 5, 4, 2, 7, 4, 1, 9, 7, 4, 8, 6, 4, 4, 10, 8, 3, 9, 6, 2, 6, 6, 3, 10, 5, 3, 6, 10, 9, 3, 7, 3, 10, 1], \"yaxis\": \"y\"}, {\"alignmentgroup\": \"True\", \"hovertemplate\": \"product_line=Sports and travel<br>date=%{x}<br>quantity=%{y}<extra></extra>\", \"legendgroup\": \"Sports and travel\", \"marker\": {\"color\": \"#ab63fa\"}, \"name\": \"Sports and travel\", \"offsetgroup\": \"Sports and travel\", \"orientation\": \"v\", \"showlegend\": true, \"textposition\": \"auto\", \"type\": \"bar\", \"x\": [\"2019-02-08T00:00:00\", \"2019-01-15T00:00:00\", \"2019-01-01T00:00:00\", \"2019-03-02T00:00:00\", \"2019-01-28T00:00:00\", \"2019-01-10T00:00:00\", \"2019-01-07T00:00:00\", \"2019-03-10T00:00:00\", \"2019-02-08T00:00:00\", \"2019-02-15T00:00:00\", \"2019-02-03T00:00:00\", \"2019-03-06T00:00:00\", \"2019-01-24T00:00:00\", \"2019-03-09T00:00:00\", \"2019-03-05T00:00:00\", \"2019-01-02T00:00:00\", \"2019-01-26T00:00:00\", \"2019-01-10T00:00:00\", \"2019-03-22T00:00:00\", \"2019-02-05T00:00:00\", \"2019-01-12T00:00:00\", \"2019-03-09T00:00:00\", \"2019-01-27T00:00:00\", \"2019-02-08T00:00:00\", \"2019-03-06T00:00:00\", \"2019-02-10T00:00:00\", \"2019-02-16T00:00:00\", \"2019-03-16T00:00:00\", \"2019-01-23T00:00:00\", \"2019-03-11T00:00:00\", \"2019-01-28T00:00:00\", \"2019-03-27T00:00:00\", \"2019-02-25T00:00:00\", \"2019-01-30T00:00:00\", \"2019-02-01T00:00:00\", \"2019-03-23T00:00:00\", \"2019-03-04T00:00:00\", \"2019-01-29T00:00:00\", \"2019-01-04T00:00:00\", \"2019-03-11T00:00:00\", \"2019-03-24T00:00:00\", \"2019-01-11T00:00:00\", \"2019-01-20T00:00:00\", \"2019-03-02T00:00:00\", \"2019-02-09T00:00:00\", \"2019-02-26T00:00:00\", \"2019-03-12T00:00:00\", \"2019-03-06T00:00:00\", \"2019-03-20T00:00:00\", \"2019-01-06T00:00:00\", \"2019-01-31T00:00:00\", \"2019-03-30T00:00:00\", \"2019-01-31T00:00:00\", \"2019-03-12T00:00:00\", \"2019-03-24T00:00:00\", \"2019-02-24T00:00:00\", \"2019-02-14T00:00:00\", \"2019-01-09T00:00:00\", \"2019-03-16T00:00:00\", \"2019-01-27T00:00:00\", \"2019-02-22T00:00:00\", \"2019-01-11T00:00:00\", \"2019-01-31T00:00:00\", \"2019-03-09T00:00:00\", \"2019-01-19T00:00:00\", \"2019-01-25T00:00:00\", \"2019-03-10T00:00:00\", \"2019-02-27T00:00:00\", \"2019-03-19T00:00:00\", \"2019-01-20T00:00:00\", \"2019-03-22T00:00:00\", \"2019-01-15T00:00:00\", \"2019-03-26T00:00:00\", \"2019-02-03T00:00:00\", \"2019-03-02T00:00:00\", \"2019-03-22T00:00:00\", \"2019-01-25T00:00:00\", \"2019-03-18T00:00:00\", \"2019-03-16T00:00:00\", \"2019-01-08T00:00:00\", \"2019-01-01T00:00:00\", \"2019-03-21T00:00:00\", \"2019-03-20T00:00:00\", \"2019-01-21T00:00:00\", \"2019-02-02T00:00:00\", \"2019-02-03T00:00:00\", \"2019-03-25T00:00:00\", \"2019-02-25T00:00:00\", \"2019-01-08T00:00:00\", \"2019-01-16T00:00:00\", \"2019-02-23T00:00:00\", \"2019-01-17T00:00:00\", \"2019-02-25T00:00:00\", \"2019-02-17T00:00:00\", \"2019-02-13T00:00:00\", \"2019-01-07T00:00:00\", \"2019-01-26T00:00:00\", \"2019-02-03T00:00:00\", \"2019-03-02T00:00:00\", \"2019-01-29T00:00:00\", \"2019-03-22T00:00:00\", \"2019-01-19T00:00:00\", \"2019-02-04T00:00:00\", \"2019-02-07T00:00:00\", \"2019-02-05T00:00:00\", \"2019-03-15T00:00:00\", \"2019-02-17T00:00:00\", \"2019-03-17T00:00:00\", \"2019-01-19T00:00:00\", \"2019-03-20T00:00:00\", \"2019-01-13T00:00:00\", \"2019-03-09T00:00:00\", \"2019-01-19T00:00:00\", \"2019-01-16T00:00:00\", \"2019-03-06T00:00:00\", \"2019-01-29T00:00:00\", \"2019-02-03T00:00:00\", \"2019-01-16T00:00:00\", \"2019-02-21T00:00:00\", \"2019-01-17T00:00:00\", \"2019-02-19T00:00:00\", \"2019-01-14T00:00:00\", \"2019-01-24T00:00:00\", \"2019-01-08T00:00:00\", \"2019-03-13T00:00:00\", \"2019-01-25T00:00:00\", \"2019-01-01T00:00:00\", \"2019-01-17T00:00:00\", \"2019-01-18T00:00:00\", \"2019-03-05T00:00:00\", \"2019-02-12T00:00:00\", \"2019-01-02T00:00:00\", \"2019-02-13T00:00:00\", \"2019-02-26T00:00:00\", \"2019-02-17T00:00:00\", \"2019-01-03T00:00:00\", \"2019-03-20T00:00:00\", \"2019-02-11T00:00:00\", \"2019-01-17T00:00:00\", \"2019-02-22T00:00:00\", \"2019-01-12T00:00:00\", \"2019-01-16T00:00:00\", \"2019-02-08T00:00:00\", \"2019-02-07T00:00:00\", \"2019-02-14T00:00:00\", \"2019-01-29T00:00:00\", \"2019-01-09T00:00:00\", \"2019-01-02T00:00:00\", \"2019-01-01T00:00:00\", \"2019-03-02T00:00:00\", \"2019-01-30T00:00:00\", \"2019-01-08T00:00:00\", \"2019-03-15T00:00:00\", \"2019-01-06T00:00:00\", \"2019-01-18T00:00:00\", \"2019-02-20T00:00:00\", \"2019-01-13T00:00:00\", \"2019-03-17T00:00:00\", \"2019-03-14T00:00:00\", \"2019-01-10T00:00:00\", \"2019-03-14T00:00:00\", \"2019-02-15T00:00:00\", \"2019-03-02T00:00:00\", \"2019-03-30T00:00:00\", \"2019-03-14T00:00:00\", \"2019-01-24T00:00:00\"], \"xaxis\": \"x\", \"y\": [7, 6, 6, 3, 9, 8, 1, 5, 6, 3, 9, 10, 10, 5, 7, 1, 10, 7, 6, 2, 7, 9, 5, 9, 6, 4, 10, 8, 10, 7, 8, 6, 1, 2, 7, 10, 7, 6, 3, 7, 5, 2, 2, 2, 10, 1, 7, 5, 10, 1, 9, 7, 6, 4, 5, 6, 3, 10, 1, 10, 7, 4, 1, 10, 4, 2, 3, 5, 9, 4, 8, 7, 1, 4, 10, 6, 4, 5, 10, 5, 10, 4, 8, 1, 8, 1, 2, 1, 3, 7, 7, 5, 5, 9, 4, 9, 5, 10, 7, 10, 5, 3, 5, 1, 3, 3, 9, 6, 1, 9, 6, 2, 10, 2, 9, 5, 3, 7, 2, 2, 7, 1, 6, 2, 2, 9, 4, 3, 9, 10, 2, 8, 6, 4, 7, 1, 5, 4, 7, 10, 6, 2, 5, 1, 7, 4, 8, 6, 6, 2, 1, 2, 8, 4, 6, 10, 7, 10, 1, 7, 6, 1, 2, 5, 9, 10], \"yaxis\": \"y\"}, {\"alignmentgroup\": \"True\", \"hovertemplate\": \"product_line=Food and beverages<br>date=%{x}<br>quantity=%{y}<extra></extra>\", \"legendgroup\": \"Food and beverages\", \"marker\": {\"color\": \"#FFA15A\"}, \"name\": \"Food and beverages\", \"offsetgroup\": \"Food and beverages\", \"orientation\": \"v\", \"showlegend\": true, \"textposition\": \"auto\", \"type\": \"bar\", \"x\": [\"2019-02-20T00:00:00\", \"2019-02-07T00:00:00\", \"2019-01-21T00:00:00\", \"2019-01-25T00:00:00\", \"2019-02-06T00:00:00\", \"2019-03-04T00:00:00\", \"2019-02-06T00:00:00\", \"2019-02-03T00:00:00\", \"2019-02-10T00:00:00\", \"2019-01-06T00:00:00\", \"2019-03-05T00:00:00\", \"2019-03-05T00:00:00\", \"2019-01-26T00:00:00\", \"2019-01-23T00:00:00\", \"2019-02-23T00:00:00\", \"2019-03-27T00:00:00\", \"2019-03-23T00:00:00\", \"2019-03-28T00:00:00\", \"2019-03-24T00:00:00\", \"2019-02-02T00:00:00\", \"2019-01-08T00:00:00\", \"2019-02-22T00:00:00\", \"2019-02-07T00:00:00\", \"2019-02-20T00:00:00\", \"2019-01-19T00:00:00\", \"2019-03-13T00:00:00\", \"2019-02-20T00:00:00\", \"2019-01-19T00:00:00\", \"2019-01-26T00:00:00\", \"2019-01-18T00:00:00\", \"2019-03-03T00:00:00\", \"2019-03-23T00:00:00\", \"2019-01-23T00:00:00\", \"2019-03-05T00:00:00\", \"2019-03-16T00:00:00\", \"2019-02-17T00:00:00\", \"2019-01-16T00:00:00\", \"2019-03-10T00:00:00\", \"2019-03-06T00:00:00\", \"2019-03-20T00:00:00\", \"2019-01-11T00:00:00\", \"2019-01-14T00:00:00\", \"2019-02-02T00:00:00\", \"2019-01-08T00:00:00\", \"2019-01-25T00:00:00\", \"2019-01-21T00:00:00\", \"2019-02-25T00:00:00\", \"2019-02-01T00:00:00\", \"2019-02-14T00:00:00\", \"2019-02-09T00:00:00\", \"2019-02-26T00:00:00\", \"2019-03-09T00:00:00\", \"2019-03-12T00:00:00\", \"2019-02-17T00:00:00\", \"2019-03-14T00:00:00\", \"2019-02-05T00:00:00\", \"2019-01-30T00:00:00\", \"2019-01-07T00:00:00\", \"2019-02-17T00:00:00\", \"2019-02-27T00:00:00\", \"2019-03-07T00:00:00\", \"2019-02-19T00:00:00\", \"2019-01-14T00:00:00\", \"2019-03-01T00:00:00\", \"2019-01-06T00:00:00\", \"2019-03-11T00:00:00\", \"2019-03-10T00:00:00\", \"2019-03-13T00:00:00\", \"2019-03-25T00:00:00\", \"2019-01-11T00:00:00\", \"2019-03-28T00:00:00\", \"2019-03-20T00:00:00\", \"2019-03-08T00:00:00\", \"2019-03-08T00:00:00\", \"2019-01-15T00:00:00\", \"2019-02-14T00:00:00\", \"2019-03-16T00:00:00\", \"2019-02-15T00:00:00\", \"2019-02-23T00:00:00\", \"2019-02-03T00:00:00\", \"2019-03-03T00:00:00\", \"2019-03-17T00:00:00\", \"2019-03-28T00:00:00\", \"2019-02-09T00:00:00\", \"2019-02-02T00:00:00\", \"2019-01-27T00:00:00\", \"2019-01-29T00:00:00\", \"2019-01-27T00:00:00\", \"2019-02-07T00:00:00\", \"2019-03-26T00:00:00\", \"2019-02-01T00:00:00\", \"2019-01-05T00:00:00\", \"2019-01-30T00:00:00\", \"2019-01-02T00:00:00\", \"2019-02-11T00:00:00\", \"2019-01-17T00:00:00\", \"2019-03-10T00:00:00\", \"2019-01-13T00:00:00\", \"2019-02-20T00:00:00\", \"2019-01-14T00:00:00\", \"2019-01-07T00:00:00\", \"2019-03-27T00:00:00\", \"2019-02-15T00:00:00\", \"2019-03-14T00:00:00\", \"2019-03-28T00:00:00\", \"2019-01-17T00:00:00\", \"2019-03-09T00:00:00\", \"2019-02-03T00:00:00\", \"2019-01-23T00:00:00\", \"2019-03-28T00:00:00\", \"2019-03-20T00:00:00\", \"2019-01-26T00:00:00\", \"2019-01-15T00:00:00\", \"2019-03-20T00:00:00\", \"2019-03-08T00:00:00\", \"2019-02-23T00:00:00\", \"2019-03-30T00:00:00\", \"2019-02-12T00:00:00\", \"2019-02-20T00:00:00\", \"2019-03-30T00:00:00\", \"2019-02-23T00:00:00\", \"2019-01-11T00:00:00\", \"2019-02-15T00:00:00\", \"2019-03-12T00:00:00\", \"2019-01-16T00:00:00\", \"2019-03-27T00:00:00\", \"2019-01-21T00:00:00\", \"2019-02-28T00:00:00\", \"2019-01-11T00:00:00\", \"2019-02-04T00:00:00\", \"2019-03-01T00:00:00\", \"2019-01-14T00:00:00\", \"2019-02-02T00:00:00\", \"2019-02-03T00:00:00\", \"2019-02-27T00:00:00\", \"2019-03-25T00:00:00\", \"2019-02-11T00:00:00\", \"2019-02-06T00:00:00\", \"2019-01-17T00:00:00\", \"2019-01-22T00:00:00\", \"2019-03-14T00:00:00\", \"2019-01-19T00:00:00\", \"2019-02-03T00:00:00\", \"2019-02-13T00:00:00\", \"2019-01-08T00:00:00\", \"2019-01-01T00:00:00\", \"2019-01-23T00:00:00\", \"2019-01-08T00:00:00\", \"2019-02-16T00:00:00\", \"2019-01-08T00:00:00\", \"2019-03-19T00:00:00\", \"2019-02-05T00:00:00\", \"2019-02-05T00:00:00\", \"2019-02-09T00:00:00\", \"2019-01-28T00:00:00\", \"2019-03-27T00:00:00\", \"2019-03-27T00:00:00\", \"2019-02-25T00:00:00\", \"2019-02-27T00:00:00\", \"2019-03-21T00:00:00\", \"2019-03-02T00:00:00\", \"2019-02-24T00:00:00\", \"2019-02-25T00:00:00\", \"2019-01-13T00:00:00\", \"2019-01-10T00:00:00\", \"2019-02-19T00:00:00\", \"2019-01-26T00:00:00\", \"2019-01-01T00:00:00\", \"2019-03-04T00:00:00\", \"2019-02-26T00:00:00\", \"2019-02-04T00:00:00\", \"2019-01-19T00:00:00\", \"2019-03-22T00:00:00\", \"2019-02-09T00:00:00\"], \"xaxis\": \"x\", \"y\": [3, 10, 3, 5, 4, 8, 9, 7, 5, 10, 3, 10, 3, 8, 4, 7, 3, 6, 9, 10, 8, 1, 6, 5, 8, 7, 10, 6, 5, 8, 8, 6, 8, 3, 9, 5, 9, 3, 7, 2, 9, 7, 9, 10, 7, 2, 1, 5, 2, 3, 9, 5, 4, 3, 2, 9, 5, 4, 8, 8, 2, 4, 5, 4, 5, 6, 7, 5, 6, 5, 3, 3, 2, 4, 5, 10, 5, 9, 1, 5, 10, 1, 5, 1, 8, 6, 6, 6, 10, 9, 6, 1, 10, 6, 10, 10, 7, 2, 4, 4, 3, 3, 3, 10, 4, 2, 9, 10, 6, 3, 1, 2, 2, 3, 5, 3, 8, 10, 3, 2, 4, 6, 3, 7, 9, 3, 1, 6, 7, 4, 1, 1, 1, 5, 10, 4, 10, 1, 2, 5, 8, 8, 5, 2, 9, 8, 9, 3, 7, 10, 2, 1, 6, 9, 7, 2, 3, 3, 10, 6, 4, 8, 4, 4, 9, 9, 2, 10, 4, 6, 1, 4, 5, 1], \"yaxis\": \"y\"}, {\"alignmentgroup\": \"True\", \"hovertemplate\": \"product_line=Fashion accessories<br>date=%{x}<br>quantity=%{y}<extra></extra>\", \"legendgroup\": \"Fashion accessories\", \"marker\": {\"color\": \"#19d3f3\"}, \"name\": \"Fashion accessories\", \"offsetgroup\": \"Fashion accessories\", \"orientation\": \"v\", \"showlegend\": true, \"textposition\": \"auto\", \"type\": \"bar\", \"x\": [\"2019-02-06T00:00:00\", \"2019-02-08T00:00:00\", \"2019-03-10T00:00:00\", \"2019-02-25T00:00:00\", \"2019-03-19T00:00:00\", \"2019-03-22T00:00:00\", \"2019-01-25T00:00:00\", \"2019-01-07T00:00:00\", \"2019-02-11T00:00:00\", \"2019-01-09T00:00:00\", \"2019-01-12T00:00:00\", \"2019-03-25T00:00:00\", \"2019-03-26T00:00:00\", \"2019-03-01T00:00:00\", \"2019-01-05T00:00:00\", \"2019-02-15T00:00:00\", \"2019-03-02T00:00:00\", \"2019-03-05T00:00:00\", \"2019-01-16T00:00:00\", \"2019-03-09T00:00:00\", \"2019-01-08T00:00:00\", \"2019-01-25T00:00:00\", \"2019-02-18T00:00:00\", \"2019-02-10T00:00:00\", \"2019-03-23T00:00:00\", \"2019-01-29T00:00:00\", \"2019-02-08T00:00:00\", \"2019-02-13T00:00:00\", \"2019-02-09T00:00:00\", \"2019-01-15T00:00:00\", \"2019-01-13T00:00:00\", \"2019-03-28T00:00:00\", \"2019-02-12T00:00:00\", \"2019-02-21T00:00:00\", \"2019-01-26T00:00:00\", \"2019-02-21T00:00:00\", \"2019-03-05T00:00:00\", \"2019-01-11T00:00:00\", \"2019-02-28T00:00:00\", \"2019-01-23T00:00:00\", \"2019-03-17T00:00:00\", \"2019-01-29T00:00:00\", \"2019-03-07T00:00:00\", \"2019-03-13T00:00:00\", \"2019-01-07T00:00:00\", \"2019-02-02T00:00:00\", \"2019-03-20T00:00:00\", \"2019-01-02T00:00:00\", \"2019-03-05T00:00:00\", \"2019-02-05T00:00:00\", \"2019-03-08T00:00:00\", \"2019-02-03T00:00:00\", \"2019-03-19T00:00:00\", \"2019-02-27T00:00:00\", \"2019-02-15T00:00:00\", \"2019-03-14T00:00:00\", \"2019-03-08T00:00:00\", \"2019-01-06T00:00:00\", \"2019-01-25T00:00:00\", \"2019-01-29T00:00:00\", \"2019-01-14T00:00:00\", \"2019-02-06T00:00:00\", \"2019-01-27T00:00:00\", \"2019-02-15T00:00:00\", \"2019-01-26T00:00:00\", \"2019-02-22T00:00:00\", \"2019-02-16T00:00:00\", \"2019-01-04T00:00:00\", \"2019-01-28T00:00:00\", \"2019-02-08T00:00:00\", \"2019-03-19T00:00:00\", \"2019-03-09T00:00:00\", \"2019-01-02T00:00:00\", \"2019-01-31T00:00:00\", \"2019-03-09T00:00:00\", \"2019-02-22T00:00:00\", \"2019-01-08T00:00:00\", \"2019-03-10T00:00:00\", \"2019-02-13T00:00:00\", \"2019-02-02T00:00:00\", \"2019-02-28T00:00:00\", \"2019-03-23T00:00:00\", \"2019-03-13T00:00:00\", \"2019-03-15T00:00:00\", \"2019-02-26T00:00:00\", \"2019-01-05T00:00:00\", \"2019-01-27T00:00:00\", \"2019-03-18T00:00:00\", \"2019-01-16T00:00:00\", \"2019-01-13T00:00:00\", \"2019-01-24T00:00:00\", \"2019-01-05T00:00:00\", \"2019-02-25T00:00:00\", \"2019-01-12T00:00:00\", \"2019-02-09T00:00:00\", \"2019-02-22T00:00:00\", \"2019-02-04T00:00:00\", \"2019-03-20T00:00:00\", \"2019-01-01T00:00:00\", \"2019-01-10T00:00:00\", \"2019-03-01T00:00:00\", \"2019-02-13T00:00:00\", \"2019-01-14T00:00:00\", \"2019-03-14T00:00:00\", \"2019-01-26T00:00:00\", \"2019-01-26T00:00:00\", \"2019-01-08T00:00:00\", \"2019-02-10T00:00:00\", \"2019-01-23T00:00:00\", \"2019-01-24T00:00:00\", \"2019-02-07T00:00:00\", \"2019-01-12T00:00:00\", \"2019-02-16T00:00:00\", \"2019-01-26T00:00:00\", \"2019-02-27T00:00:00\", \"2019-03-20T00:00:00\", \"2019-02-16T00:00:00\", \"2019-01-18T00:00:00\", \"2019-02-26T00:00:00\", \"2019-03-24T00:00:00\", \"2019-02-04T00:00:00\", \"2019-01-14T00:00:00\", \"2019-02-24T00:00:00\", \"2019-01-09T00:00:00\", \"2019-02-27T00:00:00\", \"2019-02-10T00:00:00\", \"2019-02-07T00:00:00\", \"2019-02-27T00:00:00\", \"2019-01-20T00:00:00\", \"2019-01-31T00:00:00\", \"2019-03-28T00:00:00\", \"2019-02-17T00:00:00\", \"2019-01-18T00:00:00\", \"2019-02-02T00:00:00\", \"2019-03-16T00:00:00\", \"2019-03-01T00:00:00\", \"2019-02-08T00:00:00\", \"2019-01-08T00:00:00\", \"2019-03-14T00:00:00\", \"2019-01-25T00:00:00\", \"2019-03-09T00:00:00\", \"2019-01-20T00:00:00\", \"2019-01-05T00:00:00\", \"2019-02-05T00:00:00\", \"2019-03-03T00:00:00\", \"2019-03-15T00:00:00\", \"2019-03-23T00:00:00\", \"2019-03-04T00:00:00\", \"2019-01-31T00:00:00\", \"2019-01-23T00:00:00\", \"2019-03-26T00:00:00\", \"2019-03-26T00:00:00\", \"2019-01-09T00:00:00\", \"2019-02-15T00:00:00\", \"2019-01-26T00:00:00\", \"2019-01-19T00:00:00\", \"2019-01-25T00:00:00\", \"2019-02-19T00:00:00\", \"2019-02-16T00:00:00\", \"2019-03-13T00:00:00\", \"2019-02-12T00:00:00\", \"2019-03-30T00:00:00\", \"2019-03-13T00:00:00\", \"2019-03-02T00:00:00\", \"2019-01-18T00:00:00\", \"2019-01-31T00:00:00\", \"2019-03-11T00:00:00\", \"2019-02-02T00:00:00\", \"2019-03-27T00:00:00\", \"2019-02-03T00:00:00\", \"2019-01-06T00:00:00\", \"2019-03-18T00:00:00\", \"2019-03-19T00:00:00\", \"2019-02-07T00:00:00\", \"2019-03-06T00:00:00\", \"2019-02-07T00:00:00\", \"2019-02-22T00:00:00\", \"2019-02-18T00:00:00\"], \"xaxis\": \"x\", \"y\": [4, 1, 2, 5, 10, 4, 1, 6, 10, 9, 9, 5, 1, 9, 6, 7, 3, 5, 1, 8, 9, 7, 3, 10, 4, 9, 10, 7, 7, 2, 1, 3, 8, 1, 2, 4, 5, 1, 2, 5, 10, 4, 4, 4, 7, 4, 10, 2, 2, 2, 5, 5, 9, 9, 10, 7, 10, 4, 2, 6, 5, 4, 9, 3, 10, 5, 7, 4, 5, 10, 8, 1, 9, 2, 7, 1, 1, 3, 5, 10, 10, 4, 2, 10, 2, 1, 7, 1, 4, 2, 8, 1, 4, 10, 3, 9, 2, 2, 9, 7, 7, 2, 4, 10, 5, 1, 7, 7, 1, 3, 6, 10, 1, 1, 3, 1, 4, 3, 1, 6, 4, 10, 2, 6, 2, 7, 8, 10, 8, 8, 7, 3, 6, 7, 4, 4, 1, 10, 4, 3, 8, 8, 3, 1, 1, 2, 7, 9, 10, 7, 3, 1, 5, 3, 1, 6, 1, 2, 9, 1, 1, 8, 8, 5, 7, 8, 4, 2, 9, 1, 7, 1, 1, 2, 2, 5, 10, 7], \"yaxis\": \"y\"}],                        {\"barmode\": \"relative\", \"legend\": {\"title\": {\"text\": \"product_line\"}, \"tracegroupgap\": 0}, \"template\": {\"data\": {\"bar\": [{\"error_x\": {\"color\": \"#2a3f5f\"}, \"error_y\": {\"color\": \"#2a3f5f\"}, \"marker\": {\"line\": {\"color\": \"#E5ECF6\", \"width\": 0.5}}, \"type\": \"bar\"}], \"barpolar\": [{\"marker\": {\"line\": {\"color\": \"#E5ECF6\", \"width\": 0.5}}, \"type\": \"barpolar\"}], \"carpet\": [{\"aaxis\": {\"endlinecolor\": \"#2a3f5f\", \"gridcolor\": \"white\", \"linecolor\": \"white\", \"minorgridcolor\": \"white\", \"startlinecolor\": \"#2a3f5f\"}, \"baxis\": {\"endlinecolor\": \"#2a3f5f\", \"gridcolor\": \"white\", \"linecolor\": \"white\", \"minorgridcolor\": \"white\", \"startlinecolor\": \"#2a3f5f\"}, \"type\": \"carpet\"}], \"choropleth\": [{\"colorbar\": {\"outlinewidth\": 0, \"ticks\": \"\"}, \"type\": \"choropleth\"}], \"contour\": [{\"colorbar\": {\"outlinewidth\": 0, \"ticks\": \"\"}, \"colorscale\": [[0.0, \"#0d0887\"], [0.1111111111111111, \"#46039f\"], [0.2222222222222222, \"#7201a8\"], [0.3333333333333333, \"#9c179e\"], [0.4444444444444444, \"#bd3786\"], [0.5555555555555556, \"#d8576b\"], [0.6666666666666666, \"#ed7953\"], [0.7777777777777778, \"#fb9f3a\"], [0.8888888888888888, \"#fdca26\"], [1.0, \"#f0f921\"]], \"type\": \"contour\"}], \"contourcarpet\": [{\"colorbar\": {\"outlinewidth\": 0, \"ticks\": \"\"}, \"type\": \"contourcarpet\"}], \"heatmap\": [{\"colorbar\": {\"outlinewidth\": 0, \"ticks\": \"\"}, \"colorscale\": [[0.0, \"#0d0887\"], [0.1111111111111111, \"#46039f\"], [0.2222222222222222, \"#7201a8\"], [0.3333333333333333, \"#9c179e\"], [0.4444444444444444, \"#bd3786\"], [0.5555555555555556, \"#d8576b\"], [0.6666666666666666, \"#ed7953\"], [0.7777777777777778, \"#fb9f3a\"], [0.8888888888888888, \"#fdca26\"], [1.0, \"#f0f921\"]], \"type\": \"heatmap\"}], \"heatmapgl\": [{\"colorbar\": {\"outlinewidth\": 0, \"ticks\": \"\"}, \"colorscale\": [[0.0, \"#0d0887\"], [0.1111111111111111, \"#46039f\"], [0.2222222222222222, \"#7201a8\"], [0.3333333333333333, \"#9c179e\"], [0.4444444444444444, \"#bd3786\"], [0.5555555555555556, \"#d8576b\"], [0.6666666666666666, \"#ed7953\"], [0.7777777777777778, \"#fb9f3a\"], [0.8888888888888888, \"#fdca26\"], [1.0, \"#f0f921\"]], \"type\": \"heatmapgl\"}], \"histogram\": [{\"marker\": {\"colorbar\": {\"outlinewidth\": 0, \"ticks\": \"\"}}, \"type\": \"histogram\"}], \"histogram2d\": [{\"colorbar\": {\"outlinewidth\": 0, \"ticks\": \"\"}, \"colorscale\": [[0.0, \"#0d0887\"], [0.1111111111111111, \"#46039f\"], [0.2222222222222222, \"#7201a8\"], [0.3333333333333333, \"#9c179e\"], [0.4444444444444444, \"#bd3786\"], [0.5555555555555556, \"#d8576b\"], [0.6666666666666666, \"#ed7953\"], [0.7777777777777778, \"#fb9f3a\"], [0.8888888888888888, \"#fdca26\"], [1.0, \"#f0f921\"]], \"type\": \"histogram2d\"}], \"histogram2dcontour\": [{\"colorbar\": {\"outlinewidth\": 0, \"ticks\": \"\"}, \"colorscale\": [[0.0, \"#0d0887\"], [0.1111111111111111, \"#46039f\"], [0.2222222222222222, \"#7201a8\"], [0.3333333333333333, \"#9c179e\"], [0.4444444444444444, \"#bd3786\"], [0.5555555555555556, \"#d8576b\"], [0.6666666666666666, \"#ed7953\"], [0.7777777777777778, \"#fb9f3a\"], [0.8888888888888888, \"#fdca26\"], [1.0, \"#f0f921\"]], \"type\": \"histogram2dcontour\"}], \"mesh3d\": [{\"colorbar\": {\"outlinewidth\": 0, \"ticks\": \"\"}, \"type\": \"mesh3d\"}], \"parcoords\": [{\"line\": {\"colorbar\": {\"outlinewidth\": 0, \"ticks\": \"\"}}, \"type\": \"parcoords\"}], \"pie\": [{\"automargin\": true, \"type\": \"pie\"}], \"scatter\": [{\"marker\": {\"colorbar\": {\"outlinewidth\": 0, \"ticks\": \"\"}}, \"type\": \"scatter\"}], \"scatter3d\": [{\"line\": {\"colorbar\": {\"outlinewidth\": 0, \"ticks\": \"\"}}, \"marker\": {\"colorbar\": {\"outlinewidth\": 0, \"ticks\": \"\"}}, \"type\": \"scatter3d\"}], \"scattercarpet\": [{\"marker\": {\"colorbar\": {\"outlinewidth\": 0, \"ticks\": \"\"}}, \"type\": \"scattercarpet\"}], \"scattergeo\": [{\"marker\": {\"colorbar\": {\"outlinewidth\": 0, \"ticks\": \"\"}}, \"type\": \"scattergeo\"}], \"scattergl\": [{\"marker\": {\"colorbar\": {\"outlinewidth\": 0, \"ticks\": \"\"}}, \"type\": \"scattergl\"}], \"scattermapbox\": [{\"marker\": {\"colorbar\": {\"outlinewidth\": 0, \"ticks\": \"\"}}, \"type\": \"scattermapbox\"}], \"scatterpolar\": [{\"marker\": {\"colorbar\": {\"outlinewidth\": 0, \"ticks\": \"\"}}, \"type\": \"scatterpolar\"}], \"scatterpolargl\": [{\"marker\": {\"colorbar\": {\"outlinewidth\": 0, \"ticks\": \"\"}}, \"type\": \"scatterpolargl\"}], \"scatterternary\": [{\"marker\": {\"colorbar\": {\"outlinewidth\": 0, \"ticks\": \"\"}}, \"type\": \"scatterternary\"}], \"surface\": [{\"colorbar\": {\"outlinewidth\": 0, \"ticks\": \"\"}, \"colorscale\": [[0.0, \"#0d0887\"], [0.1111111111111111, \"#46039f\"], [0.2222222222222222, \"#7201a8\"], [0.3333333333333333, \"#9c179e\"], [0.4444444444444444, \"#bd3786\"], [0.5555555555555556, \"#d8576b\"], [0.6666666666666666, \"#ed7953\"], [0.7777777777777778, \"#fb9f3a\"], [0.8888888888888888, \"#fdca26\"], [1.0, \"#f0f921\"]], \"type\": \"surface\"}], \"table\": [{\"cells\": {\"fill\": {\"color\": \"#EBF0F8\"}, \"line\": {\"color\": \"white\"}}, \"header\": {\"fill\": {\"color\": \"#C8D4E3\"}, \"line\": {\"color\": \"white\"}}, \"type\": \"table\"}]}, \"layout\": {\"annotationdefaults\": {\"arrowcolor\": \"#2a3f5f\", \"arrowhead\": 0, \"arrowwidth\": 1}, \"autotypenumbers\": \"strict\", \"coloraxis\": {\"colorbar\": {\"outlinewidth\": 0, \"ticks\": \"\"}}, \"colorscale\": {\"diverging\": [[0, \"#8e0152\"], [0.1, \"#c51b7d\"], [0.2, \"#de77ae\"], [0.3, \"#f1b6da\"], [0.4, \"#fde0ef\"], [0.5, \"#f7f7f7\"], [0.6, \"#e6f5d0\"], [0.7, \"#b8e186\"], [0.8, \"#7fbc41\"], [0.9, \"#4d9221\"], [1, \"#276419\"]], \"sequential\": [[0.0, \"#0d0887\"], [0.1111111111111111, \"#46039f\"], [0.2222222222222222, \"#7201a8\"], [0.3333333333333333, \"#9c179e\"], [0.4444444444444444, \"#bd3786\"], [0.5555555555555556, \"#d8576b\"], [0.6666666666666666, \"#ed7953\"], [0.7777777777777778, \"#fb9f3a\"], [0.8888888888888888, \"#fdca26\"], [1.0, \"#f0f921\"]], \"sequentialminus\": [[0.0, \"#0d0887\"], [0.1111111111111111, \"#46039f\"], [0.2222222222222222, \"#7201a8\"], [0.3333333333333333, \"#9c179e\"], [0.4444444444444444, \"#bd3786\"], [0.5555555555555556, \"#d8576b\"], [0.6666666666666666, \"#ed7953\"], [0.7777777777777778, \"#fb9f3a\"], [0.8888888888888888, \"#fdca26\"], [1.0, \"#f0f921\"]]}, \"colorway\": [\"#636efa\", \"#EF553B\", \"#00cc96\", \"#ab63fa\", \"#FFA15A\", \"#19d3f3\", \"#FF6692\", \"#B6E880\", \"#FF97FF\", \"#FECB52\"], \"font\": {\"color\": \"#2a3f5f\"}, \"geo\": {\"bgcolor\": \"white\", \"lakecolor\": \"white\", \"landcolor\": \"#E5ECF6\", \"showlakes\": true, \"showland\": true, \"subunitcolor\": \"white\"}, \"hoverlabel\": {\"align\": \"left\"}, \"hovermode\": \"closest\", \"mapbox\": {\"style\": \"light\"}, \"paper_bgcolor\": \"white\", \"plot_bgcolor\": \"#E5ECF6\", \"polar\": {\"angularaxis\": {\"gridcolor\": \"white\", \"linecolor\": \"white\", \"ticks\": \"\"}, \"bgcolor\": \"#E5ECF6\", \"radialaxis\": {\"gridcolor\": \"white\", \"linecolor\": \"white\", \"ticks\": \"\"}}, \"scene\": {\"xaxis\": {\"backgroundcolor\": \"#E5ECF6\", \"gridcolor\": \"white\", \"gridwidth\": 2, \"linecolor\": \"white\", \"showbackground\": true, \"ticks\": \"\", \"zerolinecolor\": \"white\"}, \"yaxis\": {\"backgroundcolor\": \"#E5ECF6\", \"gridcolor\": \"white\", \"gridwidth\": 2, \"linecolor\": \"white\", \"showbackground\": true, \"ticks\": \"\", \"zerolinecolor\": \"white\"}, \"zaxis\": {\"backgroundcolor\": \"#E5ECF6\", \"gridcolor\": \"white\", \"gridwidth\": 2, \"linecolor\": \"white\", \"showbackground\": true, \"ticks\": \"\", \"zerolinecolor\": \"white\"}}, \"shapedefaults\": {\"line\": {\"color\": \"#2a3f5f\"}}, \"ternary\": {\"aaxis\": {\"gridcolor\": \"white\", \"linecolor\": \"white\", \"ticks\": \"\"}, \"baxis\": {\"gridcolor\": \"white\", \"linecolor\": \"white\", \"ticks\": \"\"}, \"bgcolor\": \"#E5ECF6\", \"caxis\": {\"gridcolor\": \"white\", \"linecolor\": \"white\", \"ticks\": \"\"}}, \"title\": {\"x\": 0.05}, \"xaxis\": {\"automargin\": true, \"gridcolor\": \"white\", \"linecolor\": \"white\", \"ticks\": \"\", \"title\": {\"standoff\": 15}, \"zerolinecolor\": \"white\", \"zerolinewidth\": 2}, \"yaxis\": {\"automargin\": true, \"gridcolor\": \"white\", \"linecolor\": \"white\", \"ticks\": \"\", \"title\": {\"standoff\": 15}, \"zerolinecolor\": \"white\", \"zerolinewidth\": 2}}}, \"title\": {\"text\": \"quantity_vs_product_line\"}, \"xaxis\": {\"anchor\": \"y\", \"domain\": [0.0, 1.0], \"title\": {\"text\": \"date\"}}, \"yaxis\": {\"anchor\": \"x\", \"domain\": [0.0, 1.0], \"title\": {\"text\": \"quantity\"}}},                        {\"responsive\": true}                    ).then(function(){\n",
       "                            \n",
       "var gd = document.getElementById('2f46a9ff-3ecb-4936-8eca-c480e212d739');\n",
       "var x = new MutationObserver(function (mutations, observer) {{\n",
       "        var display = window.getComputedStyle(gd).display;\n",
       "        if (!display || display === 'none') {{\n",
       "            console.log([gd, 'removed!']);\n",
       "            Plotly.purge(gd);\n",
       "            observer.disconnect();\n",
       "        }}\n",
       "}});\n",
       "\n",
       "// Listen for the removal of the full notebook cells\n",
       "var notebookContainer = gd.closest('#notebook-container');\n",
       "if (notebookContainer) {{\n",
       "    x.observe(notebookContainer, {childList: true});\n",
       "}}\n",
       "\n",
       "// Listen for the clearing of the current output cell\n",
       "var outputEl = gd.closest('.output');\n",
       "if (outputEl) {{\n",
       "    x.observe(outputEl, {childList: true});\n",
       "}}\n",
       "\n",
       "                        })                };                });            </script>        </div>"
      ]
     },
     "metadata": {},
     "output_type": "display_data"
    }
   ],
   "source": [
    "px.bar(df, x=\"date\", y=\"quantity\", color=\"product_line\", title=\"quantity_vs_product_line\")"
   ]
  },
  {
   "cell_type": "code",
   "execution_count": null,
   "metadata": {},
   "outputs": [],
   "source": []
  }
 ],
 "metadata": {
  "kernelspec": {
   "display_name": "Python 3",
   "language": "python",
   "name": "python3"
  },
  "language_info": {
   "codemirror_mode": {
    "name": "ipython",
    "version": 3
   },
   "file_extension": ".py",
   "mimetype": "text/x-python",
   "name": "python",
   "nbconvert_exporter": "python",
   "pygments_lexer": "ipython3",
   "version": "3.8.5"
  }
 },
 "nbformat": 4,
 "nbformat_minor": 4
}
