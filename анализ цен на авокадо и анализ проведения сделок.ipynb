{
 "cells": [
  {
   "cell_type": "markdown",
   "metadata": {},
   "source": [
    "1) Предположим, что Толя любит авокадо и решил посмотреть динамику цен на данный продукт в США. Имеется следующий набор данных от Hass Avocado Board 🥑:\n",
    "Date — дата\n",
    "- AveragePrice — средняя цена одного авокадо\n",
    "- Total Volume — количество проданных авокадо\n",
    "- 4046 — количество проданных авокадо PLU* 4046\n",
    "- 4225 — количество проданных авокадо PLU 4225\n",
    "- 4770 — количество проданных авокадо PLU 4770\n",
    "- Total Bags — всего упаковок\n",
    "- Small Bags — маленькие упаковки\n",
    "- Large Bags — большие\n",
    "- XLarge Bags — очень большие\n",
    "- type — обычный или органический\n",
    "- year — год\n",
    "- Region — город или регион the city or region of the observation\n",
    "\n",
    "*PLU — код товара (Product Lookup code)\n",
    "*В датафрейме находятся данные не за каждый день, а за конец каждой недели. Для каждой даты есть несколько наблюдений, отличающихся по типу авокадо и региону продажи. Предположим, что нас это разделение не интересует, поэтому в avocado_mean записаны агрегированные данные, где:\n",
    "avocado_mean = pd.read_csv(\"path\",\n",
    "                           index_col=0, squeeze=True, parse_dates=['Date'])\n",
    "\n",
    "                           Date\n",
    "                           2015-01-04    1.301296\n",
    "                           2015-01-11    1.370648\n",
    "                           2015-01-18    1.391111\n",
    "                           2015-01-25    1.397130\n",
    "                           2015-02-01    1.247037\n",
    "                           Name: AveragePrice, dtype: float64\n",
    "\n"
   ]
  },
  {
   "cell_type": "code",
   "execution_count": 16,
   "metadata": {},
   "outputs": [],
   "source": [
    "import pandas as pd\n",
    "import seaborn as sns\n",
    "import matplotlib.pyplot as plt"
   ]
  },
  {
   "cell_type": "code",
   "execution_count": 12,
   "metadata": {},
   "outputs": [],
   "source": [
    "avocado_mean = pd.read_csv(r\"C:\\Users\\avocado_mean.csv\",index_col=0,parse_dates=['Date'])"
   ]
  },
  {
   "cell_type": "code",
   "execution_count": 13,
   "metadata": {},
   "outputs": [
    {
     "data": {
      "text/html": [
       "<div>\n",
       "<style scoped>\n",
       "    .dataframe tbody tr th:only-of-type {\n",
       "        vertical-align: middle;\n",
       "    }\n",
       "\n",
       "    .dataframe tbody tr th {\n",
       "        vertical-align: top;\n",
       "    }\n",
       "\n",
       "    .dataframe thead th {\n",
       "        text-align: right;\n",
       "    }\n",
       "</style>\n",
       "<table border=\"1\" class=\"dataframe\">\n",
       "  <thead>\n",
       "    <tr style=\"text-align: right;\">\n",
       "      <th></th>\n",
       "      <th>AveragePrice</th>\n",
       "    </tr>\n",
       "    <tr>\n",
       "      <th>Date</th>\n",
       "      <th></th>\n",
       "    </tr>\n",
       "  </thead>\n",
       "  <tbody>\n",
       "    <tr>\n",
       "      <th>2015-01-04</th>\n",
       "      <td>1.301296</td>\n",
       "    </tr>\n",
       "    <tr>\n",
       "      <th>2015-01-11</th>\n",
       "      <td>1.370648</td>\n",
       "    </tr>\n",
       "    <tr>\n",
       "      <th>2015-01-18</th>\n",
       "      <td>1.391111</td>\n",
       "    </tr>\n",
       "    <tr>\n",
       "      <th>2015-01-25</th>\n",
       "      <td>1.397130</td>\n",
       "    </tr>\n",
       "    <tr>\n",
       "      <th>2015-02-01</th>\n",
       "      <td>1.247037</td>\n",
       "    </tr>\n",
       "    <tr>\n",
       "      <th>...</th>\n",
       "      <td>...</td>\n",
       "    </tr>\n",
       "    <tr>\n",
       "      <th>2018-02-25</th>\n",
       "      <td>1.359630</td>\n",
       "    </tr>\n",
       "    <tr>\n",
       "      <th>2018-03-04</th>\n",
       "      <td>1.350185</td>\n",
       "    </tr>\n",
       "    <tr>\n",
       "      <th>2018-03-11</th>\n",
       "      <td>1.335093</td>\n",
       "    </tr>\n",
       "    <tr>\n",
       "      <th>2018-03-18</th>\n",
       "      <td>1.313704</td>\n",
       "    </tr>\n",
       "    <tr>\n",
       "      <th>2018-03-25</th>\n",
       "      <td>1.346852</td>\n",
       "    </tr>\n",
       "  </tbody>\n",
       "</table>\n",
       "<p>169 rows × 1 columns</p>\n",
       "</div>"
      ],
      "text/plain": [
       "            AveragePrice\n",
       "Date                    \n",
       "2015-01-04      1.301296\n",
       "2015-01-11      1.370648\n",
       "2015-01-18      1.391111\n",
       "2015-01-25      1.397130\n",
       "2015-02-01      1.247037\n",
       "...                  ...\n",
       "2018-02-25      1.359630\n",
       "2018-03-04      1.350185\n",
       "2018-03-11      1.335093\n",
       "2018-03-18      1.313704\n",
       "2018-03-25      1.346852\n",
       "\n",
       "[169 rows x 1 columns]"
      ]
     },
     "execution_count": 13,
     "metadata": {},
     "output_type": "execute_result"
    }
   ],
   "source": [
    "avocado_mean"
   ]
  },
  {
   "cell_type": "markdown",
   "metadata": {},
   "source": [
    "2) Посчитайте скользящее среднее цены авокадо (AveragePrice) с окном равным 3 (window). Чему равно максимальное значение? Ответ округлите до 2 знаков после точки."
   ]
  },
  {
   "cell_type": "code",
   "execution_count": 15,
   "metadata": {},
   "outputs": [
    {
     "data": {
      "text/plain": [
       "1.8493209876543208"
      ]
     },
     "execution_count": 15,
     "metadata": {},
     "output_type": "execute_result"
    }
   ],
   "source": [
    "avocado_mean.AveragePrice.rolling(3).mean().max()\n",
    "#avocado_mean.AveragePrice.rolling(3,min_periods=1).mean().max()       если не хотим чтобы были пропущ значения в начале min_periods"
   ]
  },
  {
   "cell_type": "markdown",
   "metadata": {},
   "source": [
    "3) Отлично! Помимо авокадо, Толя любит смотреть на графики. Самое время посмотреть, как изменится график в зависимости от выбранного размера окна.\n",
    "Ваша задача — построить графики скользящего среднего с разными значениями параметра window (2, 4, 10, 50), посмотреть на изменения и соотнести приведенные ниже картинки с соответствующим значением размера окна. (task3.png)"
   ]
  },
  {
   "cell_type": "code",
   "execution_count": 22,
   "metadata": {},
   "outputs": [
    {
     "data": {
      "text/plain": [
       "<AxesSubplot:xlabel='Date'>"
      ]
     },
     "execution_count": 22,
     "metadata": {},
     "output_type": "execute_result"
    },
    {
     "data": {
      "image/png": "[encoded data removed]",
      "text/plain": [
       "<Figure size 432x288 with 1 Axes>"
      ]
     },
     "metadata": {
      "needs_background": "light"
     },
     "output_type": "display_data"
    }
   ],
   "source": [
    "avocado_mean.AveragePrice.rolling(10).mean().plot()"
   ]
  },
  {
   "cell_type": "markdown",
   "metadata": {},
   "source": [
    "4) ⭐️Задание со звёздочкой!⭐️\n",
    "​​​​Изучите параметры функций:\n",
    "- axis - по дефолту 0\n",
    "- center - используется центрированное скользящ среднее, по умолчанию False\n",
    "- closed - замкнутость, по умолчанию вправо\n",
    "- min_periods - мин количество наблюдений, необходимое для получения среднего значения\n",
    "- on\n",
    "- win_type - тип окна, по умолч равномерно взвеш\n",
    "- window -размер окна,т.е. количество наблюдений,по к считается среднее\n",
    "в документации https://pandas.pydata.org/pandas-docs/stable/reference/api/pandas.DataFrame.rolling.html и дайте характеристику каждой из вышеперечисленных."
   ]
  },
  {
   "cell_type": "markdown",
   "metadata": {},
   "source": [
    "5) ⭐️Задание со звёздочкой!⭐️\n",
    "\n",
    "Используйте агрегированные данные avocado_mean.csv о ценах на авокадо и примените функцию ewm() с параметром span=2, чтобы получить экспоненциальное скользящее среднее. Запишите результат в avocado_ewm.\n"
   ]
  },
  {
   "cell_type": "code",
   "execution_count": 39,
   "metadata": {},
   "outputs": [
    {
     "data": {
      "text/html": [
       "<div>\n",
       "<style scoped>\n",
       "    .dataframe tbody tr th:only-of-type {\n",
       "        vertical-align: middle;\n",
       "    }\n",
       "\n",
       "    .dataframe tbody tr th {\n",
       "        vertical-align: top;\n",
       "    }\n",
       "\n",
       "    .dataframe thead th {\n",
       "        text-align: right;\n",
       "    }\n",
       "</style>\n",
       "<table border=\"1\" class=\"dataframe\">\n",
       "  <thead>\n",
       "    <tr style=\"text-align: right;\">\n",
       "      <th></th>\n",
       "      <th>AveragePrice</th>\n",
       "    </tr>\n",
       "    <tr>\n",
       "      <th>Date</th>\n",
       "      <th></th>\n",
       "    </tr>\n",
       "  </thead>\n",
       "  <tbody>\n",
       "    <tr>\n",
       "      <th>2015-01-04</th>\n",
       "      <td>1.301296</td>\n",
       "    </tr>\n",
       "    <tr>\n",
       "      <th>2015-01-11</th>\n",
       "      <td>1.353310</td>\n",
       "    </tr>\n",
       "    <tr>\n",
       "      <th>2015-01-18</th>\n",
       "      <td>1.379480</td>\n",
       "    </tr>\n",
       "    <tr>\n",
       "      <th>2015-01-25</th>\n",
       "      <td>1.391394</td>\n",
       "    </tr>\n",
       "    <tr>\n",
       "      <th>2015-02-01</th>\n",
       "      <td>1.294758</td>\n",
       "    </tr>\n",
       "    <tr>\n",
       "      <th>...</th>\n",
       "      <td>...</td>\n",
       "    </tr>\n",
       "    <tr>\n",
       "      <th>2018-02-25</th>\n",
       "      <td>1.356212</td>\n",
       "    </tr>\n",
       "    <tr>\n",
       "      <th>2018-03-04</th>\n",
       "      <td>1.352194</td>\n",
       "    </tr>\n",
       "    <tr>\n",
       "      <th>2018-03-11</th>\n",
       "      <td>1.340793</td>\n",
       "    </tr>\n",
       "    <tr>\n",
       "      <th>2018-03-18</th>\n",
       "      <td>1.322734</td>\n",
       "    </tr>\n",
       "    <tr>\n",
       "      <th>2018-03-25</th>\n",
       "      <td>1.338812</td>\n",
       "    </tr>\n",
       "  </tbody>\n",
       "</table>\n",
       "<p>169 rows × 1 columns</p>\n",
       "</div>"
      ],
      "text/plain": [
       "            AveragePrice\n",
       "Date                    \n",
       "2015-01-04      1.301296\n",
       "2015-01-11      1.353310\n",
       "2015-01-18      1.379480\n",
       "2015-01-25      1.391394\n",
       "2015-02-01      1.294758\n",
       "...                  ...\n",
       "2018-02-25      1.356212\n",
       "2018-03-04      1.352194\n",
       "2018-03-11      1.340793\n",
       "2018-03-18      1.322734\n",
       "2018-03-25      1.338812\n",
       "\n",
       "[169 rows x 1 columns]"
      ]
     },
     "execution_count": 39,
     "metadata": {},
     "output_type": "execute_result"
    }
   ],
   "source": [
    "avocado_ewm=avocado_mean.ewm(span=2).mean() #больший вес наблюдениям, которые приходят позже\n",
    "#- экспоненциальное скользящее среднее\n",
    "avocado_ewm"
   ]
  },
  {
   "cell_type": "code",
   "execution_count": 45,
   "metadata": {
    "scrolled": true
   },
   "outputs": [
    {
     "data": {
      "text/html": [
       "<div>\n",
       "<style scoped>\n",
       "    .dataframe tbody tr th:only-of-type {\n",
       "        vertical-align: middle;\n",
       "    }\n",
       "\n",
       "    .dataframe tbody tr th {\n",
       "        vertical-align: top;\n",
       "    }\n",
       "\n",
       "    .dataframe thead th {\n",
       "        text-align: right;\n",
       "    }\n",
       "</style>\n",
       "<table border=\"1\" class=\"dataframe\">\n",
       "  <thead>\n",
       "    <tr style=\"text-align: right;\">\n",
       "      <th></th>\n",
       "      <th>AveragePrice</th>\n",
       "    </tr>\n",
       "    <tr>\n",
       "      <th>Date</th>\n",
       "      <th></th>\n",
       "    </tr>\n",
       "  </thead>\n",
       "  <tbody>\n",
       "    <tr>\n",
       "      <th>2015-01-04</th>\n",
       "      <td>1.301296</td>\n",
       "    </tr>\n",
       "    <tr>\n",
       "      <th>2015-01-11</th>\n",
       "      <td>1.370648</td>\n",
       "    </tr>\n",
       "    <tr>\n",
       "      <th>2015-01-18</th>\n",
       "      <td>1.391111</td>\n",
       "    </tr>\n",
       "    <tr>\n",
       "      <th>2015-01-25</th>\n",
       "      <td>1.397130</td>\n",
       "    </tr>\n",
       "    <tr>\n",
       "      <th>2015-02-01</th>\n",
       "      <td>1.247037</td>\n",
       "    </tr>\n",
       "    <tr>\n",
       "      <th>...</th>\n",
       "      <td>...</td>\n",
       "    </tr>\n",
       "    <tr>\n",
       "      <th>2018-02-25</th>\n",
       "      <td>1.359630</td>\n",
       "    </tr>\n",
       "    <tr>\n",
       "      <th>2018-03-04</th>\n",
       "      <td>1.350185</td>\n",
       "    </tr>\n",
       "    <tr>\n",
       "      <th>2018-03-11</th>\n",
       "      <td>1.335093</td>\n",
       "    </tr>\n",
       "    <tr>\n",
       "      <th>2018-03-18</th>\n",
       "      <td>1.313704</td>\n",
       "    </tr>\n",
       "    <tr>\n",
       "      <th>2018-03-25</th>\n",
       "      <td>1.346852</td>\n",
       "    </tr>\n",
       "  </tbody>\n",
       "</table>\n",
       "<p>169 rows × 1 columns</p>\n",
       "</div>"
      ],
      "text/plain": [
       "            AveragePrice\n",
       "Date                    \n",
       "2015-01-04      1.301296\n",
       "2015-01-11      1.370648\n",
       "2015-01-18      1.391111\n",
       "2015-01-25      1.397130\n",
       "2015-02-01      1.247037\n",
       "...                  ...\n",
       "2018-02-25      1.359630\n",
       "2018-03-04      1.350185\n",
       "2018-03-11      1.335093\n",
       "2018-03-18      1.313704\n",
       "2018-03-25      1.346852\n",
       "\n",
       "[169 rows x 1 columns]"
      ]
     },
     "execution_count": 45,
     "metadata": {},
     "output_type": "execute_result"
    }
   ],
   "source": [
    "avocado_mean.expanding().mean() #нарастает, захватывает 1 наблюдение и прибавляет по одному, \n",
    "#считает их среднее и до конца датафрейма увеличивет для подсчета среднегоб расширяющееся\n",
    "avocado_mean"
   ]
  },
  {
   "cell_type": "markdown",
   "metadata": {},
   "source": [
    "\n",
    "6) ⭐️Задание со звёздочкой!⭐️\n",
    "И еще один стэп, чтобы закрепить материал. Импортируйте полные данные, (avocado_full.csv) указав index_col=0 (использовать первую колонку как индекс).\n",
    "Для авокадо типа organic (type) в Чикаго (region) посчитайте скользящее среднее с окном 4 и экспоненциальное скользящее среднее с параметром span=4. Постройте графики, а затем заполните пропуски. Числа округлите до трех знаков после точки.\n"
   ]
  },
  {
   "cell_type": "code",
   "execution_count": 41,
   "metadata": {},
   "outputs": [],
   "source": [
    "avocado_full = pd.read_csv(r\"C:\\Users\\Леруся\\Desktop\\[freekurses.com] 6\\[freekurses.com] Задания\\avocado_full.csv\",index_col=0,parse_dates=['Date'])"
   ]
  },
  {
   "cell_type": "code",
   "execution_count": 42,
   "metadata": {},
   "outputs": [
    {
     "data": {
      "text/html": [
       "<div>\n",
       "<style scoped>\n",
       "    .dataframe tbody tr th:only-of-type {\n",
       "        vertical-align: middle;\n",
       "    }\n",
       "\n",
       "    .dataframe tbody tr th {\n",
       "        vertical-align: top;\n",
       "    }\n",
       "\n",
       "    .dataframe thead th {\n",
       "        text-align: right;\n",
       "    }\n",
       "</style>\n",
       "<table border=\"1\" class=\"dataframe\">\n",
       "  <thead>\n",
       "    <tr style=\"text-align: right;\">\n",
       "      <th></th>\n",
       "      <th>AveragePrice</th>\n",
       "      <th>Total Volume</th>\n",
       "      <th>4046</th>\n",
       "      <th>4225</th>\n",
       "      <th>4770</th>\n",
       "      <th>Total Bags</th>\n",
       "      <th>Small Bags</th>\n",
       "      <th>Large Bags</th>\n",
       "      <th>XLarge Bags</th>\n",
       "      <th>type</th>\n",
       "      <th>year</th>\n",
       "      <th>region</th>\n",
       "    </tr>\n",
       "    <tr>\n",
       "      <th>Date</th>\n",
       "      <th></th>\n",
       "      <th></th>\n",
       "      <th></th>\n",
       "      <th></th>\n",
       "      <th></th>\n",
       "      <th></th>\n",
       "      <th></th>\n",
       "      <th></th>\n",
       "      <th></th>\n",
       "      <th></th>\n",
       "      <th></th>\n",
       "      <th></th>\n",
       "    </tr>\n",
       "  </thead>\n",
       "  <tbody>\n",
       "    <tr>\n",
       "      <th>2015-01-04</th>\n",
       "      <td>1.75</td>\n",
       "      <td>27365.89</td>\n",
       "      <td>9307.34</td>\n",
       "      <td>3844.81</td>\n",
       "      <td>615.28</td>\n",
       "      <td>13598.46</td>\n",
       "      <td>13061.10</td>\n",
       "      <td>537.36</td>\n",
       "      <td>0.0</td>\n",
       "      <td>organic</td>\n",
       "      <td>2015</td>\n",
       "      <td>Southeast</td>\n",
       "    </tr>\n",
       "    <tr>\n",
       "      <th>2015-01-04</th>\n",
       "      <td>1.49</td>\n",
       "      <td>17723.17</td>\n",
       "      <td>1189.35</td>\n",
       "      <td>15628.27</td>\n",
       "      <td>0.00</td>\n",
       "      <td>905.55</td>\n",
       "      <td>905.55</td>\n",
       "      <td>0.00</td>\n",
       "      <td>0.0</td>\n",
       "      <td>organic</td>\n",
       "      <td>2015</td>\n",
       "      <td>Chicago</td>\n",
       "    </tr>\n",
       "    <tr>\n",
       "      <th>2015-01-04</th>\n",
       "      <td>1.68</td>\n",
       "      <td>2896.72</td>\n",
       "      <td>161.68</td>\n",
       "      <td>206.96</td>\n",
       "      <td>0.00</td>\n",
       "      <td>2528.08</td>\n",
       "      <td>2528.08</td>\n",
       "      <td>0.00</td>\n",
       "      <td>0.0</td>\n",
       "      <td>organic</td>\n",
       "      <td>2015</td>\n",
       "      <td>HarrisburgScranton</td>\n",
       "    </tr>\n",
       "    <tr>\n",
       "      <th>2015-01-04</th>\n",
       "      <td>1.52</td>\n",
       "      <td>54956.80</td>\n",
       "      <td>3013.04</td>\n",
       "      <td>35456.88</td>\n",
       "      <td>1561.70</td>\n",
       "      <td>14925.18</td>\n",
       "      <td>11264.80</td>\n",
       "      <td>3660.38</td>\n",
       "      <td>0.0</td>\n",
       "      <td>conventional</td>\n",
       "      <td>2015</td>\n",
       "      <td>Pittsburgh</td>\n",
       "    </tr>\n",
       "    <tr>\n",
       "      <th>2015-01-04</th>\n",
       "      <td>1.64</td>\n",
       "      <td>1505.12</td>\n",
       "      <td>1.27</td>\n",
       "      <td>1129.50</td>\n",
       "      <td>0.00</td>\n",
       "      <td>374.35</td>\n",
       "      <td>186.67</td>\n",
       "      <td>187.68</td>\n",
       "      <td>0.0</td>\n",
       "      <td>organic</td>\n",
       "      <td>2015</td>\n",
       "      <td>Boise</td>\n",
       "    </tr>\n",
       "  </tbody>\n",
       "</table>\n",
       "</div>"
      ],
      "text/plain": [
       "            AveragePrice  Total Volume     4046      4225     4770  \\\n",
       "Date                                                                 \n",
       "2015-01-04          1.75      27365.89  9307.34   3844.81   615.28   \n",
       "2015-01-04          1.49      17723.17  1189.35  15628.27     0.00   \n",
       "2015-01-04          1.68       2896.72   161.68    206.96     0.00   \n",
       "2015-01-04          1.52      54956.80  3013.04  35456.88  1561.70   \n",
       "2015-01-04          1.64       1505.12     1.27   1129.50     0.00   \n",
       "\n",
       "            Total Bags  Small Bags  Large Bags  XLarge Bags          type  \\\n",
       "Date                                                                        \n",
       "2015-01-04    13598.46    13061.10      537.36          0.0       organic   \n",
       "2015-01-04      905.55      905.55        0.00          0.0       organic   \n",
       "2015-01-04     2528.08     2528.08        0.00          0.0       organic   \n",
       "2015-01-04    14925.18    11264.80     3660.38          0.0  conventional   \n",
       "2015-01-04      374.35      186.67      187.68          0.0       organic   \n",
       "\n",
       "            year              region  \n",
       "Date                                  \n",
       "2015-01-04  2015           Southeast  \n",
       "2015-01-04  2015             Chicago  \n",
       "2015-01-04  2015  HarrisburgScranton  \n",
       "2015-01-04  2015          Pittsburgh  \n",
       "2015-01-04  2015               Boise  "
      ]
     },
     "execution_count": 42,
     "metadata": {},
     "output_type": "execute_result"
    }
   ],
   "source": [
    "avocado_full.head()"
   ]
  },
  {
   "cell_type": "code",
   "execution_count": 51,
   "metadata": {},
   "outputs": [],
   "source": [
    "avocado_full['rolling']=avocado_full.query('type==\"organic\" and region==\"Chicago\"').AveragePrice.rolling(4).mean()\n",
    "avocado_full['ewm']=avocado_full.query('type==\"organic\" and region==\"Chicago\"').AveragePrice.ewm(span=4).mean()"
   ]
  },
  {
   "cell_type": "code",
   "execution_count": 53,
   "metadata": {},
   "outputs": [
    {
     "data": {
      "text/plain": [
       "<AxesSubplot:xlabel='Date'>"
      ]
     },
     "execution_count": 53,
     "metadata": {},
     "output_type": "execute_result"
    },
    {
     "data": {
      "image/png": "[encoded data removed]",
      "text/plain": [
       "<Figure size 864x576 with 1 Axes>"
      ]
     },
     "metadata": {
      "needs_background": "light"
     },
     "output_type": "display_data"
    }
   ],
   "source": [
    "avocado_full[['rolling','ewm']].plot(figsize=(12,8))"
   ]
  },
  {
   "cell_type": "code",
   "execution_count": 56,
   "metadata": {},
   "outputs": [
    {
     "data": {
      "text/plain": [
       "rolling     NaN\n",
       "ewm        1.49\n",
       "Name: 2015-01-04 00:00:00, dtype: object"
      ]
     },
     "execution_count": 56,
     "metadata": {},
     "output_type": "execute_result"
    }
   ],
   "source": [
    "avocado_full.query('type==\"organic\" and region==\"Chicago\"').loc['2015-01-04',['rolling','ewm']] #параметры за дату 2015-01-04 у двух колонок"
   ]
  },
  {
   "cell_type": "markdown",
   "metadata": {},
   "source": [
    "\n",
    "7) 💀 Сложное задание! 💀\n",
    "Далее будем работать с данными по опозданиям в заключении сделок!\n",
    "В файле delays находится информация о том какие компании с кем и на какую сумму заключали сделки, а самое важное – насколько они при этом опоздали. Вот сабсэт данных\n",
    "\n",
    " \t\tclient_idcompany_id\tdelay\t\trevenue\n",
    " \t0\t2389\t4240\t-1 days -14:57:48.000000000\t705436\n",
    " \t1\t7614\t9544\t-4 days -02:14:23.000000000\t859266\n",
    " \t2\t2052\t2427\t-0 days -06:08:57.000000000\t812416\n",
    " \t3\t9635\t8054\t-0 days -23:40:19.000000000\t162312\n",
    " \t4\t8154\t5503\t-1 days -13:21:53.000000000\t658844\n",
    "\n",
    "Сначала давайте переведём delay в timedelta формат. Обратите внимание, что так просто столбец не переведётся – нужно будет убрать -. Сохраните данные в переменную df, отформатируйте колонку нужным способом (подсказка – уберите -) и переведите её в тип timedelta.\n",
    "Могут понадобиться:\n",
    "pd.to_timedelta()\n",
    "pd.Series.str\n",
    "\n"
   ]
  },
  {
   "cell_type": "code",
   "execution_count": 57,
   "metadata": {},
   "outputs": [],
   "source": [
    "delays = pd.read_csv(r\"C:\\Users\\delays.csv\")"
   ]
  },
  {
   "cell_type": "code",
   "execution_count": 58,
   "metadata": {},
   "outputs": [
    {
     "data": {
      "text/html": [
       "<div>\n",
       "<style scoped>\n",
       "    .dataframe tbody tr th:only-of-type {\n",
       "        vertical-align: middle;\n",
       "    }\n",
       "\n",
       "    .dataframe tbody tr th {\n",
       "        vertical-align: top;\n",
       "    }\n",
       "\n",
       "    .dataframe thead th {\n",
       "        text-align: right;\n",
       "    }\n",
       "</style>\n",
       "<table border=\"1\" class=\"dataframe\">\n",
       "  <thead>\n",
       "    <tr style=\"text-align: right;\">\n",
       "      <th></th>\n",
       "      <th>client_id</th>\n",
       "      <th>company_id</th>\n",
       "      <th>delay</th>\n",
       "      <th>revenue</th>\n",
       "    </tr>\n",
       "  </thead>\n",
       "  <tbody>\n",
       "    <tr>\n",
       "      <th>0</th>\n",
       "      <td>2389</td>\n",
       "      <td>4240</td>\n",
       "      <td>-1 days -14:57:48.000000000</td>\n",
       "      <td>705436</td>\n",
       "    </tr>\n",
       "    <tr>\n",
       "      <th>1</th>\n",
       "      <td>7614</td>\n",
       "      <td>9544</td>\n",
       "      <td>-4 days -02:14:23.000000000</td>\n",
       "      <td>859266</td>\n",
       "    </tr>\n",
       "    <tr>\n",
       "      <th>2</th>\n",
       "      <td>2052</td>\n",
       "      <td>2427</td>\n",
       "      <td>-0 days -06:08:57.000000000</td>\n",
       "      <td>812416</td>\n",
       "    </tr>\n",
       "    <tr>\n",
       "      <th>3</th>\n",
       "      <td>9635</td>\n",
       "      <td>8054</td>\n",
       "      <td>-0 days -23:40:19.000000000</td>\n",
       "      <td>162312</td>\n",
       "    </tr>\n",
       "    <tr>\n",
       "      <th>4</th>\n",
       "      <td>8154</td>\n",
       "      <td>5503</td>\n",
       "      <td>-1 days -13:21:53.000000000</td>\n",
       "      <td>658844</td>\n",
       "    </tr>\n",
       "  </tbody>\n",
       "</table>\n",
       "</div>"
      ],
      "text/plain": [
       "   client_id  company_id                        delay  revenue\n",
       "0       2389        4240  -1 days -14:57:48.000000000   705436\n",
       "1       7614        9544  -4 days -02:14:23.000000000   859266\n",
       "2       2052        2427  -0 days -06:08:57.000000000   812416\n",
       "3       9635        8054  -0 days -23:40:19.000000000   162312\n",
       "4       8154        5503  -1 days -13:21:53.000000000   658844"
      ]
     },
     "execution_count": 58,
     "metadata": {},
     "output_type": "execute_result"
    }
   ],
   "source": [
    "delays.head()"
   ]
  },
  {
   "cell_type": "code",
   "execution_count": 62,
   "metadata": {},
   "outputs": [],
   "source": [
    "delays['delay']=pd.to_timedelta(delays.delay.str.replace('-',''))#убираем -в датах и переводим в timedelta"
   ]
  },
  {
   "cell_type": "markdown",
   "metadata": {},
   "source": [
    "8) Время это хорошо, но хотелось бы также разбить его на промежутки. Разбейте время на 3 интервала и поместите соответствующие значения в колонку delay_categorical\n",
    "Могут понадобится:\n",
    "pd.cut()\n",
    "\n"
   ]
  },
  {
   "cell_type": "code",
   "execution_count": 66,
   "metadata": {},
   "outputs": [
    {
     "data": {
      "text/html": [
       "<div>\n",
       "<style scoped>\n",
       "    .dataframe tbody tr th:only-of-type {\n",
       "        vertical-align: middle;\n",
       "    }\n",
       "\n",
       "    .dataframe tbody tr th {\n",
       "        vertical-align: top;\n",
       "    }\n",
       "\n",
       "    .dataframe thead th {\n",
       "        text-align: right;\n",
       "    }\n",
       "</style>\n",
       "<table border=\"1\" class=\"dataframe\">\n",
       "  <thead>\n",
       "    <tr style=\"text-align: right;\">\n",
       "      <th></th>\n",
       "      <th>client_id</th>\n",
       "      <th>company_id</th>\n",
       "      <th>delay</th>\n",
       "      <th>revenue</th>\n",
       "      <th>delay_categorical</th>\n",
       "    </tr>\n",
       "  </thead>\n",
       "  <tbody>\n",
       "    <tr>\n",
       "      <th>0</th>\n",
       "      <td>2389</td>\n",
       "      <td>4240</td>\n",
       "      <td>1 days 14:57:48</td>\n",
       "      <td>705436</td>\n",
       "      <td>(0 days 00:27:11.587000, 1 days 16:19:58.66666...</td>\n",
       "    </tr>\n",
       "    <tr>\n",
       "      <th>1</th>\n",
       "      <td>7614</td>\n",
       "      <td>9544</td>\n",
       "      <td>4 days 02:14:23</td>\n",
       "      <td>859266</td>\n",
       "      <td>(3 days 08:05:36.333333333, 4 days 23:51:14]</td>\n",
       "    </tr>\n",
       "    <tr>\n",
       "      <th>2</th>\n",
       "      <td>2052</td>\n",
       "      <td>2427</td>\n",
       "      <td>0 days 06:08:57</td>\n",
       "      <td>812416</td>\n",
       "      <td>(0 days 00:27:11.587000, 1 days 16:19:58.66666...</td>\n",
       "    </tr>\n",
       "    <tr>\n",
       "      <th>3</th>\n",
       "      <td>9635</td>\n",
       "      <td>8054</td>\n",
       "      <td>0 days 23:40:19</td>\n",
       "      <td>162312</td>\n",
       "      <td>(0 days 00:27:11.587000, 1 days 16:19:58.66666...</td>\n",
       "    </tr>\n",
       "    <tr>\n",
       "      <th>4</th>\n",
       "      <td>8154</td>\n",
       "      <td>5503</td>\n",
       "      <td>1 days 13:21:53</td>\n",
       "      <td>658844</td>\n",
       "      <td>(0 days 00:27:11.587000, 1 days 16:19:58.66666...</td>\n",
       "    </tr>\n",
       "    <tr>\n",
       "      <th>...</th>\n",
       "      <td>...</td>\n",
       "      <td>...</td>\n",
       "      <td>...</td>\n",
       "      <td>...</td>\n",
       "      <td>...</td>\n",
       "    </tr>\n",
       "    <tr>\n",
       "      <th>259</th>\n",
       "      <td>5837</td>\n",
       "      <td>2617</td>\n",
       "      <td>0 days 05:32:08</td>\n",
       "      <td>602129</td>\n",
       "      <td>(0 days 00:27:11.587000, 1 days 16:19:58.66666...</td>\n",
       "    </tr>\n",
       "    <tr>\n",
       "      <th>260</th>\n",
       "      <td>2384</td>\n",
       "      <td>2364</td>\n",
       "      <td>3 days 23:27:14</td>\n",
       "      <td>910660</td>\n",
       "      <td>(3 days 08:05:36.333333333, 4 days 23:51:14]</td>\n",
       "    </tr>\n",
       "    <tr>\n",
       "      <th>261</th>\n",
       "      <td>5146</td>\n",
       "      <td>3331</td>\n",
       "      <td>1 days 15:22:34</td>\n",
       "      <td>401137</td>\n",
       "      <td>(0 days 00:27:11.587000, 1 days 16:19:58.66666...</td>\n",
       "    </tr>\n",
       "    <tr>\n",
       "      <th>262</th>\n",
       "      <td>7203</td>\n",
       "      <td>5532</td>\n",
       "      <td>2 days 17:15:02</td>\n",
       "      <td>308979</td>\n",
       "      <td>(1 days 16:19:58.666666666, 3 days 08:05:36.33...</td>\n",
       "    </tr>\n",
       "    <tr>\n",
       "      <th>263</th>\n",
       "      <td>3822</td>\n",
       "      <td>9882</td>\n",
       "      <td>1 days 15:50:29</td>\n",
       "      <td>877773</td>\n",
       "      <td>(0 days 00:27:11.587000, 1 days 16:19:58.66666...</td>\n",
       "    </tr>\n",
       "  </tbody>\n",
       "</table>\n",
       "<p>264 rows × 5 columns</p>\n",
       "</div>"
      ],
      "text/plain": [
       "     client_id  company_id           delay  revenue  \\\n",
       "0         2389        4240 1 days 14:57:48   705436   \n",
       "1         7614        9544 4 days 02:14:23   859266   \n",
       "2         2052        2427 0 days 06:08:57   812416   \n",
       "3         9635        8054 0 days 23:40:19   162312   \n",
       "4         8154        5503 1 days 13:21:53   658844   \n",
       "..         ...         ...             ...      ...   \n",
       "259       5837        2617 0 days 05:32:08   602129   \n",
       "260       2384        2364 3 days 23:27:14   910660   \n",
       "261       5146        3331 1 days 15:22:34   401137   \n",
       "262       7203        5532 2 days 17:15:02   308979   \n",
       "263       3822        9882 1 days 15:50:29   877773   \n",
       "\n",
       "                                     delay_categorical  \n",
       "0    (0 days 00:27:11.587000, 1 days 16:19:58.66666...  \n",
       "1         (3 days 08:05:36.333333333, 4 days 23:51:14]  \n",
       "2    (0 days 00:27:11.587000, 1 days 16:19:58.66666...  \n",
       "3    (0 days 00:27:11.587000, 1 days 16:19:58.66666...  \n",
       "4    (0 days 00:27:11.587000, 1 days 16:19:58.66666...  \n",
       "..                                                 ...  \n",
       "259  (0 days 00:27:11.587000, 1 days 16:19:58.66666...  \n",
       "260       (3 days 08:05:36.333333333, 4 days 23:51:14]  \n",
       "261  (0 days 00:27:11.587000, 1 days 16:19:58.66666...  \n",
       "262  (1 days 16:19:58.666666666, 3 days 08:05:36.33...  \n",
       "263  (0 days 00:27:11.587000, 1 days 16:19:58.66666...  \n",
       "\n",
       "[264 rows x 5 columns]"
      ]
     },
     "execution_count": 66,
     "metadata": {},
     "output_type": "execute_result"
    }
   ],
   "source": [
    "delays['delay_categorical']=pd.cut(delays['delay'],\n",
    "      bins=3)#разбиваем на 3 промежутка\n",
    "delays"
   ]
  },
  {
   "cell_type": "code",
   "execution_count": null,
   "metadata": {},
   "outputs": [],
   "source": [
    "9) 💀 Сложное задание! 💀\n",
    "Разбилось конечно неплохо, но хочется чуть более целые значения и более человеческие названия. В этом нам помогут аргументы функции pd.cut! Перезадайте колонку delay_categorical, чтобы значения в ней были\n",
    "'less than 1 day' – время от 0 до 1 дня\n",
    "'1-2 days' – от 1 до 2 дней\n",
    "'2-3 days' – от 2 до 3 дней\n",
    "'more than 3 days' – больше 3 дней\n",
    "Например, для следующего примера\n",
    "client_id  company_id  delay            revenue\n",
    "14345      54631       2 days 13:34:45  145345\n",
    "54434      54834       1 days 08:26:00  453245\n",
    "34905      49834       0 days 00:26:03  14543\n",
    "результом будет\n",
    "client_id  company_id  delay            revenue  delay_categorical\n",
    "14345      54631       2 days 13:34:45  145345   2-3 days\n",
    "54434      54834       1 days 08:26:00  453245   1-2 days\n",
    "34905      49834       0 days 00:26:03  14543    less than 1 day\n",
    "Могут понадобится:\n",
    "pd.cut()\n",
    "pd.to_timedelta()"
   ]
  },
  {
   "cell_type": "code",
   "execution_count": 68,
   "metadata": {},
   "outputs": [],
   "source": [
    "bins=[pd.to_timedelta('0d'),\n",
    "     pd.to_timedelta('1d'), #получается 4 интервала 0-1 день, 1-2 дня,2-3 дня, больше 3дней \n",
    "     pd.to_timedelta('2d'),\n",
    "     pd.to_timedelta('3d'),\n",
    "     pd.to_timedelta('100d')] #увеличили промежуток, чтобы все значения больше 3 дней точно попали в него"
   ]
  },
  {
   "cell_type": "code",
   "execution_count": 69,
   "metadata": {},
   "outputs": [],
   "source": [
    "labels=['less than 1 day',\n",
    "        '1-2 days',\n",
    "        '2-3 days',\n",
    "        'more than 3 days']"
   ]
  },
  {
   "cell_type": "code",
   "execution_count": 70,
   "metadata": {},
   "outputs": [],
   "source": [
    "delays['delay_categorical']=pd.cut(delays['delay'],\n",
    "      bins=bins,\n",
    "    labels=labels )"
   ]
  },
  {
   "cell_type": "code",
   "execution_count": 74,
   "metadata": {},
   "outputs": [
    {
     "data": {
      "text/html": [
       "<div>\n",
       "<style scoped>\n",
       "    .dataframe tbody tr th:only-of-type {\n",
       "        vertical-align: middle;\n",
       "    }\n",
       "\n",
       "    .dataframe tbody tr th {\n",
       "        vertical-align: top;\n",
       "    }\n",
       "\n",
       "    .dataframe thead th {\n",
       "        text-align: right;\n",
       "    }\n",
       "</style>\n",
       "<table border=\"1\" class=\"dataframe\">\n",
       "  <thead>\n",
       "    <tr style=\"text-align: right;\">\n",
       "      <th></th>\n",
       "      <th>client_id</th>\n",
       "      <th>company_id</th>\n",
       "      <th>delay</th>\n",
       "      <th>revenue</th>\n",
       "      <th>delay_categorical</th>\n",
       "    </tr>\n",
       "  </thead>\n",
       "  <tbody>\n",
       "    <tr>\n",
       "      <th>0</th>\n",
       "      <td>2389</td>\n",
       "      <td>4240</td>\n",
       "      <td>1 days 14:57:48</td>\n",
       "      <td>705436</td>\n",
       "      <td>1-2 days</td>\n",
       "    </tr>\n",
       "    <tr>\n",
       "      <th>1</th>\n",
       "      <td>7614</td>\n",
       "      <td>9544</td>\n",
       "      <td>4 days 02:14:23</td>\n",
       "      <td>859266</td>\n",
       "      <td>more than 3 days</td>\n",
       "    </tr>\n",
       "    <tr>\n",
       "      <th>2</th>\n",
       "      <td>2052</td>\n",
       "      <td>2427</td>\n",
       "      <td>0 days 06:08:57</td>\n",
       "      <td>812416</td>\n",
       "      <td>less than 1 day</td>\n",
       "    </tr>\n",
       "    <tr>\n",
       "      <th>3</th>\n",
       "      <td>9635</td>\n",
       "      <td>8054</td>\n",
       "      <td>0 days 23:40:19</td>\n",
       "      <td>162312</td>\n",
       "      <td>less than 1 day</td>\n",
       "    </tr>\n",
       "    <tr>\n",
       "      <th>4</th>\n",
       "      <td>8154</td>\n",
       "      <td>5503</td>\n",
       "      <td>1 days 13:21:53</td>\n",
       "      <td>658844</td>\n",
       "      <td>1-2 days</td>\n",
       "    </tr>\n",
       "  </tbody>\n",
       "</table>\n",
       "</div>"
      ],
      "text/plain": [
       "   client_id  company_id           delay  revenue delay_categorical\n",
       "0       2389        4240 1 days 14:57:48   705436          1-2 days\n",
       "1       7614        9544 4 days 02:14:23   859266  more than 3 days\n",
       "2       2052        2427 0 days 06:08:57   812416   less than 1 day\n",
       "3       9635        8054 0 days 23:40:19   162312   less than 1 day\n",
       "4       8154        5503 1 days 13:21:53   658844          1-2 days"
      ]
     },
     "execution_count": 74,
     "metadata": {},
     "output_type": "execute_result"
    }
   ],
   "source": [
    "delays.head()"
   ]
  },
  {
   "cell_type": "code",
   "execution_count": null,
   "metadata": {},
   "outputs": [],
   "source": []
  },
  {
   "cell_type": "code",
   "execution_count": null,
   "metadata": {},
   "outputs": [],
   "source": [
    "10) Прекрасно! Теперь постройте интерактивный барплот с тем, насколько часто задерживаются сделки, выясните самый редкий и самый частый варианты"
   ]
  },
  {
   "cell_type": "code",
   "execution_count": 82,
   "metadata": {},
   "outputs": [
    {
     "data": {
      "text/html": [
       "<div>\n",
       "<style scoped>\n",
       "    .dataframe tbody tr th:only-of-type {\n",
       "        vertical-align: middle;\n",
       "    }\n",
       "\n",
       "    .dataframe tbody tr th {\n",
       "        vertical-align: top;\n",
       "    }\n",
       "\n",
       "    .dataframe thead th {\n",
       "        text-align: right;\n",
       "    }\n",
       "</style>\n",
       "<table border=\"1\" class=\"dataframe\">\n",
       "  <thead>\n",
       "    <tr style=\"text-align: right;\">\n",
       "      <th></th>\n",
       "      <th>delay_categorical</th>\n",
       "      <th>company_id</th>\n",
       "    </tr>\n",
       "  </thead>\n",
       "  <tbody>\n",
       "    <tr>\n",
       "      <th>0</th>\n",
       "      <td>less than 1 day</td>\n",
       "      <td>59</td>\n",
       "    </tr>\n",
       "    <tr>\n",
       "      <th>1</th>\n",
       "      <td>1-2 days</td>\n",
       "      <td>51</td>\n",
       "    </tr>\n",
       "    <tr>\n",
       "      <th>2</th>\n",
       "      <td>2-3 days</td>\n",
       "      <td>47</td>\n",
       "    </tr>\n",
       "    <tr>\n",
       "      <th>3</th>\n",
       "      <td>more than 3 days</td>\n",
       "      <td>107</td>\n",
       "    </tr>\n",
       "  </tbody>\n",
       "</table>\n",
       "</div>"
      ],
      "text/plain": [
       "  delay_categorical  company_id\n",
       "0   less than 1 day          59\n",
       "1          1-2 days          51\n",
       "2          2-3 days          47\n",
       "3  more than 3 days         107"
      ]
     },
     "execution_count": 82,
     "metadata": {},
     "output_type": "execute_result"
    }
   ],
   "source": [
    "delays_count=delays.groupby('delay_categorical',as_index=False)\\\n",
    "    .agg({'company_id':'count'})\n",
    "delays_count"
   ]
  },
  {
   "cell_type": "code",
   "execution_count": 83,
   "metadata": {},
   "outputs": [
    {
     "data": {
      "text/plain": [
       "<AxesSubplot:xlabel='delay_categorical', ylabel='company_id'>"
      ]
     },
     "execution_count": 83,
     "metadata": {},
     "output_type": "execute_result"
    },
    {
     "data": {
      "image/png": "[encoded data removed]",
      "text/plain": [
       "<Figure size 432x288 with 1 Axes>"
      ]
     },
     "metadata": {
      "needs_background": "light"
     },
     "output_type": "display_data"
    }
   ],
   "source": [
    "sns.barplot(x='delay_categorical',y='company_id',data=delays_count)"
   ]
  },
  {
   "cell_type": "code",
   "execution_count": null,
   "metadata": {},
   "outputs": [],
   "source": []
  }
 ],
 "metadata": {
  "kernelspec": {
   "display_name": "Python 3",
   "language": "python",
   "name": "python3"
  },
  "language_info": {
   "codemirror_mode": {
    "name": "ipython",
    "version": 3
   },
   "file_extension": ".py",
   "mimetype": "text/x-python",
   "name": "python",
   "nbconvert_exporter": "python",
   "pygments_lexer": "ipython3",
   "version": "3.8.5"
  }
 },
 "nbformat": 4,
 "nbformat_minor": 4
}
